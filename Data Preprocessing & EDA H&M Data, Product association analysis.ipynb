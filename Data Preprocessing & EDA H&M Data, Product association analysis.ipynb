{
 "cells": [
  {
   "cell_type": "code",
   "execution_count": 1,
   "metadata": {},
   "outputs": [],
   "source": [
    "import pandas as pd\n",
    "import os"
   ]
  },
  {
   "cell_type": "code",
   "execution_count": 2,
   "metadata": {},
   "outputs": [],
   "source": [
    "import seaborn as sns\n",
    "import numpy as np\n",
    "import random"
   ]
  },
  {
   "cell_type": "code",
   "execution_count": 5,
   "metadata": {},
   "outputs": [],
   "source": [
    "transactions = pd.read_csv(\"C:/Users/ASUS/Documents/Exeter MSc in BA Learning/Business Project/H&M Dataset/transactions_train.csv\")"
   ]
  },
  {
   "cell_type": "code",
   "execution_count": 6,
   "metadata": {},
   "outputs": [
    {
     "data": {
      "text/html": [
       "<div>\n",
       "<style scoped>\n",
       "    .dataframe tbody tr th:only-of-type {\n",
       "        vertical-align: middle;\n",
       "    }\n",
       "\n",
       "    .dataframe tbody tr th {\n",
       "        vertical-align: top;\n",
       "    }\n",
       "\n",
       "    .dataframe thead th {\n",
       "        text-align: right;\n",
       "    }\n",
       "</style>\n",
       "<table border=\"1\" class=\"dataframe\">\n",
       "  <thead>\n",
       "    <tr style=\"text-align: right;\">\n",
       "      <th></th>\n",
       "      <th>t_dat</th>\n",
       "      <th>customer_id</th>\n",
       "      <th>article_id</th>\n",
       "      <th>price</th>\n",
       "      <th>sales_channel_id</th>\n",
       "    </tr>\n",
       "  </thead>\n",
       "  <tbody>\n",
       "    <tr>\n",
       "      <th>0</th>\n",
       "      <td>2018-09-20</td>\n",
       "      <td>000058a12d5b43e67d225668fa1f8d618c13dc232df0ca...</td>\n",
       "      <td>663713001</td>\n",
       "      <td>0.050831</td>\n",
       "      <td>2</td>\n",
       "    </tr>\n",
       "    <tr>\n",
       "      <th>1</th>\n",
       "      <td>2018-09-20</td>\n",
       "      <td>000058a12d5b43e67d225668fa1f8d618c13dc232df0ca...</td>\n",
       "      <td>541518023</td>\n",
       "      <td>0.030492</td>\n",
       "      <td>2</td>\n",
       "    </tr>\n",
       "    <tr>\n",
       "      <th>2</th>\n",
       "      <td>2018-09-20</td>\n",
       "      <td>00007d2de826758b65a93dd24ce629ed66842531df6699...</td>\n",
       "      <td>505221004</td>\n",
       "      <td>0.015237</td>\n",
       "      <td>2</td>\n",
       "    </tr>\n",
       "    <tr>\n",
       "      <th>3</th>\n",
       "      <td>2018-09-20</td>\n",
       "      <td>00007d2de826758b65a93dd24ce629ed66842531df6699...</td>\n",
       "      <td>685687003</td>\n",
       "      <td>0.016932</td>\n",
       "      <td>2</td>\n",
       "    </tr>\n",
       "    <tr>\n",
       "      <th>4</th>\n",
       "      <td>2018-09-20</td>\n",
       "      <td>00007d2de826758b65a93dd24ce629ed66842531df6699...</td>\n",
       "      <td>685687004</td>\n",
       "      <td>0.016932</td>\n",
       "      <td>2</td>\n",
       "    </tr>\n",
       "  </tbody>\n",
       "</table>\n",
       "</div>"
      ],
      "text/plain": [
       "        t_dat                                        customer_id  article_id  \\\n",
       "0  2018-09-20  000058a12d5b43e67d225668fa1f8d618c13dc232df0ca...   663713001   \n",
       "1  2018-09-20  000058a12d5b43e67d225668fa1f8d618c13dc232df0ca...   541518023   \n",
       "2  2018-09-20  00007d2de826758b65a93dd24ce629ed66842531df6699...   505221004   \n",
       "3  2018-09-20  00007d2de826758b65a93dd24ce629ed66842531df6699...   685687003   \n",
       "4  2018-09-20  00007d2de826758b65a93dd24ce629ed66842531df6699...   685687004   \n",
       "\n",
       "      price  sales_channel_id  \n",
       "0  0.050831                 2  \n",
       "1  0.030492                 2  \n",
       "2  0.015237                 2  \n",
       "3  0.016932                 2  \n",
       "4  0.016932                 2  "
      ]
     },
     "execution_count": 6,
     "metadata": {},
     "output_type": "execute_result"
    }
   ],
   "source": [
    "transactions.head()"
   ]
  },
  {
   "cell_type": "code",
   "execution_count": 7,
   "metadata": {},
   "outputs": [
    {
     "name": "stdout",
     "output_type": "stream",
     "text": [
      "<class 'pandas.core.frame.DataFrame'>\n",
      "RangeIndex: 31788324 entries, 0 to 31788323\n",
      "Data columns (total 5 columns):\n",
      " #   Column            Dtype  \n",
      "---  ------            -----  \n",
      " 0   t_dat             object \n",
      " 1   customer_id       object \n",
      " 2   article_id        int64  \n",
      " 3   price             float64\n",
      " 4   sales_channel_id  int64  \n",
      "dtypes: float64(1), int64(2), object(2)\n",
      "memory usage: 1.2+ GB\n",
      "None\n",
      "(31788324, 5)\n"
     ]
    }
   ],
   "source": [
    "print(transactions.info())\n",
    "print(transactions.shape)"
   ]
  },
  {
   "cell_type": "markdown",
   "metadata": {},
   "source": [
    "### Understanding the customer transactions\n",
    "**We can see that the transaction data contains more than 30 million records. So we need to sample the records to get more conveient dataset for analysis. Before doing the sampling, we need to understand the data thoroughly for which we do exploratory data analysis.**"
   ]
  },
  {
   "cell_type": "code",
   "execution_count": 8,
   "metadata": {},
   "outputs": [
    {
     "name": "stdout",
     "output_type": "stream",
     "text": [
      "<class 'pandas.core.series.Series'>\n",
      "count    1.362281e+06\n",
      "mean     2.875476e-02\n",
      "std      1.429338e-02\n",
      "min      7.627119e-04\n",
      "25%      2.095763e-02\n",
      "50%      2.613317e-02\n",
      "75%      3.336083e-02\n",
      "max      5.067797e-01\n",
      "Name: price, dtype: float64\n",
      "1362281\n"
     ]
    }
   ],
   "source": [
    "customer_idsgrouped = transactions.groupby(\"customer_id\")[\"price\"].mean()\n",
    "print(type(customer_idsgrouped))\n",
    "print(customer_idsgrouped.describe())\n",
    "print(len(customer_idsgrouped))"
   ]
  },
  {
   "cell_type": "markdown",
   "metadata": {},
   "source": [
    "**From the above code shunk we get to know that there are 1362281 unique customer_ids**\\\n",
    "**Next we plot the distribution of the mean price or basket values of the customer_ids**"
   ]
  },
  {
   "cell_type": "code",
   "execution_count": 9,
   "metadata": {},
   "outputs": [],
   "source": [
    "import matplotlib.pyplot as plt\n",
    "#https://www.marsja.se/how-to-change-size-of-seaborn-plot/#:~:text=Now%2C%20if%20we%20only%20to%20increase%20Seaborn%20plot,%23%20Change%20seaborn%20plot%20size%20fig.set_size_inches%20%2812%2C%208%29"
   ]
  },
  {
   "cell_type": "code",
   "execution_count": 10,
   "metadata": {},
   "outputs": [
    {
     "name": "stderr",
     "output_type": "stream",
     "text": [
      "C:\\Users\\ASUS\\anaconda3\\lib\\site-packages\\seaborn\\distributions.py:2551: FutureWarning: `distplot` is a deprecated function and will be removed in a future version. Please adapt your code to use either `displot` (a figure-level function with similar flexibility) or `histplot` (an axes-level function for histograms).\n",
      "  warnings.warn(msg, FutureWarning)\n"
     ]
    },
    {
     "data": {
      "text/plain": [
       "Text(0.5, 1.0, 'Average Price Histogram with Density Plot')"
      ]
     },
     "execution_count": 10,
     "metadata": {},
     "output_type": "execute_result"
    },
    {
     "data": {
      "image/png": "[encoded data removed]",
      "text/plain": [
       "<Figure size 432x288 with 1 Axes>"
      ]
     },
     "metadata": {
      "needs_background": "light"
     },
     "output_type": "display_data"
    }
   ],
   "source": [
    "ax = sns.distplot(customer_idsgrouped)\n",
    "ax.set_title('Average Price Histogram with Density Plot')"
   ]
  },
  {
   "cell_type": "markdown",
   "metadata": {},
   "source": [
    "**We can see that the distribution plot of the mean prices are close to normal, so we donot need much treatment for normalizing the distribution.**\n",
    "\n",
    "Since the distribution of the mean prices grouped by the customer ids lies in a normal distribution, we can sample the dataset by taking the customer ids and we can go by simple random sampling and stratified sampling. Post that we explore the mean price graphs for both the samples and check whether the distribution is normal."
   ]
  },
  {
   "cell_type": "code",
   "execution_count": 11,
   "metadata": {},
   "outputs": [
    {
     "name": "stdout",
     "output_type": "stream",
     "text": [
      "136228\n"
     ]
    }
   ],
   "source": [
    "random.seed(3)\n",
    "randomsample_ids = random.sample(list(customer_idsgrouped.index), k = int(0.10*len(customer_idsgrouped.index)))\n",
    "print(len(randomsample_ids))"
   ]
  },
  {
   "cell_type": "markdown",
   "metadata": {},
   "source": [
    "Checking the mean distribution plot of the sampled ids"
   ]
  },
  {
   "cell_type": "code",
   "execution_count": 13,
   "metadata": {},
   "outputs": [
    {
     "name": "stderr",
     "output_type": "stream",
     "text": [
      "C:\\Users\\ASUS\\anaconda3\\lib\\site-packages\\seaborn\\distributions.py:2551: FutureWarning: `distplot` is a deprecated function and will be removed in a future version. Please adapt your code to use either `displot` (a figure-level function with similar flexibility) or `histplot` (an axes-level function for histograms).\n",
      "  warnings.warn(msg, FutureWarning)\n"
     ]
    },
    {
     "data": {
      "text/plain": [
       "Text(0.5, 1.0, 'Average Price Histogram of sample with Density Plot')"
      ]
     },
     "execution_count": 13,
     "metadata": {},
     "output_type": "execute_result"
    },
    {
     "data": {
      "image/png": "[encoded data removed]",
      "text/plain": [
       "<Figure size 432x288 with 1 Axes>"
      ]
     },
     "metadata": {
      "needs_background": "light"
     },
     "output_type": "display_data"
    }
   ],
   "source": [
    "sample_custids_data  = customer_idsgrouped[customer_idsgrouped.index.isin(randomsample_ids)]\n",
    "ax1 = sns.distplot(sample_custids_data)\n",
    "ax1.set_title('Average Price Histogram of sample with Density Plot')"
   ]
  },
  {
   "cell_type": "markdown",
   "metadata": {},
   "source": [
    "We see that the random sample gives us a similar density plot for the mean prices. Thus using the sample ids we extract sample from the original dataset."
   ]
  },
  {
   "cell_type": "code",
   "execution_count": 14,
   "metadata": {},
   "outputs": [
    {
     "name": "stdout",
     "output_type": "stream",
     "text": [
      "<class 'pandas.core.frame.DataFrame'>\n",
      "Int64Index: 3188599 entries, 14 to 31788290\n",
      "Data columns (total 5 columns):\n",
      " #   Column            Dtype  \n",
      "---  ------            -----  \n",
      " 0   t_dat             object \n",
      " 1   customer_id       object \n",
      " 2   article_id        int64  \n",
      " 3   price             float64\n",
      " 4   sales_channel_id  int64  \n",
      "dtypes: float64(1), int64(2), object(2)\n",
      "memory usage: 146.0+ MB\n"
     ]
    }
   ],
   "source": [
    "transactions_sampled = transactions[transactions['customer_id'].isin(randomsample_ids)]\n",
    "transactions_sampled.info()"
   ]
  },
  {
   "cell_type": "markdown",
   "metadata": {},
   "source": [
    "Let us check the descriptive features of the random sampled data set vs the original data set"
   ]
  },
  {
   "cell_type": "code",
   "execution_count": 15,
   "metadata": {},
   "outputs": [
    {
     "name": "stdout",
     "output_type": "stream",
     "text": [
      "         article_id         price  sales_channel_id\n",
      "count  3.178832e+07  3.178832e+07      3.178832e+07\n",
      "mean   6.962272e+08  2.782927e-02      1.704028e+00\n",
      "std    1.334480e+08  1.918113e-02      4.564786e-01\n",
      "min    1.087750e+08  1.694915e-05      1.000000e+00\n",
      "25%    6.328030e+08  1.581356e-02      1.000000e+00\n",
      "50%    7.145820e+08  2.540678e-02      2.000000e+00\n",
      "75%    7.865240e+08  3.388136e-02      2.000000e+00\n",
      "max    9.562170e+08  5.915254e-01      2.000000e+00\n",
      "(31788324, 5)\n",
      "         article_id         price  sales_channel_id\n",
      "count  3.188599e+06  3.188599e+06      3.188599e+06\n",
      "mean   6.962539e+08  2.785591e-02      1.703008e+00\n",
      "std    1.332213e+08  1.929524e-02      4.569330e-01\n",
      "min    1.087750e+08  1.864407e-04      1.000000e+00\n",
      "25%    6.328030e+08  1.579661e-02      1.000000e+00\n",
      "50%    7.144260e+08  2.540678e-02      2.000000e+00\n",
      "75%    7.863470e+08  3.388136e-02      2.000000e+00\n",
      "max    9.537630e+08  5.915254e-01      2.000000e+00\n",
      "4.197032766088607\n",
      "4.1137320064599505\n"
     ]
    }
   ],
   "source": [
    "print(transactions.describe())\n",
    "print(transactions.shape)\n",
    "print(transactions_sampled.describe())\n",
    "print(customer_idsgrouped.skew())\n",
    "print(sample_custids_data.skew())"
   ]
  },
  {
   "cell_type": "markdown",
   "metadata": {},
   "source": [
    "We see that there is a close similarity of the descriptive metrics of the features of the sampled and the original dataset. Though not refelcted in the distribution plots, we can see that there is a skewness in the price distributions of the data and the sample."
   ]
  },
  {
   "cell_type": "markdown",
   "metadata": {},
   "source": [
    "**Next we import the datasets containing the information about the articles and the customers**"
   ]
  },
  {
   "cell_type": "code",
   "execution_count": 16,
   "metadata": {},
   "outputs": [],
   "source": [
    "products = pd.read_csv(\"C:/Users/ASUS/Documents/Exeter MSc in BA Learning/Business Project/H&M Dataset/articles.csv\")"
   ]
  },
  {
   "cell_type": "code",
   "execution_count": 17,
   "metadata": {},
   "outputs": [
    {
     "data": {
      "text/html": [
       "<div>\n",
       "<style scoped>\n",
       "    .dataframe tbody tr th:only-of-type {\n",
       "        vertical-align: middle;\n",
       "    }\n",
       "\n",
       "    .dataframe tbody tr th {\n",
       "        vertical-align: top;\n",
       "    }\n",
       "\n",
       "    .dataframe thead th {\n",
       "        text-align: right;\n",
       "    }\n",
       "</style>\n",
       "<table border=\"1\" class=\"dataframe\">\n",
       "  <thead>\n",
       "    <tr style=\"text-align: right;\">\n",
       "      <th></th>\n",
       "      <th>article_id</th>\n",
       "      <th>product_code</th>\n",
       "      <th>prod_name</th>\n",
       "      <th>product_type_no</th>\n",
       "      <th>product_type_name</th>\n",
       "      <th>product_group_name</th>\n",
       "      <th>graphical_appearance_no</th>\n",
       "      <th>graphical_appearance_name</th>\n",
       "      <th>colour_group_code</th>\n",
       "      <th>colour_group_name</th>\n",
       "      <th>...</th>\n",
       "      <th>department_name</th>\n",
       "      <th>index_code</th>\n",
       "      <th>index_name</th>\n",
       "      <th>index_group_no</th>\n",
       "      <th>index_group_name</th>\n",
       "      <th>section_no</th>\n",
       "      <th>section_name</th>\n",
       "      <th>garment_group_no</th>\n",
       "      <th>garment_group_name</th>\n",
       "      <th>detail_desc</th>\n",
       "    </tr>\n",
       "  </thead>\n",
       "  <tbody>\n",
       "    <tr>\n",
       "      <th>0</th>\n",
       "      <td>108775015</td>\n",
       "      <td>108775</td>\n",
       "      <td>Strap top</td>\n",
       "      <td>253</td>\n",
       "      <td>Vest top</td>\n",
       "      <td>Garment Upper body</td>\n",
       "      <td>1010016</td>\n",
       "      <td>Solid</td>\n",
       "      <td>9</td>\n",
       "      <td>Black</td>\n",
       "      <td>...</td>\n",
       "      <td>Jersey Basic</td>\n",
       "      <td>A</td>\n",
       "      <td>Ladieswear</td>\n",
       "      <td>1</td>\n",
       "      <td>Ladieswear</td>\n",
       "      <td>16</td>\n",
       "      <td>Womens Everyday Basics</td>\n",
       "      <td>1002</td>\n",
       "      <td>Jersey Basic</td>\n",
       "      <td>Jersey top with narrow shoulder straps.</td>\n",
       "    </tr>\n",
       "    <tr>\n",
       "      <th>1</th>\n",
       "      <td>108775044</td>\n",
       "      <td>108775</td>\n",
       "      <td>Strap top</td>\n",
       "      <td>253</td>\n",
       "      <td>Vest top</td>\n",
       "      <td>Garment Upper body</td>\n",
       "      <td>1010016</td>\n",
       "      <td>Solid</td>\n",
       "      <td>10</td>\n",
       "      <td>White</td>\n",
       "      <td>...</td>\n",
       "      <td>Jersey Basic</td>\n",
       "      <td>A</td>\n",
       "      <td>Ladieswear</td>\n",
       "      <td>1</td>\n",
       "      <td>Ladieswear</td>\n",
       "      <td>16</td>\n",
       "      <td>Womens Everyday Basics</td>\n",
       "      <td>1002</td>\n",
       "      <td>Jersey Basic</td>\n",
       "      <td>Jersey top with narrow shoulder straps.</td>\n",
       "    </tr>\n",
       "    <tr>\n",
       "      <th>2</th>\n",
       "      <td>108775051</td>\n",
       "      <td>108775</td>\n",
       "      <td>Strap top (1)</td>\n",
       "      <td>253</td>\n",
       "      <td>Vest top</td>\n",
       "      <td>Garment Upper body</td>\n",
       "      <td>1010017</td>\n",
       "      <td>Stripe</td>\n",
       "      <td>11</td>\n",
       "      <td>Off White</td>\n",
       "      <td>...</td>\n",
       "      <td>Jersey Basic</td>\n",
       "      <td>A</td>\n",
       "      <td>Ladieswear</td>\n",
       "      <td>1</td>\n",
       "      <td>Ladieswear</td>\n",
       "      <td>16</td>\n",
       "      <td>Womens Everyday Basics</td>\n",
       "      <td>1002</td>\n",
       "      <td>Jersey Basic</td>\n",
       "      <td>Jersey top with narrow shoulder straps.</td>\n",
       "    </tr>\n",
       "    <tr>\n",
       "      <th>3</th>\n",
       "      <td>110065001</td>\n",
       "      <td>110065</td>\n",
       "      <td>OP T-shirt (Idro)</td>\n",
       "      <td>306</td>\n",
       "      <td>Bra</td>\n",
       "      <td>Underwear</td>\n",
       "      <td>1010016</td>\n",
       "      <td>Solid</td>\n",
       "      <td>9</td>\n",
       "      <td>Black</td>\n",
       "      <td>...</td>\n",
       "      <td>Clean Lingerie</td>\n",
       "      <td>B</td>\n",
       "      <td>Lingeries/Tights</td>\n",
       "      <td>1</td>\n",
       "      <td>Ladieswear</td>\n",
       "      <td>61</td>\n",
       "      <td>Womens Lingerie</td>\n",
       "      <td>1017</td>\n",
       "      <td>Under-, Nightwear</td>\n",
       "      <td>Microfibre T-shirt bra with underwired, moulde...</td>\n",
       "    </tr>\n",
       "    <tr>\n",
       "      <th>4</th>\n",
       "      <td>110065002</td>\n",
       "      <td>110065</td>\n",
       "      <td>OP T-shirt (Idro)</td>\n",
       "      <td>306</td>\n",
       "      <td>Bra</td>\n",
       "      <td>Underwear</td>\n",
       "      <td>1010016</td>\n",
       "      <td>Solid</td>\n",
       "      <td>10</td>\n",
       "      <td>White</td>\n",
       "      <td>...</td>\n",
       "      <td>Clean Lingerie</td>\n",
       "      <td>B</td>\n",
       "      <td>Lingeries/Tights</td>\n",
       "      <td>1</td>\n",
       "      <td>Ladieswear</td>\n",
       "      <td>61</td>\n",
       "      <td>Womens Lingerie</td>\n",
       "      <td>1017</td>\n",
       "      <td>Under-, Nightwear</td>\n",
       "      <td>Microfibre T-shirt bra with underwired, moulde...</td>\n",
       "    </tr>\n",
       "  </tbody>\n",
       "</table>\n",
       "<p>5 rows × 25 columns</p>\n",
       "</div>"
      ],
      "text/plain": [
       "   article_id  product_code          prod_name  product_type_no  \\\n",
       "0   108775015        108775          Strap top              253   \n",
       "1   108775044        108775          Strap top              253   \n",
       "2   108775051        108775      Strap top (1)              253   \n",
       "3   110065001        110065  OP T-shirt (Idro)              306   \n",
       "4   110065002        110065  OP T-shirt (Idro)              306   \n",
       "\n",
       "  product_type_name  product_group_name  graphical_appearance_no  \\\n",
       "0          Vest top  Garment Upper body                  1010016   \n",
       "1          Vest top  Garment Upper body                  1010016   \n",
       "2          Vest top  Garment Upper body                  1010017   \n",
       "3               Bra           Underwear                  1010016   \n",
       "4               Bra           Underwear                  1010016   \n",
       "\n",
       "  graphical_appearance_name  colour_group_code colour_group_name  ...  \\\n",
       "0                     Solid                  9             Black  ...   \n",
       "1                     Solid                 10             White  ...   \n",
       "2                    Stripe                 11         Off White  ...   \n",
       "3                     Solid                  9             Black  ...   \n",
       "4                     Solid                 10             White  ...   \n",
       "\n",
       "   department_name index_code        index_name index_group_no  \\\n",
       "0     Jersey Basic          A        Ladieswear              1   \n",
       "1     Jersey Basic          A        Ladieswear              1   \n",
       "2     Jersey Basic          A        Ladieswear              1   \n",
       "3   Clean Lingerie          B  Lingeries/Tights              1   \n",
       "4   Clean Lingerie          B  Lingeries/Tights              1   \n",
       "\n",
       "   index_group_name section_no            section_name garment_group_no  \\\n",
       "0        Ladieswear         16  Womens Everyday Basics             1002   \n",
       "1        Ladieswear         16  Womens Everyday Basics             1002   \n",
       "2        Ladieswear         16  Womens Everyday Basics             1002   \n",
       "3        Ladieswear         61         Womens Lingerie             1017   \n",
       "4        Ladieswear         61         Womens Lingerie             1017   \n",
       "\n",
       "   garment_group_name                                        detail_desc  \n",
       "0        Jersey Basic            Jersey top with narrow shoulder straps.  \n",
       "1        Jersey Basic            Jersey top with narrow shoulder straps.  \n",
       "2        Jersey Basic            Jersey top with narrow shoulder straps.  \n",
       "3   Under-, Nightwear  Microfibre T-shirt bra with underwired, moulde...  \n",
       "4   Under-, Nightwear  Microfibre T-shirt bra with underwired, moulde...  \n",
       "\n",
       "[5 rows x 25 columns]"
      ]
     },
     "execution_count": 17,
     "metadata": {},
     "output_type": "execute_result"
    }
   ],
   "source": [
    "products.head()"
   ]
  },
  {
   "cell_type": "code",
   "execution_count": 18,
   "metadata": {},
   "outputs": [
    {
     "name": "stdout",
     "output_type": "stream",
     "text": [
      "105542\n",
      "86260\n"
     ]
    }
   ],
   "source": [
    "print(products['article_id'].nunique())\n",
    "print(transactions_sampled['article_id'].nunique())"
   ]
  },
  {
   "cell_type": "code",
   "execution_count": 19,
   "metadata": {},
   "outputs": [],
   "source": [
    "product_transactions = pd.merge(transactions_sampled, products,how='left', left_on='article_id', right_on='article_id')"
   ]
  },
  {
   "cell_type": "code",
   "execution_count": 20,
   "metadata": {},
   "outputs": [
    {
     "data": {
      "text/html": [
       "<div>\n",
       "<style scoped>\n",
       "    .dataframe tbody tr th:only-of-type {\n",
       "        vertical-align: middle;\n",
       "    }\n",
       "\n",
       "    .dataframe tbody tr th {\n",
       "        vertical-align: top;\n",
       "    }\n",
       "\n",
       "    .dataframe thead th {\n",
       "        text-align: right;\n",
       "    }\n",
       "</style>\n",
       "<table border=\"1\" class=\"dataframe\">\n",
       "  <thead>\n",
       "    <tr style=\"text-align: right;\">\n",
       "      <th></th>\n",
       "      <th>t_dat</th>\n",
       "      <th>customer_id</th>\n",
       "      <th>article_id</th>\n",
       "      <th>price</th>\n",
       "      <th>sales_channel_id</th>\n",
       "      <th>product_code</th>\n",
       "      <th>prod_name</th>\n",
       "      <th>product_type_no</th>\n",
       "      <th>product_type_name</th>\n",
       "      <th>product_group_name</th>\n",
       "      <th>...</th>\n",
       "      <th>department_name</th>\n",
       "      <th>index_code</th>\n",
       "      <th>index_name</th>\n",
       "      <th>index_group_no</th>\n",
       "      <th>index_group_name</th>\n",
       "      <th>section_no</th>\n",
       "      <th>section_name</th>\n",
       "      <th>garment_group_no</th>\n",
       "      <th>garment_group_name</th>\n",
       "      <th>detail_desc</th>\n",
       "    </tr>\n",
       "  </thead>\n",
       "  <tbody>\n",
       "    <tr>\n",
       "      <th>0</th>\n",
       "      <td>2018-09-20</td>\n",
       "      <td>000aa7f0dc06cd7174389e76c9e132a67860c5f65f9706...</td>\n",
       "      <td>501820043</td>\n",
       "      <td>0.016932</td>\n",
       "      <td>2</td>\n",
       "      <td>501820</td>\n",
       "      <td>SIRPA</td>\n",
       "      <td>252</td>\n",
       "      <td>Sweater</td>\n",
       "      <td>Garment Upper body</td>\n",
       "      <td>...</td>\n",
       "      <td>Tops Knitwear</td>\n",
       "      <td>D</td>\n",
       "      <td>Divided</td>\n",
       "      <td>2</td>\n",
       "      <td>Divided</td>\n",
       "      <td>53</td>\n",
       "      <td>Divided Collection</td>\n",
       "      <td>1003</td>\n",
       "      <td>Knitwear</td>\n",
       "      <td>Jumper in a soft knit with a slightly wider ne...</td>\n",
       "    </tr>\n",
       "    <tr>\n",
       "      <th>1</th>\n",
       "      <td>2018-09-20</td>\n",
       "      <td>000aa7f0dc06cd7174389e76c9e132a67860c5f65f9706...</td>\n",
       "      <td>501820043</td>\n",
       "      <td>0.016932</td>\n",
       "      <td>2</td>\n",
       "      <td>501820</td>\n",
       "      <td>SIRPA</td>\n",
       "      <td>252</td>\n",
       "      <td>Sweater</td>\n",
       "      <td>Garment Upper body</td>\n",
       "      <td>...</td>\n",
       "      <td>Tops Knitwear</td>\n",
       "      <td>D</td>\n",
       "      <td>Divided</td>\n",
       "      <td>2</td>\n",
       "      <td>Divided</td>\n",
       "      <td>53</td>\n",
       "      <td>Divided Collection</td>\n",
       "      <td>1003</td>\n",
       "      <td>Knitwear</td>\n",
       "      <td>Jumper in a soft knit with a slightly wider ne...</td>\n",
       "    </tr>\n",
       "    <tr>\n",
       "      <th>2</th>\n",
       "      <td>2018-09-20</td>\n",
       "      <td>000aa7f0dc06cd7174389e76c9e132a67860c5f65f9706...</td>\n",
       "      <td>674681001</td>\n",
       "      <td>0.008458</td>\n",
       "      <td>2</td>\n",
       "      <td>674681</td>\n",
       "      <td>Felicia Tank</td>\n",
       "      <td>253</td>\n",
       "      <td>Vest top</td>\n",
       "      <td>Garment Upper body</td>\n",
       "      <td>...</td>\n",
       "      <td>Basic 1</td>\n",
       "      <td>D</td>\n",
       "      <td>Divided</td>\n",
       "      <td>2</td>\n",
       "      <td>Divided</td>\n",
       "      <td>51</td>\n",
       "      <td>Divided Basics</td>\n",
       "      <td>1002</td>\n",
       "      <td>Jersey Basic</td>\n",
       "      <td>Short top in ribbed jersey with narrow shoulde...</td>\n",
       "    </tr>\n",
       "  </tbody>\n",
       "</table>\n",
       "<p>3 rows × 29 columns</p>\n",
       "</div>"
      ],
      "text/plain": [
       "        t_dat                                        customer_id  article_id  \\\n",
       "0  2018-09-20  000aa7f0dc06cd7174389e76c9e132a67860c5f65f9706...   501820043   \n",
       "1  2018-09-20  000aa7f0dc06cd7174389e76c9e132a67860c5f65f9706...   501820043   \n",
       "2  2018-09-20  000aa7f0dc06cd7174389e76c9e132a67860c5f65f9706...   674681001   \n",
       "\n",
       "      price  sales_channel_id  product_code     prod_name  product_type_no  \\\n",
       "0  0.016932                 2        501820         SIRPA              252   \n",
       "1  0.016932                 2        501820         SIRPA              252   \n",
       "2  0.008458                 2        674681  Felicia Tank              253   \n",
       "\n",
       "  product_type_name  product_group_name  ...  department_name index_code  \\\n",
       "0           Sweater  Garment Upper body  ...    Tops Knitwear          D   \n",
       "1           Sweater  Garment Upper body  ...    Tops Knitwear          D   \n",
       "2          Vest top  Garment Upper body  ...          Basic 1          D   \n",
       "\n",
       "   index_name index_group_no  index_group_name section_no        section_name  \\\n",
       "0     Divided              2           Divided         53  Divided Collection   \n",
       "1     Divided              2           Divided         53  Divided Collection   \n",
       "2     Divided              2           Divided         51      Divided Basics   \n",
       "\n",
       "  garment_group_no  garment_group_name  \\\n",
       "0             1003            Knitwear   \n",
       "1             1003            Knitwear   \n",
       "2             1002        Jersey Basic   \n",
       "\n",
       "                                         detail_desc  \n",
       "0  Jumper in a soft knit with a slightly wider ne...  \n",
       "1  Jumper in a soft knit with a slightly wider ne...  \n",
       "2  Short top in ribbed jersey with narrow shoulde...  \n",
       "\n",
       "[3 rows x 29 columns]"
      ]
     },
     "execution_count": 20,
     "metadata": {},
     "output_type": "execute_result"
    }
   ],
   "source": [
    "product_transactions.head(3)"
   ]
  },
  {
   "cell_type": "code",
   "execution_count": 21,
   "metadata": {},
   "outputs": [
    {
     "data": {
      "text/plain": [
       "Index(['t_dat', 'customer_id', 'article_id', 'price', 'sales_channel_id',\n",
       "       'product_code', 'prod_name', 'product_type_no', 'product_type_name',\n",
       "       'product_group_name', 'graphical_appearance_no',\n",
       "       'graphical_appearance_name', 'colour_group_code', 'colour_group_name',\n",
       "       'perceived_colour_value_id', 'perceived_colour_value_name',\n",
       "       'perceived_colour_master_id', 'perceived_colour_master_name',\n",
       "       'department_no', 'department_name', 'index_code', 'index_name',\n",
       "       'index_group_no', 'index_group_name', 'section_no', 'section_name',\n",
       "       'garment_group_no', 'garment_group_name', 'detail_desc'],\n",
       "      dtype='object')"
      ]
     },
     "execution_count": 21,
     "metadata": {},
     "output_type": "execute_result"
    }
   ],
   "source": [
    "product_transactions.columns"
   ]
  },
  {
   "cell_type": "code",
   "execution_count": 25,
   "metadata": {},
   "outputs": [],
   "source": [
    "product_transactions = product_transactions[['t_dat', 'customer_id', 'article_id', 'price', 'sales_channel_id',\n",
    "       'product_code', 'prod_name', 'product_type_name',\n",
    "       'product_group_name', \n",
    "       'graphical_appearance_name', 'colour_group_code', 'colour_group_name',\n",
    "      'perceived_colour_value_name',\n",
    "       'perceived_colour_master_name',\n",
    "      'department_name', 'index_code','index_name',\n",
    "        'index_group_name',  'section_name',\n",
    "       'garment_group_name', 'detail_desc', 'transaction_custdat_id']]"
   ]
  },
  {
   "cell_type": "code",
   "execution_count": 24,
   "metadata": {},
   "outputs": [
    {
     "data": {
      "text/plain": [
       "10"
      ]
     },
     "execution_count": 24,
     "metadata": {},
     "output_type": "execute_result"
    }
   ],
   "source": [
    "product_transactions['index_code'].nunique()"
   ]
  },
  {
   "cell_type": "code",
   "execution_count": 23,
   "metadata": {},
   "outputs": [],
   "source": [
    "product_transactions['transaction_custdat_id'] = product_transactions['customer_id'] + product_transactions['t_dat']"
   ]
  },
  {
   "cell_type": "code",
   "execution_count": 26,
   "metadata": {},
   "outputs": [
    {
     "data": {
      "text/plain": [
       "c2f0cdda2dc3042ccd9fcd8253fd8e368769840581e40aab1d87a64ff39987e32018-12-17    336\n",
       "61da44a2758206d5701771f4315637b40c8321b511191654fb1430a6408e4dfa2019-02-23    176\n",
       "6e91d482c348bc118d8d00df01b73f72471d194987616f1008074e4280c29ebb2019-01-31    174\n",
       "75c54a755b8a467e53e0a4e01833deb029734feb22ad25438137925123a38f8b2018-09-29    169\n",
       "c58c3ea821c5447217eadb8112175bcdfb10ba6c1905e38a451b4b0a107494802019-05-24    164\n",
       "                                                                             ... \n",
       "73b9358207d5d3712ab947088916343cdc260a726904f2ef3ba29294d0f23eeb2019-01-22      1\n",
       "325b2fb2f53746b68d4564797151418f28d92f0dc30608add12b269f4a4f1a7d2019-11-06      1\n",
       "b2c470b1f57b96c69750cc0222df33bc5857b53ca98bc4f2c99e2cc7325967e52019-09-10      1\n",
       "d9530829cea1ce0199e5b570d33120d1b3f9179c43f9e3ef0490967332cd5a7d2018-12-04      1\n",
       "eb197acafe3d6ca914f4aa77caf2ecca1e587e447f2a57d79400de932e44e02a2019-07-10      1\n",
       "Name: transaction_custdat_id, Length: 909708, dtype: int64"
      ]
     },
     "execution_count": 26,
     "metadata": {},
     "output_type": "execute_result"
    }
   ],
   "source": [
    "product_transactions['transaction_custdat_id'].value_counts()"
   ]
  },
  {
   "cell_type": "code",
   "execution_count": 27,
   "metadata": {},
   "outputs": [],
   "source": [
    "customers = pd.read_csv(\"C:/Users/ASUS/Documents/Exeter MSc in BA Learning/Business Project/H&M Dataset/customers.csv\")"
   ]
  },
  {
   "cell_type": "code",
   "execution_count": 175,
   "metadata": {},
   "outputs": [
    {
     "data": {
      "text/html": [
       "<div>\n",
       "<style scoped>\n",
       "    .dataframe tbody tr th:only-of-type {\n",
       "        vertical-align: middle;\n",
       "    }\n",
       "\n",
       "    .dataframe tbody tr th {\n",
       "        vertical-align: top;\n",
       "    }\n",
       "\n",
       "    .dataframe thead th {\n",
       "        text-align: right;\n",
       "    }\n",
       "</style>\n",
       "<table border=\"1\" class=\"dataframe\">\n",
       "  <thead>\n",
       "    <tr style=\"text-align: right;\">\n",
       "      <th></th>\n",
       "      <th>customer_id</th>\n",
       "      <th>FN</th>\n",
       "      <th>Active</th>\n",
       "      <th>club_member_status</th>\n",
       "      <th>fashion_news_frequency</th>\n",
       "      <th>age</th>\n",
       "      <th>postal_code</th>\n",
       "    </tr>\n",
       "  </thead>\n",
       "  <tbody>\n",
       "    <tr>\n",
       "      <th>0</th>\n",
       "      <td>00000dbacae5abe5e23885899a1fa44253a17956c6d1c3...</td>\n",
       "      <td>NaN</td>\n",
       "      <td>NaN</td>\n",
       "      <td>ACTIVE</td>\n",
       "      <td>NONE</td>\n",
       "      <td>49.0</td>\n",
       "      <td>52043ee2162cf5aa7ee79974281641c6f11a68d276429a...</td>\n",
       "    </tr>\n",
       "    <tr>\n",
       "      <th>1</th>\n",
       "      <td>0000423b00ade91418cceaf3b26c6af3dd342b51fd051e...</td>\n",
       "      <td>NaN</td>\n",
       "      <td>NaN</td>\n",
       "      <td>ACTIVE</td>\n",
       "      <td>NONE</td>\n",
       "      <td>25.0</td>\n",
       "      <td>2973abc54daa8a5f8ccfe9362140c63247c5eee03f1d93...</td>\n",
       "    </tr>\n",
       "    <tr>\n",
       "      <th>2</th>\n",
       "      <td>000058a12d5b43e67d225668fa1f8d618c13dc232df0ca...</td>\n",
       "      <td>NaN</td>\n",
       "      <td>NaN</td>\n",
       "      <td>ACTIVE</td>\n",
       "      <td>NONE</td>\n",
       "      <td>24.0</td>\n",
       "      <td>64f17e6a330a85798e4998f62d0930d14db8db1c054af6...</td>\n",
       "    </tr>\n",
       "    <tr>\n",
       "      <th>3</th>\n",
       "      <td>00005ca1c9ed5f5146b52ac8639a40ca9d57aeff4d1bd2...</td>\n",
       "      <td>NaN</td>\n",
       "      <td>NaN</td>\n",
       "      <td>ACTIVE</td>\n",
       "      <td>NONE</td>\n",
       "      <td>54.0</td>\n",
       "      <td>5d36574f52495e81f019b680c843c443bd343d5ca5b1c2...</td>\n",
       "    </tr>\n",
       "    <tr>\n",
       "      <th>4</th>\n",
       "      <td>00006413d8573cd20ed7128e53b7b13819fe5cfc2d801f...</td>\n",
       "      <td>1.0</td>\n",
       "      <td>1.0</td>\n",
       "      <td>ACTIVE</td>\n",
       "      <td>Regularly</td>\n",
       "      <td>52.0</td>\n",
       "      <td>25fa5ddee9aac01b35208d01736e57942317d756b32ddd...</td>\n",
       "    </tr>\n",
       "  </tbody>\n",
       "</table>\n",
       "</div>"
      ],
      "text/plain": [
       "                                         customer_id   FN  Active  \\\n",
       "0  00000dbacae5abe5e23885899a1fa44253a17956c6d1c3...  NaN     NaN   \n",
       "1  0000423b00ade91418cceaf3b26c6af3dd342b51fd051e...  NaN     NaN   \n",
       "2  000058a12d5b43e67d225668fa1f8d618c13dc232df0ca...  NaN     NaN   \n",
       "3  00005ca1c9ed5f5146b52ac8639a40ca9d57aeff4d1bd2...  NaN     NaN   \n",
       "4  00006413d8573cd20ed7128e53b7b13819fe5cfc2d801f...  1.0     1.0   \n",
       "\n",
       "  club_member_status fashion_news_frequency   age  \\\n",
       "0             ACTIVE                   NONE  49.0   \n",
       "1             ACTIVE                   NONE  25.0   \n",
       "2             ACTIVE                   NONE  24.0   \n",
       "3             ACTIVE                   NONE  54.0   \n",
       "4             ACTIVE              Regularly  52.0   \n",
       "\n",
       "                                         postal_code  \n",
       "0  52043ee2162cf5aa7ee79974281641c6f11a68d276429a...  \n",
       "1  2973abc54daa8a5f8ccfe9362140c63247c5eee03f1d93...  \n",
       "2  64f17e6a330a85798e4998f62d0930d14db8db1c054af6...  \n",
       "3  5d36574f52495e81f019b680c843c443bd343d5ca5b1c2...  \n",
       "4  25fa5ddee9aac01b35208d01736e57942317d756b32ddd...  "
      ]
     },
     "execution_count": 175,
     "metadata": {},
     "output_type": "execute_result"
    }
   ],
   "source": [
    "customers.head()"
   ]
  },
  {
   "cell_type": "code",
   "execution_count": 29,
   "metadata": {},
   "outputs": [
    {
     "name": "stdout",
     "output_type": "stream",
     "text": [
      "1048575\n",
      "(1048575, 7)\n"
     ]
    }
   ],
   "source": [
    "print(customers['customer_id'].nunique())\n",
    "print(customers.shape)"
   ]
  },
  {
   "cell_type": "code",
   "execution_count": 30,
   "metadata": {},
   "outputs": [
    {
     "data": {
      "text/plain": [
       "(1048575, 7)"
      ]
     },
     "execution_count": 30,
     "metadata": {},
     "output_type": "execute_result"
    }
   ],
   "source": [
    "customers.shape"
   ]
  },
  {
   "cell_type": "code",
   "execution_count": 32,
   "metadata": {},
   "outputs": [],
   "source": [
    "#full_data = pd.merge(product_transactions, customers, how = \"left\", left_on = \"customer_id\", right_on = \"customer_id\")"
   ]
  },
  {
   "cell_type": "code",
   "execution_count": 3,
   "metadata": {},
   "outputs": [],
   "source": [
    "###since we have already created and exported full_data to the directory, we need to reimport it\n",
    "\n",
    "full_data = pd.read_csv(\"C:/Users/ASUS/Documents/Exeter MSc in BA Learning/Business Project/H&M Dataset/full_data_1.csv\")"
   ]
  },
  {
   "cell_type": "code",
   "execution_count": 4,
   "metadata": {},
   "outputs": [
    {
     "name": "stdout",
     "output_type": "stream",
     "text": [
      "<class 'pandas.core.frame.DataFrame'>\n",
      "RangeIndex: 3188599 entries, 0 to 3188598\n",
      "Data columns (total 25 columns):\n",
      " #   Column                        Dtype  \n",
      "---  ------                        -----  \n",
      " 0   Unnamed: 0                    int64  \n",
      " 1   t_dat                         object \n",
      " 2   customer_id                   object \n",
      " 3   article_id                    int64  \n",
      " 4   price                         float64\n",
      " 5   sales_channel_id              int64  \n",
      " 6   product_code                  int64  \n",
      " 7   prod_name                     object \n",
      " 8   product_type_name             object \n",
      " 9   product_group_name            object \n",
      " 10  graphical_appearance_name     object \n",
      " 11  colour_group_code             int64  \n",
      " 12  colour_group_name             object \n",
      " 13  perceived_colour_value_name   object \n",
      " 14  perceived_colour_master_name  object \n",
      " 15  department_name               object \n",
      " 16  index_name                    object \n",
      " 17  section_name                  object \n",
      " 18  garment_group_name            object \n",
      " 19  detail_desc                   object \n",
      " 20  transaction_custdat_id        object \n",
      " 21  Active                        float64\n",
      " 22  club_member_status            object \n",
      " 23  fashion_news_frequency        object \n",
      " 24  age                           float64\n",
      "dtypes: float64(3), int64(5), object(17)\n",
      "memory usage: 608.2+ MB\n"
     ]
    }
   ],
   "source": [
    "full_data.info()"
   ]
  },
  {
   "cell_type": "code",
   "execution_count": 37,
   "metadata": {},
   "outputs": [
    {
     "data": {
      "text/plain": [
       "1.0    1051295\n",
       "Name: FN, dtype: int64"
      ]
     },
     "execution_count": 37,
     "metadata": {},
     "output_type": "execute_result"
    }
   ],
   "source": [
    "full_data['FN'].value_counts()"
   ]
  },
  {
   "cell_type": "code",
   "execution_count": 38,
   "metadata": {},
   "outputs": [],
   "source": [
    "full_data = full_data.drop(['index_code', 'index_group_name', 'FN', 'postal_code'], axis = 1)"
   ]
  },
  {
   "cell_type": "code",
   "execution_count": 39,
   "metadata": {},
   "outputs": [
    {
     "data": {
      "text/html": [
       "<div>\n",
       "<style scoped>\n",
       "    .dataframe tbody tr th:only-of-type {\n",
       "        vertical-align: middle;\n",
       "    }\n",
       "\n",
       "    .dataframe tbody tr th {\n",
       "        vertical-align: top;\n",
       "    }\n",
       "\n",
       "    .dataframe thead th {\n",
       "        text-align: right;\n",
       "    }\n",
       "</style>\n",
       "<table border=\"1\" class=\"dataframe\">\n",
       "  <thead>\n",
       "    <tr style=\"text-align: right;\">\n",
       "      <th></th>\n",
       "      <th>t_dat</th>\n",
       "      <th>customer_id</th>\n",
       "      <th>article_id</th>\n",
       "      <th>price</th>\n",
       "      <th>sales_channel_id</th>\n",
       "      <th>product_code</th>\n",
       "      <th>prod_name</th>\n",
       "      <th>product_type_name</th>\n",
       "      <th>product_group_name</th>\n",
       "      <th>graphical_appearance_name</th>\n",
       "      <th>...</th>\n",
       "      <th>department_name</th>\n",
       "      <th>index_name</th>\n",
       "      <th>section_name</th>\n",
       "      <th>garment_group_name</th>\n",
       "      <th>detail_desc</th>\n",
       "      <th>transaction_custdat_id</th>\n",
       "      <th>Active</th>\n",
       "      <th>club_member_status</th>\n",
       "      <th>fashion_news_frequency</th>\n",
       "      <th>age</th>\n",
       "    </tr>\n",
       "  </thead>\n",
       "  <tbody>\n",
       "    <tr>\n",
       "      <th>0</th>\n",
       "      <td>2018-09-20</td>\n",
       "      <td>000aa7f0dc06cd7174389e76c9e132a67860c5f65f9706...</td>\n",
       "      <td>501820043</td>\n",
       "      <td>0.016932</td>\n",
       "      <td>2</td>\n",
       "      <td>501820</td>\n",
       "      <td>SIRPA</td>\n",
       "      <td>Sweater</td>\n",
       "      <td>Garment Upper body</td>\n",
       "      <td>Solid</td>\n",
       "      <td>...</td>\n",
       "      <td>Tops Knitwear</td>\n",
       "      <td>Divided</td>\n",
       "      <td>Divided Collection</td>\n",
       "      <td>Knitwear</td>\n",
       "      <td>Jumper in a soft knit with a slightly wider ne...</td>\n",
       "      <td>000aa7f0dc06cd7174389e76c9e132a67860c5f65f9706...</td>\n",
       "      <td>NaN</td>\n",
       "      <td>ACTIVE</td>\n",
       "      <td>NONE</td>\n",
       "      <td>22.0</td>\n",
       "    </tr>\n",
       "    <tr>\n",
       "      <th>1</th>\n",
       "      <td>2018-09-20</td>\n",
       "      <td>000aa7f0dc06cd7174389e76c9e132a67860c5f65f9706...</td>\n",
       "      <td>501820043</td>\n",
       "      <td>0.016932</td>\n",
       "      <td>2</td>\n",
       "      <td>501820</td>\n",
       "      <td>SIRPA</td>\n",
       "      <td>Sweater</td>\n",
       "      <td>Garment Upper body</td>\n",
       "      <td>Solid</td>\n",
       "      <td>...</td>\n",
       "      <td>Tops Knitwear</td>\n",
       "      <td>Divided</td>\n",
       "      <td>Divided Collection</td>\n",
       "      <td>Knitwear</td>\n",
       "      <td>Jumper in a soft knit with a slightly wider ne...</td>\n",
       "      <td>000aa7f0dc06cd7174389e76c9e132a67860c5f65f9706...</td>\n",
       "      <td>NaN</td>\n",
       "      <td>ACTIVE</td>\n",
       "      <td>NONE</td>\n",
       "      <td>22.0</td>\n",
       "    </tr>\n",
       "    <tr>\n",
       "      <th>2</th>\n",
       "      <td>2018-09-20</td>\n",
       "      <td>000aa7f0dc06cd7174389e76c9e132a67860c5f65f9706...</td>\n",
       "      <td>674681001</td>\n",
       "      <td>0.008458</td>\n",
       "      <td>2</td>\n",
       "      <td>674681</td>\n",
       "      <td>Felicia Tank</td>\n",
       "      <td>Vest top</td>\n",
       "      <td>Garment Upper body</td>\n",
       "      <td>Solid</td>\n",
       "      <td>...</td>\n",
       "      <td>Basic 1</td>\n",
       "      <td>Divided</td>\n",
       "      <td>Divided Basics</td>\n",
       "      <td>Jersey Basic</td>\n",
       "      <td>Short top in ribbed jersey with narrow shoulde...</td>\n",
       "      <td>000aa7f0dc06cd7174389e76c9e132a67860c5f65f9706...</td>\n",
       "      <td>NaN</td>\n",
       "      <td>ACTIVE</td>\n",
       "      <td>NONE</td>\n",
       "      <td>22.0</td>\n",
       "    </tr>\n",
       "  </tbody>\n",
       "</table>\n",
       "<p>3 rows × 24 columns</p>\n",
       "</div>"
      ],
      "text/plain": [
       "        t_dat                                        customer_id  article_id  \\\n",
       "0  2018-09-20  000aa7f0dc06cd7174389e76c9e132a67860c5f65f9706...   501820043   \n",
       "1  2018-09-20  000aa7f0dc06cd7174389e76c9e132a67860c5f65f9706...   501820043   \n",
       "2  2018-09-20  000aa7f0dc06cd7174389e76c9e132a67860c5f65f9706...   674681001   \n",
       "\n",
       "      price  sales_channel_id  product_code     prod_name product_type_name  \\\n",
       "0  0.016932                 2        501820         SIRPA           Sweater   \n",
       "1  0.016932                 2        501820         SIRPA           Sweater   \n",
       "2  0.008458                 2        674681  Felicia Tank          Vest top   \n",
       "\n",
       "   product_group_name graphical_appearance_name  ...  department_name  \\\n",
       "0  Garment Upper body                     Solid  ...    Tops Knitwear   \n",
       "1  Garment Upper body                     Solid  ...    Tops Knitwear   \n",
       "2  Garment Upper body                     Solid  ...          Basic 1   \n",
       "\n",
       "  index_name        section_name garment_group_name  \\\n",
       "0    Divided  Divided Collection           Knitwear   \n",
       "1    Divided  Divided Collection           Knitwear   \n",
       "2    Divided      Divided Basics       Jersey Basic   \n",
       "\n",
       "                                         detail_desc  \\\n",
       "0  Jumper in a soft knit with a slightly wider ne...   \n",
       "1  Jumper in a soft knit with a slightly wider ne...   \n",
       "2  Short top in ribbed jersey with narrow shoulde...   \n",
       "\n",
       "                              transaction_custdat_id Active  \\\n",
       "0  000aa7f0dc06cd7174389e76c9e132a67860c5f65f9706...    NaN   \n",
       "1  000aa7f0dc06cd7174389e76c9e132a67860c5f65f9706...    NaN   \n",
       "2  000aa7f0dc06cd7174389e76c9e132a67860c5f65f9706...    NaN   \n",
       "\n",
       "  club_member_status fashion_news_frequency   age  \n",
       "0             ACTIVE                   NONE  22.0  \n",
       "1             ACTIVE                   NONE  22.0  \n",
       "2             ACTIVE                   NONE  22.0  \n",
       "\n",
       "[3 rows x 24 columns]"
      ]
     },
     "execution_count": 39,
     "metadata": {},
     "output_type": "execute_result"
    }
   ],
   "source": [
    "full_data.head(3)"
   ]
  },
  {
   "cell_type": "markdown",
   "metadata": {},
   "source": [
    "Considering our analysis of purchase pattern most of the variables in the full data set are variables of interest. Some of the variables convey redundant information. The variables FN and detail_desc doesnot convey much information at least in the initial part of the study.\n",
    "\n",
    "Most of the variables are related to product features. As a part of the EDA, we can check the associations between the different product features.\n",
    "\n",
    "At first we check the number of missing values for the data."
   ]
  },
  {
   "cell_type": "markdown",
   "metadata": {},
   "source": [
    "Since there are 34 variables we have to cherry-pick the most important variables to be explored and analysed. Some of the most important variables are - t_dat, customer_id, article_id, price, sales_channel_id (not much useful since the sales channel name is not mentioned), product_name, product_type_name, product_group_name, graphical_appearance_name,colour_group_name, perceived_colour_value_name, perceived_colour_master_name, department_no, department_name, section_no, section_name, garment_group_name, active (status of customer), club_member_status, fashion_news_frequency"
   ]
  },
  {
   "cell_type": "code",
   "execution_count": 61,
   "metadata": {},
   "outputs": [
    {
     "name": "stdout",
     "output_type": "stream",
     "text": [
      "<class 'pandas.core.frame.DataFrame'>\n",
      "RangeIndex: 3188599 entries, 0 to 3188598\n",
      "Data columns (total 25 columns):\n",
      " #   Column                        Dtype  \n",
      "---  ------                        -----  \n",
      " 0   Unnamed: 0                    int64  \n",
      " 1   t_dat                         object \n",
      " 2   customer_id                   object \n",
      " 3   article_id                    int64  \n",
      " 4   price                         float64\n",
      " 5   sales_channel_id              int64  \n",
      " 6   product_code                  int64  \n",
      " 7   prod_name                     object \n",
      " 8   product_type_name             object \n",
      " 9   product_group_name            object \n",
      " 10  graphical_appearance_name     object \n",
      " 11  colour_group_code             int64  \n",
      " 12  colour_group_name             object \n",
      " 13  perceived_colour_value_name   object \n",
      " 14  perceived_colour_master_name  object \n",
      " 15  department_name               object \n",
      " 16  index_name                    object \n",
      " 17  section_name                  object \n",
      " 18  garment_group_name            object \n",
      " 19  detail_desc                   object \n",
      " 20  transaction_custdat_id        object \n",
      " 21  Active                        float64\n",
      " 22  club_member_status            object \n",
      " 23  fashion_news_frequency        object \n",
      " 24  age                           float64\n",
      "dtypes: float64(3), int64(5), object(17)\n",
      "memory usage: 608.2+ MB\n"
     ]
    }
   ],
   "source": [
    "full_data.dropna(axis = 1, thresh = 4).info()"
   ]
  },
  {
   "cell_type": "markdown",
   "metadata": {},
   "source": [
    "Converting the date variable to date format"
   ]
  },
  {
   "cell_type": "code",
   "execution_count": 41,
   "metadata": {},
   "outputs": [],
   "source": [
    "#full_data['t_dat'] = str(full_data['t_datdatetime'])"
   ]
  },
  {
   "cell_type": "code",
   "execution_count": 42,
   "metadata": {},
   "outputs": [
    {
     "name": "stdout",
     "output_type": "stream",
     "text": [
      "<class 'pandas.core.frame.DataFrame'>\n",
      "Int64Index: 3188599 entries, 0 to 3188598\n",
      "Data columns (total 24 columns):\n",
      " #   Column                        Dtype  \n",
      "---  ------                        -----  \n",
      " 0   t_dat                         object \n",
      " 1   customer_id                   object \n",
      " 2   article_id                    int64  \n",
      " 3   price                         float64\n",
      " 4   sales_channel_id              int64  \n",
      " 5   product_code                  int64  \n",
      " 6   prod_name                     object \n",
      " 7   product_type_name             object \n",
      " 8   product_group_name            object \n",
      " 9   graphical_appearance_name     object \n",
      " 10  colour_group_code             int64  \n",
      " 11  colour_group_name             object \n",
      " 12  perceived_colour_value_name   object \n",
      " 13  perceived_colour_master_name  object \n",
      " 14  department_name               object \n",
      " 15  index_name                    object \n",
      " 16  section_name                  object \n",
      " 17  garment_group_name            object \n",
      " 18  detail_desc                   object \n",
      " 19  transaction_custdat_id        object \n",
      " 20  Active                        float64\n",
      " 21  club_member_status            object \n",
      " 22  fashion_news_frequency        object \n",
      " 23  age                           float64\n",
      "dtypes: float64(3), int64(4), object(17)\n",
      "memory usage: 608.2+ MB\n"
     ]
    }
   ],
   "source": [
    "full_data.info()"
   ]
  },
  {
   "cell_type": "markdown",
   "metadata": {},
   "source": [
    "**Since we do not have transaction_ids in the dataset we can create a variable composed of the customer_id and the t_dat to get unique transactions.**"
   ]
  },
  {
   "cell_type": "code",
   "execution_count": 43,
   "metadata": {},
   "outputs": [
    {
     "name": "stdout",
     "output_type": "stream",
     "text": [
      "c2f0cdda2dc3042ccd9fcd8253fd8e368769840581e40aab1d87a64ff39987e32018-12-17    336\n",
      "61da44a2758206d5701771f4315637b40c8321b511191654fb1430a6408e4dfa2019-02-23    176\n",
      "6e91d482c348bc118d8d00df01b73f72471d194987616f1008074e4280c29ebb2019-01-31    174\n",
      "75c54a755b8a467e53e0a4e01833deb029734feb22ad25438137925123a38f8b2018-09-29    169\n",
      "c58c3ea821c5447217eadb8112175bcdfb10ba6c1905e38a451b4b0a107494802019-05-24    164\n",
      "Name: transaction_custdat_id, dtype: int64\n",
      "909708\n"
     ]
    }
   ],
   "source": [
    "print(full_data['transaction_custdat_id'].value_counts().head())\n",
    "print(full_data['transaction_custdat_id'].nunique())\n",
    "#full_data['transaction_custdat_id'] = full_data['customer_id'] + full_data['t_dat']"
   ]
  },
  {
   "cell_type": "markdown",
   "metadata": {},
   "source": [
    "As we now have the unique transaction ids for each date, we can use it in our analysis. Some of the EDA questions are as follows"
   ]
  },
  {
   "cell_type": "markdown",
   "metadata": {},
   "source": [
    "Is there any associations of the value of purchase and age of the customers?"
   ]
  },
  {
   "cell_type": "markdown",
   "metadata": {},
   "source": [
    "Upon a closer look at the variables we can see different groups of feature variables - product features, graphical features, colour features, department features, department features, index features, section features, garment features, the others are demographic features of the customers. \n",
    "\n",
    "We need to analyse each feature group and understand assciation amongst the variables.\n",
    "\n",
    "We need to cross analyse the feature groups and understand association amongst the variables and select features with highest variation.\n",
    "The correlation should be high amonsgt the variables within the feature groups and less between the feature groups. The fetaures from the groups with high correlation can be dropped due to collinearity. The association of the picked variables should have high correlation with the target variable. The target variable can be the price.\n",
    "\n",
    "Also we need to analyse the association of the feature groups with the demographic variables"
   ]
  },
  {
   "cell_type": "markdown",
   "metadata": {},
   "source": [
    "**The full data must be cleaned to remove duplicate transactions**"
   ]
  },
  {
   "cell_type": "code",
   "execution_count": 41,
   "metadata": {},
   "outputs": [
    {
     "data": {
      "text/html": [
       "<div>\n",
       "<style scoped>\n",
       "    .dataframe tbody tr th:only-of-type {\n",
       "        vertical-align: middle;\n",
       "    }\n",
       "\n",
       "    .dataframe tbody tr th {\n",
       "        vertical-align: top;\n",
       "    }\n",
       "\n",
       "    .dataframe thead th {\n",
       "        text-align: right;\n",
       "    }\n",
       "</style>\n",
       "<table border=\"1\" class=\"dataframe\">\n",
       "  <thead>\n",
       "    <tr style=\"text-align: right;\">\n",
       "      <th></th>\n",
       "      <th>Unnamed: 0</th>\n",
       "      <th>t_dat</th>\n",
       "      <th>customer_id</th>\n",
       "      <th>article_id</th>\n",
       "      <th>price</th>\n",
       "      <th>sales_channel_id</th>\n",
       "      <th>product_code</th>\n",
       "      <th>prod_name</th>\n",
       "      <th>product_type_name</th>\n",
       "      <th>product_group_name</th>\n",
       "      <th>...</th>\n",
       "      <th>department_name</th>\n",
       "      <th>index_name</th>\n",
       "      <th>section_name</th>\n",
       "      <th>garment_group_name</th>\n",
       "      <th>detail_desc</th>\n",
       "      <th>transaction_custdat_id</th>\n",
       "      <th>Active</th>\n",
       "      <th>club_member_status</th>\n",
       "      <th>fashion_news_frequency</th>\n",
       "      <th>age</th>\n",
       "    </tr>\n",
       "  </thead>\n",
       "  <tbody>\n",
       "    <tr>\n",
       "      <th>384670</th>\n",
       "      <td>384670</td>\n",
       "      <td>2018-12-17</td>\n",
       "      <td>c2f0cdda2dc3042ccd9fcd8253fd8e368769840581e40a...</td>\n",
       "      <td>706733001</td>\n",
       "      <td>0.050831</td>\n",
       "      <td>2</td>\n",
       "      <td>706733</td>\n",
       "      <td>Cross Cardigan</td>\n",
       "      <td>Cardigan</td>\n",
       "      <td>Garment Upper body</td>\n",
       "      <td>...</td>\n",
       "      <td>Jersey inactive from s1</td>\n",
       "      <td>Menswear</td>\n",
       "      <td>Contemporary Street</td>\n",
       "      <td>Jersey Fancy</td>\n",
       "      <td>Cardigan in lightweight sweatshirt fabric with...</td>\n",
       "      <td>c2f0cdda2dc3042ccd9fcd8253fd8e368769840581e40a...</td>\n",
       "      <td>NaN</td>\n",
       "      <td>ACTIVE</td>\n",
       "      <td>NONE</td>\n",
       "      <td>52.0</td>\n",
       "    </tr>\n",
       "    <tr>\n",
       "      <th>384671</th>\n",
       "      <td>384671</td>\n",
       "      <td>2018-12-17</td>\n",
       "      <td>c2f0cdda2dc3042ccd9fcd8253fd8e368769840581e40a...</td>\n",
       "      <td>706733001</td>\n",
       "      <td>0.050831</td>\n",
       "      <td>2</td>\n",
       "      <td>706733</td>\n",
       "      <td>Cross Cardigan</td>\n",
       "      <td>Cardigan</td>\n",
       "      <td>Garment Upper body</td>\n",
       "      <td>...</td>\n",
       "      <td>Jersey inactive from s1</td>\n",
       "      <td>Menswear</td>\n",
       "      <td>Contemporary Street</td>\n",
       "      <td>Jersey Fancy</td>\n",
       "      <td>Cardigan in lightweight sweatshirt fabric with...</td>\n",
       "      <td>c2f0cdda2dc3042ccd9fcd8253fd8e368769840581e40a...</td>\n",
       "      <td>NaN</td>\n",
       "      <td>ACTIVE</td>\n",
       "      <td>NONE</td>\n",
       "      <td>52.0</td>\n",
       "    </tr>\n",
       "    <tr>\n",
       "      <th>384672</th>\n",
       "      <td>384672</td>\n",
       "      <td>2018-12-17</td>\n",
       "      <td>c2f0cdda2dc3042ccd9fcd8253fd8e368769840581e40a...</td>\n",
       "      <td>706733001</td>\n",
       "      <td>0.050831</td>\n",
       "      <td>2</td>\n",
       "      <td>706733</td>\n",
       "      <td>Cross Cardigan</td>\n",
       "      <td>Cardigan</td>\n",
       "      <td>Garment Upper body</td>\n",
       "      <td>...</td>\n",
       "      <td>Jersey inactive from s1</td>\n",
       "      <td>Menswear</td>\n",
       "      <td>Contemporary Street</td>\n",
       "      <td>Jersey Fancy</td>\n",
       "      <td>Cardigan in lightweight sweatshirt fabric with...</td>\n",
       "      <td>c2f0cdda2dc3042ccd9fcd8253fd8e368769840581e40a...</td>\n",
       "      <td>NaN</td>\n",
       "      <td>ACTIVE</td>\n",
       "      <td>NONE</td>\n",
       "      <td>52.0</td>\n",
       "    </tr>\n",
       "  </tbody>\n",
       "</table>\n",
       "<p>3 rows × 25 columns</p>\n",
       "</div>"
      ],
      "text/plain": [
       "        Unnamed: 0       t_dat  \\\n",
       "384670      384670  2018-12-17   \n",
       "384671      384671  2018-12-17   \n",
       "384672      384672  2018-12-17   \n",
       "\n",
       "                                              customer_id  article_id  \\\n",
       "384670  c2f0cdda2dc3042ccd9fcd8253fd8e368769840581e40a...   706733001   \n",
       "384671  c2f0cdda2dc3042ccd9fcd8253fd8e368769840581e40a...   706733001   \n",
       "384672  c2f0cdda2dc3042ccd9fcd8253fd8e368769840581e40a...   706733001   \n",
       "\n",
       "           price  sales_channel_id  product_code       prod_name  \\\n",
       "384670  0.050831                 2        706733  Cross Cardigan   \n",
       "384671  0.050831                 2        706733  Cross Cardigan   \n",
       "384672  0.050831                 2        706733  Cross Cardigan   \n",
       "\n",
       "       product_type_name  product_group_name  ...          department_name  \\\n",
       "384670          Cardigan  Garment Upper body  ...  Jersey inactive from s1   \n",
       "384671          Cardigan  Garment Upper body  ...  Jersey inactive from s1   \n",
       "384672          Cardigan  Garment Upper body  ...  Jersey inactive from s1   \n",
       "\n",
       "        index_name         section_name garment_group_name  \\\n",
       "384670    Menswear  Contemporary Street       Jersey Fancy   \n",
       "384671    Menswear  Contemporary Street       Jersey Fancy   \n",
       "384672    Menswear  Contemporary Street       Jersey Fancy   \n",
       "\n",
       "                                              detail_desc  \\\n",
       "384670  Cardigan in lightweight sweatshirt fabric with...   \n",
       "384671  Cardigan in lightweight sweatshirt fabric with...   \n",
       "384672  Cardigan in lightweight sweatshirt fabric with...   \n",
       "\n",
       "                                   transaction_custdat_id Active  \\\n",
       "384670  c2f0cdda2dc3042ccd9fcd8253fd8e368769840581e40a...    NaN   \n",
       "384671  c2f0cdda2dc3042ccd9fcd8253fd8e368769840581e40a...    NaN   \n",
       "384672  c2f0cdda2dc3042ccd9fcd8253fd8e368769840581e40a...    NaN   \n",
       "\n",
       "       club_member_status fashion_news_frequency   age  \n",
       "384670             ACTIVE                   NONE  52.0  \n",
       "384671             ACTIVE                   NONE  52.0  \n",
       "384672             ACTIVE                   NONE  52.0  \n",
       "\n",
       "[3 rows x 25 columns]"
      ]
     },
     "execution_count": 41,
     "metadata": {},
     "output_type": "execute_result"
    }
   ],
   "source": [
    "full_data[full_data['transaction_custdat_id'] == 'c2f0cdda2dc3042ccd9fcd8253fd8e368769840581e40aab1d87a64ff39987e32018-12-17'].head(3)"
   ]
  },
  {
   "cell_type": "markdown",
   "metadata": {},
   "source": [
    "We can see that there are multiple transactions isntances of the same product code. Some customers seemed to buy the same product in bulk volume. We have to confirm if the product_code represents unique items. If yes, then we can reduce the dataframe to unique items per record and create another variable called quantity of products for each unique product."
   ]
  },
  {
   "cell_type": "code",
   "execution_count": 42,
   "metadata": {},
   "outputs": [
    {
     "data": {
      "text/plain": [
       "909708"
      ]
     },
     "execution_count": 42,
     "metadata": {},
     "output_type": "execute_result"
    }
   ],
   "source": [
    "full_data['transaction_custdat_id'].nunique()"
   ]
  },
  {
   "cell_type": "code",
   "execution_count": 49,
   "metadata": {},
   "outputs": [
    {
     "name": "stdout",
     "output_type": "stream",
     "text": [
      "39160\n",
      "128\n",
      "30\n",
      "19\n",
      "21\n"
     ]
    }
   ],
   "source": [
    "#Let us confirm if product code indicates unique products\n",
    "print(full_data['prod_name'].nunique())\n",
    "print(full_data['product_type_name'].nunique())\n",
    "print(full_data['graphical_appearance_name'].nunique())\n",
    "print(full_data['product_group_name'].nunique())\n",
    "print(full_data['garment_group_name'].nunique())"
   ]
  },
  {
   "cell_type": "markdown",
   "metadata": {},
   "source": [
    "**The garment_group_name is a broder category while the others are granular category**"
   ]
  },
  {
   "cell_type": "markdown",
   "metadata": {},
   "source": [
    "The full_data is cleaned for duplicates using groupby and size. The same data is written to a folder. So we can import the file and reuse it directly."
   ]
  },
  {
   "cell_type": "code",
   "execution_count": 69,
   "metadata": {},
   "outputs": [],
   "source": [
    "x_data = full_data.groupby(['t_dat', 'customer_id', 'article_id', 'product_code',\n",
    "       'prod_name', 'product_type_name', 'product_group_name',\n",
    "       'graphical_appearance_name', 'colour_group_name',\n",
    "       'perceived_colour_value_name', 'perceived_colour_master_name',\n",
    "       'department_name', 'index_name', 'section_name', 'garment_group_name',\n",
    "       'detail_desc', 'transaction_custdat_id', 'club_member_status',\n",
    "       'fashion_news_frequency', 'age']).size().reset_index().\\\n",
    "    rename(columns={0:'records'})"
   ]
  },
  {
   "cell_type": "code",
   "execution_count": 85,
   "metadata": {},
   "outputs": [],
   "source": [
    "#x_data.to_csv(\"C:/Users/ASUS/Documents/Exeter MSc in BA Learning/Business Project/H&M Dataset/x_data_1.csv\")"
   ]
  },
  {
   "cell_type": "code",
   "execution_count": 5,
   "metadata": {},
   "outputs": [],
   "source": [
    "x_data = pd.read_csv(\"C:/Users/ASUS/Documents/Exeter MSc in BA Learning/Business Project/H&M Dataset/x_data_1.csv\")"
   ]
  },
  {
   "cell_type": "code",
   "execution_count": 9,
   "metadata": {},
   "outputs": [],
   "source": [
    "x_data1 = pd.read_csv(\"C:/Users/ASUS/Documents/Exeter MSc in BA Learning/Business Project/H&M Dataset/x_data_updatedSeptember.csv\")"
   ]
  },
  {
   "cell_type": "code",
   "execution_count": 10,
   "metadata": {},
   "outputs": [
    {
     "data": {
      "text/plain": [
       "Index(['Unnamed: 0', 't_dat', 'customer_id', 'article_id', 'product_code',\n",
       "       'prod_name', 'product_type_name', 'product_group_name',\n",
       "       'graphical_appearance_name', 'colour_group_name',\n",
       "       'perceived_colour_value_name', 'perceived_colour_master_name',\n",
       "       'department_name', 'index_name', 'section_name', 'garment_group_name',\n",
       "       'detail_desc', 'transaction_custdat_id', 'club_member_status',\n",
       "       'fashion_news_frequency', 'age', 'records', 'unique_id_items'],\n",
       "      dtype='object')"
      ]
     },
     "execution_count": 10,
     "metadata": {},
     "output_type": "execute_result"
    }
   ],
   "source": [
    "x_data.columns"
   ]
  },
  {
   "cell_type": "code",
   "execution_count": 11,
   "metadata": {},
   "outputs": [
    {
     "data": {
      "text/plain": [
       "Index(['Unnamed: 0', 'Unnamed: 0.1', 't_dat', 'customer_id', 'article_id',\n",
       "       'product_code', 'prod_name', 'product_type_name', 'product_group_name',\n",
       "       'graphical_appearance_name', 'colour_group_name',\n",
       "       'perceived_colour_value_name', 'perceived_colour_master_name',\n",
       "       'department_name', 'index_name', 'section_name', 'garment_group_name',\n",
       "       'detail_desc', 'transaction_custdat_id', 'club_member_status',\n",
       "       'fashion_news_frequency', 'age', 'records',\n",
       "       'mean_price_by_transactions_x', 'basketsizes', 'segment',\n",
       "       'mean_price_by_customers'],\n",
       "      dtype='object')"
      ]
     },
     "execution_count": 11,
     "metadata": {},
     "output_type": "execute_result"
    }
   ],
   "source": [
    "x_data1.columns"
   ]
  },
  {
   "cell_type": "code",
   "execution_count": 51,
   "metadata": {},
   "outputs": [
    {
     "data": {
      "text/plain": [
       "(2153323, 22)"
      ]
     },
     "execution_count": 51,
     "metadata": {},
     "output_type": "execute_result"
    }
   ],
   "source": [
    "x_data.shape"
   ]
  },
  {
   "cell_type": "code",
   "execution_count": 52,
   "metadata": {},
   "outputs": [
    {
     "data": {
      "text/plain": [
       "75c54a755b8a467e53e0a4e01833deb029734feb22ad25438137925123a38f8b2018-09-29    159\n",
       "898ede9fb639eb2aedb2d1d433eea958817e2bbb9f94524b3a0709af6fb5257e2019-11-12     76\n",
       "898ede9fb639eb2aedb2d1d433eea958817e2bbb9f94524b3a0709af6fb5257e2019-02-21     59\n",
       "8449c2d5192fde129f3a0fbe67998bbb8a55d4253082eeb4c832ce9635cf88262018-10-21     55\n",
       "2e17f6f8bec3ab2ab14b071c6afa907606699cd67aeb4cedbda13b2809b3a7132019-04-06     54\n",
       "                                                                             ... \n",
       "37798cf63f06852670e3fb95c07d13ab209135ccf957e0a226a8592a792f9cb52018-11-18      1\n",
       "562778970727dbadf22096a20e5d9e003f021498d1650bb91908de2cfa39d94e2019-06-25      1\n",
       "b29c6fff0b591d9da29215d2e7a02eb661973dc1a2ca382ff6f81ae57613fd632019-04-16      1\n",
       "8906e525a1875205f696ae5b69ff63bafbec40e54903c3edec562dc4c9c6c97f2019-12-29      1\n",
       "b8e01b89a9e3011f26771fc0281c11d6fdd32af6cf5bf394879a2f97c1b87f692020-03-20      1\n",
       "Name: transaction_custdat_id, Length: 685925, dtype: int64"
      ]
     },
     "execution_count": 52,
     "metadata": {},
     "output_type": "execute_result"
    }
   ],
   "source": [
    "x_data['transaction_custdat_id'].value_counts()"
   ]
  },
  {
   "cell_type": "code",
   "execution_count": 7,
   "metadata": {},
   "outputs": [],
   "source": [
    "x_data['unique_id_items'] = x_data['transaction_custdat_id'] + str(x_data['article_id'])"
   ]
  },
  {
   "cell_type": "code",
   "execution_count": 8,
   "metadata": {},
   "outputs": [
    {
     "name": "stdout",
     "output_type": "stream",
     "text": [
      "685925\n",
      "685925\n"
     ]
    }
   ],
   "source": [
    "print(x_data['transaction_custdat_id'].nunique())\n",
    "print(x_data['unique_id_items'].nunique())"
   ]
  },
  {
   "cell_type": "markdown",
   "metadata": {},
   "source": [
    "This confirms that all the transactions are unique transactions of uniques article ids."
   ]
  },
  {
   "cell_type": "markdown",
   "metadata": {},
   "source": [
    "**We have the merged total data of customers, products and transactions but we need to do step by step analysis on these data variables.**"
   ]
  },
  {
   "cell_type": "markdown",
   "metadata": {},
   "source": [
    "### Step 1: Customer data analysis"
   ]
  },
  {
   "cell_type": "markdown",
   "metadata": {},
   "source": [
    "### Step 2: Product Analysis"
   ]
  },
  {
   "cell_type": "markdown",
   "metadata": {},
   "source": [
    "The data processed with the customer analysis is already exported to the folders and saved. The same is imported with the below code. The code have to be customized to the local folder of the working system directory. The dataset x_data_widsegments is provided along with the python code files."
   ]
  },
  {
   "cell_type": "code",
   "execution_count": null,
   "metadata": {},
   "outputs": [],
   "source": [
    "x_data_widsegments = pd.read_csv(\"C:/Users/ASUS/Documents/Exeter MSc in BA Learning/Business Project/H&M Dataset/x_data_widsegments.csv\")"
   ]
  },
  {
   "cell_type": "code",
   "execution_count": 162,
   "metadata": {},
   "outputs": [],
   "source": [
    "import scipy.stats as stats"
   ]
  },
  {
   "cell_type": "code",
   "execution_count": 173,
   "metadata": {},
   "outputs": [
    {
     "name": "stdout",
     "output_type": "stream",
     "text": [
      "garment_group_name: 21\n",
      "product_type_name: 131\n",
      "perceived_colour_master_name: 20\n",
      "graphical_appearance_name: 30\n"
     ]
    }
   ],
   "source": [
    "print('garment_group_name:', products['garment_group_name'].nunique())\n",
    "print('product_type_name:', products['product_type_name'].nunique())\n",
    "print('perceived_colour_master_name:', products['perceived_colour_master_name'].nunique())\n",
    "print('graphical_appearance_name:', products['graphical_appearance_name'].nunique())"
   ]
  },
  {
   "cell_type": "code",
   "execution_count": 163,
   "metadata": {},
   "outputs": [
    {
     "name": "stdout",
     "output_type": "stream",
     "text": [
      "Approach 1: The p-value approach to hypothesis testing in the decision rule\n",
      "chisquare-score is: 939237.1044052105  and p value is: 0.0\n",
      "Null Hypothesis is rejected.\n"
     ]
    }
   ],
   "source": [
    "##Let us check the variation of product_type_name and prod_name across product_group_name by using chi square test\n",
    "# create contingency table\n",
    "data_crosstab = pd.crosstab(products['garment_group_name'],\n",
    "                            products['product_type_name'],\n",
    "                           margins=True, margins_name=\"Total\")\n",
    "\n",
    "# significance level\n",
    "alpha = 0.05\n",
    "\n",
    "# Calcualtion of Chisquare\n",
    "chi_square = 0\n",
    "rows = products['garment_group_name'].unique()\n",
    "columns = products['product_type_name'].unique()\n",
    "for i in columns:\n",
    "    for j in rows:\n",
    "        O = data_crosstab[i][j]\n",
    "        E = data_crosstab[i]['Total'] * data_crosstab['Total'][j] / data_crosstab['Total']['Total']\n",
    "        chi_square += (O-E)**2/E\n",
    "\n",
    "# The p-value approach\n",
    "print(\"Approach 1: The p-value approach to hypothesis testing in the decision rule\")\n",
    "p_value = 1 - stats.chi2.cdf(chi_square, (len(rows)-1)*(len(columns)-1))\n",
    "conclusion = \"Failed to reject the null hypothesis.\"\n",
    "if p_value <= alpha:\n",
    "    conclusion = \"Null Hypothesis is rejected.\"\n",
    "        \n",
    "print(\"chisquare-score is:\", chi_square, \" and p value is:\", p_value)\n",
    "print(conclusion)"
   ]
  },
  {
   "cell_type": "code",
   "execution_count": 290,
   "metadata": {},
   "outputs": [
    {
     "data": {
      "text/plain": [
       "Index(['Unnamed: 0', 't_dat', 'customer_id', 'article_id', 'price',\n",
       "       'sales_channel_id', 'product_code', 'prod_name', 'product_type_name',\n",
       "       'product_group_name', 'graphical_appearance_name', 'colour_group_code',\n",
       "       'colour_group_name', 'perceived_colour_value_name',\n",
       "       'perceived_colour_master_name', 'department_name', 'index_name',\n",
       "       'section_name', 'garment_group_name', 'detail_desc',\n",
       "       'transaction_custdat_id', 'Active', 'club_member_status',\n",
       "       'fashion_news_frequency', 'age'],\n",
       "      dtype='object')"
      ]
     },
     "execution_count": 290,
     "metadata": {},
     "output_type": "execute_result"
    }
   ],
   "source": [
    "full_data.columns"
   ]
  },
  {
   "cell_type": "code",
   "execution_count": 164,
   "metadata": {},
   "outputs": [
    {
     "name": "stdout",
     "output_type": "stream",
     "text": [
      "Approach 1: The p-value approach to hypothesis testing in the decision rule\n",
      "chisquare-score is: 14358.554237580918  and p value is: 0.0\n",
      "Null Hypothesis is rejected.\n"
     ]
    }
   ],
   "source": [
    "##Let us check the variation of product_type_name and prod_name across product_group_name by using chi square test\n",
    "# create contingency table\n",
    "data_crosstab = pd.crosstab(products['garment_group_name'],\n",
    "                            products['perceived_colour_value_name'],\n",
    "                           margins=True, margins_name=\"Total\")\n",
    "\n",
    "# significance level\n",
    "alpha = 0.05\n",
    "\n",
    "# Calcualtion of Chisquare\n",
    "chi_square = 0\n",
    "rows = products['garment_group_name'].unique()\n",
    "columns = products['perceived_colour_value_name'].unique()\n",
    "for i in columns:\n",
    "    for j in rows:\n",
    "        O = data_crosstab[i][j]\n",
    "        E = data_crosstab[i]['Total'] * data_crosstab['Total'][j] / data_crosstab['Total']['Total']\n",
    "        chi_square += (O-E)**2/E\n",
    "\n",
    "# The p-value approach\n",
    "print(\"Approach 1: The p-value approach to hypothesis testing in the decision rule\")\n",
    "p_value = 1 - stats.chi2.cdf(chi_square, (len(rows)-1)*(len(columns)-1))\n",
    "conclusion = \"Failed to reject the null hypothesis.\"\n",
    "if p_value <= alpha:\n",
    "    conclusion = \"Null Hypothesis is rejected.\"\n",
    "        \n",
    "print(\"chisquare-score is:\", chi_square, \" and p value is:\", p_value)\n",
    "print(conclusion)"
   ]
  },
  {
   "cell_type": "markdown",
   "metadata": {},
   "source": [
    "**Thus we have seen that prod_name, product_type_name and product_group_name are the most relevant fetaures to be analysed. Since product code is unique product identifier, we shall keep it for furthur reduction of dataset and records.**"
   ]
  },
  {
   "cell_type": "code",
   "execution_count": 174,
   "metadata": {},
   "outputs": [
    {
     "name": "stdout",
     "output_type": "stream",
     "text": [
      "Approach 1: The p-value approach to hypothesis testing in the decision rule\n",
      "chisquare-score is: 126130.45429152496  and p value is: 0.0\n",
      "Null Hypothesis is rejected.\n"
     ]
    }
   ],
   "source": [
    "##Let us check the variation of product_type_name and prod_name across product_group_name by using chi square test\n",
    "# create contingency table\n",
    "data_crosstab = pd.crosstab(products['garment_group_name'],\n",
    "                            products['graphical_appearance_name'],\n",
    "                           margins=True, margins_name=\"Total\")\n",
    "\n",
    "# significance level\n",
    "alpha = 0.05\n",
    "\n",
    "# Calcualtion of Chisquare\n",
    "chi_square = 0\n",
    "rows = products['garment_group_name'].unique()\n",
    "columns = products['graphical_appearance_name'].unique()\n",
    "for i in columns:\n",
    "    for j in rows:\n",
    "        O = data_crosstab[i][j]\n",
    "        E = data_crosstab[i]['Total'] * data_crosstab['Total'][j] / data_crosstab['Total']['Total']\n",
    "        chi_square += (O-E)**2/E\n",
    "\n",
    "# The p-value approach\n",
    "print(\"Approach 1: The p-value approach to hypothesis testing in the decision rule\")\n",
    "p_value = 1 - stats.chi2.cdf(chi_square, (len(rows)-1)*(len(columns)-1))\n",
    "conclusion = \"Failed to reject the null hypothesis.\"\n",
    "if p_value <= alpha:\n",
    "    conclusion = \"Null Hypothesis is rejected.\"\n",
    "        \n",
    "print(\"chisquare-score is:\", chi_square, \" and p value is:\", p_value)\n",
    "print(conclusion)"
   ]
  },
  {
   "cell_type": "markdown",
   "metadata": {},
   "source": [
    "From the above analysis we can conclude that there is significant association of graphical_appearance_name with product_group_name.\n",
    "\n",
    "Thus the fetaure which seem important from the above anaysis are - product_code, prod_name, product_type_name, product_group_name, graphical_appearance_name"
   ]
  },
  {
   "cell_type": "markdown",
   "metadata": {},
   "source": [
    "From the above analysis it seems the most important color features to be selected are - 'perceived_colour_value_name', 'perceived_color_master_name' "
   ]
  },
  {
   "cell_type": "code",
   "execution_count": 177,
   "metadata": {},
   "outputs": [],
   "source": [
    "x_data_widsegments = pd.read_csv(\"C:/Users/ASUS/Documents/Exeter MSc in BA Learning/Business Project/H&M Dataset/x_data_widsegments.csv\")"
   ]
  },
  {
   "cell_type": "code",
   "execution_count": 184,
   "metadata": {},
   "outputs": [],
   "source": [
    "x_data_widsegment1 = x_data_widsegments[(x_data_widsegments['kmeanscluster'] == 1)]\n",
    "x_data_widsegment2 = x_data_widsegments[(x_data_widsegments['kmeanscluster'] == 2)]\n",
    "x_data_widsegment3 = x_data_widsegments[(x_data_widsegments['kmeanscluster'] == 3)]"
   ]
  },
  {
   "cell_type": "code",
   "execution_count": 185,
   "metadata": {},
   "outputs": [],
   "source": [
    "import statistics\n",
    "#statistics.mean(list1)"
   ]
  },
  {
   "cell_type": "code",
   "execution_count": 186,
   "metadata": {},
   "outputs": [],
   "source": [
    "from mlxtend.preprocessing import TransactionEncoder"
   ]
  },
  {
   "cell_type": "code",
   "execution_count": 187,
   "metadata": {},
   "outputs": [],
   "source": [
    "from mlxtend.frequent_patterns import association_rules\n",
    "from mlxtend.frequent_patterns import apriori"
   ]
  },
  {
   "cell_type": "code",
   "execution_count": 192,
   "metadata": {},
   "outputs": [],
   "source": [
    "from itertools import permutations"
   ]
  },
  {
   "cell_type": "markdown",
   "metadata": {},
   "source": [
    "**There is significant association amongst product groups ie. product_group_name\\\n",
    "There is significant association amongst product of a couple of graphical appearance.\\\n",
    "There is significant association amongst certain Product Types\\\n",
    "There is significant association amongst certain sections\\\n",
    "There is some association amongst the products of certain department_names**"
   ]
  },
  {
   "cell_type": "markdown",
   "metadata": {},
   "source": [
    "All the metrics from apriori are encapsulated into functions for easy usage"
   ]
  },
  {
   "cell_type": "code",
   "execution_count": 188,
   "metadata": {},
   "outputs": [],
   "source": [
    "def get_onehot(data, feature_variable):\n",
    "    segtransrandsample = random.sample(data['transaction_custdat_id'].unique().tolist(), k = int(0.05*len(data['transaction_custdat_id'].unique().tolist())))\n",
    "    print(len(segtransrandsample))\n",
    "    segmentrandomsampled = data[data['transaction_custdat_id'].isin(segtransrandsample)]\n",
    "    segmenttrans = pd.DataFrame(segmentrandomsampled.groupby('transaction_custdat_id')[feature_variable].unique())\n",
    "    segmenttrans = segmenttrans.reset_index()\n",
    "    segmenttrans = segmenttrans.drop('transaction_custdat_id', axis = 1)\n",
    "    #mask = Septransaction_randomlist1['article_id'].apply(lambda x: any(item for item in segment1_favs if item in x))\n",
    "    #Septransaction_list1 = Septransaction_list1[mask]\n",
    "    segmenttranstolist = segmenttrans[feature_variable].apply(lambda x: x.tolist())\n",
    "    segmenttranstolist = list(segmenttranstolist)\n",
    "    encoder3 = TransactionEncoder().fit(segmenttranstolist)\n",
    "    onehot3 = encoder3.transform(segmenttranstolist)\n",
    "    onehot3 = pd.DataFrame(onehot3, columns = encoder3.columns_)\n",
    "    return onehot3\n"
   ]
  },
  {
   "cell_type": "code",
   "execution_count": 189,
   "metadata": {},
   "outputs": [],
   "source": [
    "def get_meansupport(data, feature_variable):\n",
    "    segtransrandsample = random.sample(data['transaction_custdat_id'].unique().tolist(), k = int(0.05*len(data['transaction_custdat_id'].unique().tolist())))\n",
    "    print(len(segtransrandsample))\n",
    "    segmentrandomsampled = data[data['transaction_custdat_id'].isin(segtransrandsample)]\n",
    "    segmenttrans = pd.DataFrame(segmentrandomsampled.groupby('transaction_custdat_id')[feature_variable].unique())\n",
    "    segmenttrans = segmenttrans.reset_index()\n",
    "    segmenttrans = segmenttrans.drop('transaction_custdat_id', axis = 1)\n",
    "    #mask = Septransaction_randomlist1['article_id'].apply(lambda x: any(item for item in segment1_favs if item in x))\n",
    "    #Septransaction_list1 = Septransaction_list1[mask]\n",
    "    segmenttranstolist = segmenttrans[feature_variable].apply(lambda x: x.tolist())\n",
    "    segmenttranstolist = list(segmenttranstolist)\n",
    "    encoder3 = TransactionEncoder().fit(segmenttranstolist)\n",
    "    onehot3 = encoder3.transform(segmenttranstolist)\n",
    "    onehot3 = pd.DataFrame(onehot3, columns = encoder3.columns_)\n",
    "    rules7 = list(permutations(onehot3.columns.tolist(),2))\n",
    "    list7 = []\n",
    "    for i in range(len(rules7)):\n",
    "        x = np.logical_and(onehot3[rules7[i][0]], onehot3[rules7[i][1]]).mean()\n",
    "        list7.append(x)\n",
    "    return np.mean(list7)  "
   ]
  },
  {
   "cell_type": "code",
   "execution_count": 201,
   "metadata": {},
   "outputs": [],
   "source": [
    "def get_sdsupport(data, feature_variable):\n",
    "    segtransrandsample = random.sample(data['transaction_custdat_id'].unique().tolist(), k = int(0.05*len(data['transaction_custdat_id'].unique().tolist())))\n",
    "    print(len(segtransrandsample))\n",
    "    segmentrandomsampled = data[data['transaction_custdat_id'].isin(segtransrandsample)]\n",
    "    segmenttrans = pd.DataFrame(segmentrandomsampled.groupby('transaction_custdat_id')[feature_variable].unique())\n",
    "    segmenttrans = segmenttrans.reset_index()\n",
    "    segmenttrans = segmenttrans.drop('transaction_custdat_id', axis = 1)\n",
    "    #mask = Septransaction_randomlist1['article_id'].apply(lambda x: any(item for item in segment1_favs if item in x))\n",
    "    #Septransaction_list1 = Septransaction_list1[mask]\n",
    "    segmenttranstolist = segmenttrans[feature_variable].apply(lambda x: x.tolist())\n",
    "    segmenttranstolist = list(segmenttranstolist)\n",
    "    encoder3 = TransactionEncoder().fit(segmenttranstolist)\n",
    "    onehot3 = encoder3.transform(segmenttranstolist)\n",
    "    onehot3 = pd.DataFrame(onehot3, columns = encoder3.columns_)\n",
    "    rules7 = list(permutations(onehot3.columns.tolist(),2))\n",
    "    list7 = []\n",
    "    for i in range(len(rules7)):\n",
    "        x = np.logical_and(onehot3[rules7[i][0]], onehot3[rules7[i][1]]).mean()\n",
    "        list7.append(x)\n",
    "    print(len(list7))\n",
    "    return np.std(list7)  "
   ]
  },
  {
   "cell_type": "code",
   "execution_count": 190,
   "metadata": {},
   "outputs": [],
   "source": [
    "def get_maskedonehot(data, feature_variable, masking_var, masking_favs):\n",
    "    segtransrandsample = random.sample(data['transaction_custdat_id'].unique().tolist(), k = int(0.05*len(data['transaction_custdat_id'].unique().tolist())))\n",
    "    print(len(segtransrandsample))\n",
    "    segmentrandomsampled = data[data['transaction_custdat_id'].isin(segtransrandsample)]\n",
    "    segmenttrans = pd.DataFrame(segmentrandomsampled.groupby('transaction_custdat_id')[masking_var].unique())\n",
    "    segmenttrans = segmenttrans.reset_index()\n",
    "    mask = segmenttrans[masking_var].apply(lambda x: any(item for item in masking_favs if item in x))\n",
    "    segmenttransmasked = segmenttrans[mask]\n",
    "    trans_ids = segmenttransmasked['transaction_custdat_id'].unique().tolist()\n",
    "    maskedsegment= data[data['transaction_custdat_id'].isin(trans_ids)]\n",
    "    maskedsegment = pd.DataFrame(maskedsegment.groupby('transaction_custdat_id')[feature_variable].unique())\n",
    "    maskedsegment = maskedsegment.reset_index()\n",
    "    maskedsegment = maskedsegment.drop('transaction_custdat_id', axis = 1)\n",
    "    segmenttranstolist = maskedsegment[feature_variable].apply(lambda x: x.tolist())\n",
    "    segmenttranstolist = list(segmenttranstolist)`\n",
    "    encoder3 = TransactionEncoder().fit(segmenttranstolist)\n",
    "    onehot3 = encoder3.transform(segmenttranstolist)\n",
    "    onehot3 = pd.DataFrame(onehot3, columns = encoder3.columns_)\n",
    "    return onehot3"
   ]
  },
  {
   "cell_type": "code",
   "execution_count": 493,
   "metadata": {},
   "outputs": [],
   "source": [
    "def get_topfrequentitems(onehotdf, min_support_num, max_len_num):\n",
    "    frequent_itemsets = apriori(onehotdf, min_support = min_support_num, max_len = max_len_num, use_colnames = True)\n",
    "    topitemsindex = frequent_itemsets['support'].sort_values(ascending = False).index\n",
    "    top_frequent_itemsets = frequent_itemsets.loc[topitemsindex].head(20)\n",
    "    return top_frequent_itemsets"
   ]
  },
  {
   "cell_type": "code",
   "execution_count": 207,
   "metadata": {},
   "outputs": [
    {
     "data": {
      "text/plain": [
       "Index(['Unnamed: 0', 'Unnamed: 0.1', 'X', 'Unnamed..0', 't_dat', 'customer_id',\n",
       "       'article_id', 'product_code', 'prod_name', 'product_type_name',\n",
       "       'product_group_name', 'graphical_appearance_name', 'colour_group_name',\n",
       "       'perceived_colour_value_name', 'perceived_colour_master_name',\n",
       "       'department_name', 'index_name', 'section_name', 'garment_group_name',\n",
       "       'detail_desc', 'transaction_custdat_id', 'club_member_status',\n",
       "       'fashion_news_frequency', 'age', 'records', 'unique_id_items',\n",
       "       'age_bracket', 'memberships_and_FN', 't_datetime',\n",
       "       'mean_pricebytransaction', 'segment', 'basketsizes', 'kmeanscluster',\n",
       "       'mean_price_per_product'],\n",
       "      dtype='object')"
      ]
     },
     "execution_count": 207,
     "metadata": {},
     "output_type": "execute_result"
    }
   ],
   "source": [
    "x_data_widsegment3.columns"
   ]
  },
  {
   "cell_type": "code",
   "execution_count": 227,
   "metadata": {},
   "outputs": [
    {
     "name": "stdout",
     "output_type": "stream",
     "text": [
      "1592\n",
      "1592\n",
      "1592\n",
      "1592\n"
     ]
    },
    {
     "data": {
      "text/plain": [
       "0.0030571357906088847"
      ]
     },
     "execution_count": 227,
     "metadata": {},
     "output_type": "execute_result"
    }
   ],
   "source": [
    "x1 = get_meansupport(x_data_widsegment3, 'product_type_name')\n",
    "x2 = get_meansupport(x_data_widsegment3, 'product_type_name')\n",
    "x3 = get_meansupport(x_data_widsegment3, 'product_type_name')\n",
    "x4 = get_meansupport(x_data_widsegment3, 'product_type_name')\n",
    "(x1+x2+x3+x4)/4"
   ]
  },
  {
   "cell_type": "code",
   "execution_count": 226,
   "metadata": {},
   "outputs": [
    {
     "name": "stdout",
     "output_type": "stream",
     "text": [
      "19637\n",
      "10506\n",
      "19637\n",
      "10712\n",
      "19637\n",
      "11130\n",
      "19637\n",
      "11342\n"
     ]
    },
    {
     "data": {
      "text/plain": [
       "0.0021811486056317513"
      ]
     },
     "execution_count": 226,
     "metadata": {},
     "output_type": "execute_result"
    }
   ],
   "source": [
    "x1 = get_sdsupport(x_data_widsegment3, 'product_type_name')\n",
    "x2 = get_sdsupport(x_data_widsegment3, 'product_type_name')\n",
    "x3 = get_sdsupport(x_data_widsegment3, 'product_type_name')\n",
    "x4 = get_sdsupport(x_data_widsegment3, 'product_type_name')\n",
    "\n",
    "(x1+x2+x3+x4)/4"
   ]
  },
  {
   "cell_type": "code",
   "execution_count": 196,
   "metadata": {},
   "outputs": [
    {
     "name": "stdout",
     "output_type": "stream",
     "text": [
      "13038\n"
     ]
    },
    {
     "data": {
      "text/html": [
       "<div>\n",
       "<style scoped>\n",
       "    .dataframe tbody tr th:only-of-type {\n",
       "        vertical-align: middle;\n",
       "    }\n",
       "\n",
       "    .dataframe tbody tr th {\n",
       "        vertical-align: top;\n",
       "    }\n",
       "\n",
       "    .dataframe thead th {\n",
       "        text-align: right;\n",
       "    }\n",
       "</style>\n",
       "<table border=\"1\" class=\"dataframe\">\n",
       "  <thead>\n",
       "    <tr style=\"text-align: right;\">\n",
       "      <th></th>\n",
       "      <th>support</th>\n",
       "      <th>itemsets</th>\n",
       "    </tr>\n",
       "  </thead>\n",
       "  <tbody>\n",
       "    <tr>\n",
       "      <th>5</th>\n",
       "      <td>0.291686</td>\n",
       "      <td>(Jersey Fancy)</td>\n",
       "    </tr>\n",
       "    <tr>\n",
       "      <th>15</th>\n",
       "      <td>0.197116</td>\n",
       "      <td>(Trousers)</td>\n",
       "    </tr>\n",
       "    <tr>\n",
       "      <th>1</th>\n",
       "      <td>0.175487</td>\n",
       "      <td>(Blouses)</td>\n",
       "    </tr>\n",
       "    <tr>\n",
       "      <th>6</th>\n",
       "      <td>0.172342</td>\n",
       "      <td>(Knitwear)</td>\n",
       "    </tr>\n",
       "    <tr>\n",
       "      <th>4</th>\n",
       "      <td>0.170272</td>\n",
       "      <td>(Jersey Basic)</td>\n",
       "    </tr>\n",
       "    <tr>\n",
       "      <th>3</th>\n",
       "      <td>0.135987</td>\n",
       "      <td>(Dresses Ladies)</td>\n",
       "    </tr>\n",
       "    <tr>\n",
       "      <th>17</th>\n",
       "      <td>0.129314</td>\n",
       "      <td>(Under-, Nightwear)</td>\n",
       "    </tr>\n",
       "    <tr>\n",
       "      <th>0</th>\n",
       "      <td>0.100399</td>\n",
       "      <td>(Accessories)</td>\n",
       "    </tr>\n",
       "    <tr>\n",
       "      <th>16</th>\n",
       "      <td>0.090658</td>\n",
       "      <td>(Trousers Denim)</td>\n",
       "    </tr>\n",
       "    <tr>\n",
       "      <th>7</th>\n",
       "      <td>0.068722</td>\n",
       "      <td>(Outdoor)</td>\n",
       "    </tr>\n",
       "    <tr>\n",
       "      <th>14</th>\n",
       "      <td>0.068109</td>\n",
       "      <td>(Swimwear)</td>\n",
       "    </tr>\n",
       "    <tr>\n",
       "      <th>47</th>\n",
       "      <td>0.065501</td>\n",
       "      <td>(Jersey Fancy, Jersey Basic)</td>\n",
       "    </tr>\n",
       "    <tr>\n",
       "      <th>62</th>\n",
       "      <td>0.056604</td>\n",
       "      <td>(Trousers, Jersey Fancy)</td>\n",
       "    </tr>\n",
       "    <tr>\n",
       "      <th>29</th>\n",
       "      <td>0.051695</td>\n",
       "      <td>(Blouses, Jersey Fancy)</td>\n",
       "    </tr>\n",
       "    <tr>\n",
       "      <th>55</th>\n",
       "      <td>0.046786</td>\n",
       "      <td>(Jersey Fancy, Knitwear)</td>\n",
       "    </tr>\n",
       "    <tr>\n",
       "      <th>9</th>\n",
       "      <td>0.045866</td>\n",
       "      <td>(Shoes)</td>\n",
       "    </tr>\n",
       "    <tr>\n",
       "      <th>40</th>\n",
       "      <td>0.041341</td>\n",
       "      <td>(Jersey Fancy, Dresses Ladies)</td>\n",
       "    </tr>\n",
       "    <tr>\n",
       "      <th>12</th>\n",
       "      <td>0.041187</td>\n",
       "      <td>(Socks and Tights)</td>\n",
       "    </tr>\n",
       "    <tr>\n",
       "      <th>11</th>\n",
       "      <td>0.039500</td>\n",
       "      <td>(Skirts)</td>\n",
       "    </tr>\n",
       "    <tr>\n",
       "      <th>10</th>\n",
       "      <td>0.039500</td>\n",
       "      <td>(Shorts)</td>\n",
       "    </tr>\n",
       "  </tbody>\n",
       "</table>\n",
       "</div>"
      ],
      "text/plain": [
       "     support                        itemsets\n",
       "5   0.291686                  (Jersey Fancy)\n",
       "15  0.197116                      (Trousers)\n",
       "1   0.175487                       (Blouses)\n",
       "6   0.172342                      (Knitwear)\n",
       "4   0.170272                  (Jersey Basic)\n",
       "3   0.135987                (Dresses Ladies)\n",
       "17  0.129314             (Under-, Nightwear)\n",
       "0   0.100399                   (Accessories)\n",
       "16  0.090658                (Trousers Denim)\n",
       "7   0.068722                       (Outdoor)\n",
       "14  0.068109                      (Swimwear)\n",
       "47  0.065501    (Jersey Fancy, Jersey Basic)\n",
       "62  0.056604        (Trousers, Jersey Fancy)\n",
       "29  0.051695         (Blouses, Jersey Fancy)\n",
       "55  0.046786        (Jersey Fancy, Knitwear)\n",
       "9   0.045866                         (Shoes)\n",
       "40  0.041341  (Jersey Fancy, Dresses Ladies)\n",
       "12  0.041187              (Socks and Tights)\n",
       "11  0.039500                        (Skirts)\n",
       "10  0.039500                        (Shorts)"
      ]
     },
     "execution_count": 196,
     "metadata": {},
     "output_type": "execute_result"
    }
   ],
   "source": [
    "seg2pgonehot = get_onehot(x_data_widsegment1, 'garment_group_name')\n",
    "frequent_itemsets = apriori(seg2pgonehot, min_support = 0.008, max_len = 3, use_colnames = True)\n",
    "topitemsindex = frequent_itemsets['support'].sort_values(ascending = False).index\n",
    "frequent_itemsets.loc[topitemsindex].head(20)"
   ]
  },
  {
   "cell_type": "code",
   "execution_count": 579,
   "metadata": {},
   "outputs": [
    {
     "name": "stdout",
     "output_type": "stream",
     "text": [
      "1592\n",
      "      support                            itemsets\n",
      "20   0.944832                             (Solid)\n",
      "0    0.509078                  (All over pattern)\n",
      "39   0.481145           (All over pattern, Solid)\n",
      "12   0.303073                           (Melange)\n",
      "100  0.293296                    (Melange, Solid)\n",
      "5    0.289106                             (Denim)\n",
      "71   0.282123                      (Denim, Solid)\n",
      "21   0.272346                            (Stripe)\n",
      "113  0.263966                     (Stripe, Solid)\n",
      "40   0.171089          (Stripe, All over pattern)\n",
      "162  0.166201   (Stripe, All over pattern, Solid)\n",
      "27   0.158520           (Denim, All over pattern)\n",
      "133  0.157123    (Denim, All over pattern, Solid)\n",
      "34   0.142458         (Melange, All over pattern)\n",
      "154  0.140363  (Melange, All over pattern, Solid)\n",
      "11   0.127095                              (Lace)\n",
      "96   0.121508                       (Lace, Solid)\n",
      "17   0.117318                   (Other structure)\n",
      "108  0.114525            (Other structure, Solid)\n",
      "2    0.112430                             (Check)\n"
     ]
    }
   ],
   "source": [
    "onehotdf2 = get_maskedonehot(x_data_widsegment3, 'graphical_appearance_name', 'garment_group_name', ['Jersey Fancy', 'Trousers', 'Blouses', 'Jersey Basic', 'Knitwear', 'Dresses Ladies', 'Under-, Nightwear'])\n",
    "frequentitemset2 = get_topfrequentitems(onehotdf2, 0.01, 3)\n",
    "print(frequentitemset2)\n",
    "#frequentitemset2.to_csv(\"C:/Users/ASUS/Documents/Exeter MSc in BA Learning/Business Project/H&M Dataset/frequent_itemdatasets/seg3_freqgggraphicalappearance.csv\")"
   ]
  },
  {
   "cell_type": "code",
   "execution_count": 577,
   "metadata": {},
   "outputs": [
    {
     "name": "stdout",
     "output_type": "stream",
     "text": [
      "       antecedents     consequents  antecedent support  consequent support  \\\n",
      "0          (White)         (Black)            0.553385            0.844382   \n",
      "1          (Black)         (White)            0.844382            0.553385   \n",
      "2           (Blue)         (Black)            0.549197            0.844382   \n",
      "3          (Black)          (Blue)            0.844382            0.549197   \n",
      "4           (Blue)         (White)            0.549197            0.553385   \n",
      "5          (White)          (Blue)            0.553385            0.549197   \n",
      "6           (Grey)         (Black)            0.386602            0.844382   \n",
      "7          (Black)          (Grey)            0.844382            0.386602   \n",
      "8          (Beige)         (Black)            0.360084            0.844382   \n",
      "9          (Black)         (Beige)            0.844382            0.360084   \n",
      "10   (Blue, White)         (Black)            0.345429            0.844382   \n",
      "11   (Blue, Black)         (White)            0.478716            0.553385   \n",
      "12  (White, Black)          (Blue)            0.480112            0.549197   \n",
      "13          (Blue)  (White, Black)            0.549197            0.480112   \n",
      "14         (White)   (Blue, Black)            0.553385            0.478716   \n",
      "15         (Black)   (Blue, White)            0.844382            0.345429   \n",
      "16           (Red)         (Black)            0.299372            0.844382   \n",
      "17         (Black)           (Red)            0.844382            0.299372   \n",
      "18          (Pink)         (Black)            0.308444            0.844382   \n",
      "19         (Black)          (Pink)            0.844382            0.308444   \n",
      "20          (Blue)          (Grey)            0.549197            0.386602   \n",
      "21          (Grey)          (Blue)            0.386602            0.549197   \n",
      "22         (Beige)         (White)            0.360084            0.553385   \n",
      "23         (White)         (Beige)            0.553385            0.360084   \n",
      "24         (White)          (Grey)            0.553385            0.386602   \n",
      "25          (Grey)         (White)            0.386602            0.553385   \n",
      "26    (Blue, Grey)         (Black)            0.250523            0.844382   \n",
      "27   (Blue, Black)          (Grey)            0.478716            0.386602   \n",
      "28   (Black, Grey)          (Blue)            0.337753            0.549197   \n",
      "29          (Blue)   (Black, Grey)            0.549197            0.337753   \n",
      "30          (Grey)   (Blue, Black)            0.386602            0.478716   \n",
      "31         (Black)    (Blue, Grey)            0.844382            0.250523   \n",
      "32         (Beige)          (Blue)            0.360084            0.549197   \n",
      "33          (Blue)         (Beige)            0.549197            0.360084   \n",
      "\n",
      "     support  confidence      lift  leverage  conviction  \n",
      "0   0.480112    0.867591  1.027486  0.012844    1.175283  \n",
      "1   0.480112    0.568595  1.027486  0.012844    1.035258  \n",
      "2   0.478716    0.871665  1.032310  0.014983    1.212585  \n",
      "3   0.478716    0.566942  1.032310  0.014983    1.040975  \n",
      "4   0.345429    0.628971  1.136589  0.041512    1.203721  \n",
      "5   0.345429    0.624212  1.136589  0.041512    1.199619  \n",
      "6   0.337753    0.873646  1.034657  0.011313    1.231602  \n",
      "7   0.337753    0.400000  1.034657  0.011313    1.022331  \n",
      "8   0.309142    0.858527  1.016752  0.005093    1.099982  \n",
      "9   0.309142    0.366116  1.016752  0.005093    1.009516  \n",
      "10  0.303559    0.878788  1.040746  0.011885    1.283845  \n",
      "11  0.303559    0.634111  1.145877  0.038645    1.220630  \n",
      "12  0.303559    0.632267  1.151257  0.039883    1.225898  \n",
      "13  0.303559    0.552732  1.151257  0.039883    1.162364  \n",
      "14  0.303559    0.548550  1.145877  0.038645    1.154688  \n",
      "15  0.303559    0.359504  1.040746  0.011885    1.021975  \n",
      "16  0.270063    0.902098  1.068352  0.017278    1.589522  \n",
      "17  0.270063    0.319835  1.068352  0.017278    1.030085  \n",
      "18  0.266574    0.864253  1.023533  0.006129    1.146383  \n",
      "19  0.266574    0.315702  1.023533  0.006129    1.010607  \n",
      "20  0.250523    0.456163  1.179930  0.038203    1.127908  \n",
      "21  0.250523    0.648014  1.179930  0.038203    1.280741  \n",
      "22  0.237264    0.658915  1.190700  0.038000    1.309395  \n",
      "23  0.237264    0.428752  1.190700  0.038000    1.120207  \n",
      "24  0.236567    0.427491  1.105765  0.022627    1.071421  \n",
      "25  0.236567    0.611913  1.105765  0.022627    1.150814  \n",
      "26  0.222610    0.888579  1.052342  0.011072    1.396668  \n",
      "27  0.222610    0.465015  1.202827  0.037538    1.146570  \n",
      "28  0.222610    0.659091  1.200098  0.037117    1.322354  \n",
      "29  0.222610    0.405337  1.200098  0.037117    1.113650  \n",
      "30  0.222610    0.575812  1.202827  0.037538    1.228899  \n",
      "31  0.222610    0.263636  1.052342  0.011072    1.017808  \n",
      "32  0.213538    0.593023  1.079800  0.015781    1.107686  \n",
      "33  0.213538    0.388818  1.079800  0.015781    1.047015  \n",
      "<class 'pandas.core.frame.DataFrame'>\n",
      "      antecedents consequents  antecedent support  consequent support  \\\n",
      "0         (White)     (Black)            0.553385            0.844382   \n",
      "2          (Blue)     (Black)            0.549197            0.844382   \n",
      "6          (Grey)     (Black)            0.386602            0.844382   \n",
      "8         (Beige)     (Black)            0.360084            0.844382   \n",
      "10  (Blue, White)     (Black)            0.345429            0.844382   \n",
      "16          (Red)     (Black)            0.299372            0.844382   \n",
      "18         (Pink)     (Black)            0.308444            0.844382   \n",
      "\n",
      "     support  confidence      lift  leverage  conviction  \n",
      "0   0.480112    0.867591  1.027486  0.012844    1.175283  \n",
      "2   0.478716    0.871665  1.032310  0.014983    1.212585  \n",
      "6   0.337753    0.873646  1.034657  0.011313    1.231602  \n",
      "8   0.309142    0.858527  1.016752  0.005093    1.099982  \n",
      "10  0.303559    0.878788  1.040746  0.011885    1.283845  \n",
      "16  0.270063    0.902098  1.068352  0.017278    1.589522  \n",
      "18  0.266574    0.864253  1.023533  0.006129    1.146383  \n"
     ]
    }
   ],
   "source": [
    "rules = association_rules(frequentitemset2, metric = \"support\", min_threshold = 0.01)\n",
    "print(rules)\n",
    "print(type(rules))\n",
    "top_antecedants = rules['antecedent support'].quantile(0.35)\n",
    "top_concequents = rules['consequent support'].quantile(0.35)\n",
    "topoverallsupport = rules['support'].quantile(0.45)\n",
    "topconfidence = rules['confidence'].quantile(0.70)\n",
    "toplift = rules['lift'].quantile(0.45)\n",
    "topconviction = rules['conviction'].quantile(0.45)\n",
    "pruned_rules = rules[(rules['support'] >= topoverallsupport) & (rules['confidence'] >= topconfidence)]\n",
    "print(pruned_rules)\n",
    "#pruned_rules.to_csv(\"C:/Users/ASUS/Documents/Exeter MSc in BA Learning/Business Project/H&M Dataset/frequent_itemdatasets/seg3_rulesggcolourname.csv\")"
   ]
  }
 ],
 "metadata": {
  "kernelspec": {
   "display_name": "Python 3",
   "language": "python",
   "name": "python3"
  },
  "language_info": {
   "codemirror_mode": {
    "name": "ipython",
    "version": 3
   },
   "file_extension": ".py",
   "mimetype": "text/x-python",
   "name": "python",
   "nbconvert_exporter": "python",
   "pygments_lexer": "ipython3",
   "version": "3.8.5"
  }
 },
 "nbformat": 4,
 "nbformat_minor": 4
}
