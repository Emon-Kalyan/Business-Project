{
 "cells": [
  {
   "cell_type": "code",
   "execution_count": 3,
   "metadata": {},
   "outputs": [],
   "source": [
    "import pandas as pd\n",
    "import os"
   ]
  },
  {
   "cell_type": "code",
   "execution_count": 4,
   "metadata": {},
   "outputs": [],
   "source": [
    "import seaborn as sns\n",
    "import numpy as np\n",
    "import random"
   ]
  },
  {
   "cell_type": "code",
   "execution_count": 5,
   "metadata": {},
   "outputs": [],
   "source": [
    "transactions = pd.read_csv(\"C:/Users/ASUS/Documents/Exeter MSc in BA Learning/Business Project/H&M Dataset/transactions_train.csv\")"
   ]
  },
  {
   "cell_type": "code",
   "execution_count": 6,
   "metadata": {},
   "outputs": [
    {
     "data": {
      "text/html": [
       "<div>\n",
       "<style scoped>\n",
       "    .dataframe tbody tr th:only-of-type {\n",
       "        vertical-align: middle;\n",
       "    }\n",
       "\n",
       "    .dataframe tbody tr th {\n",
       "        vertical-align: top;\n",
       "    }\n",
       "\n",
       "    .dataframe thead th {\n",
       "        text-align: right;\n",
       "    }\n",
       "</style>\n",
       "<table border=\"1\" class=\"dataframe\">\n",
       "  <thead>\n",
       "    <tr style=\"text-align: right;\">\n",
       "      <th></th>\n",
       "      <th>t_dat</th>\n",
       "      <th>customer_id</th>\n",
       "      <th>article_id</th>\n",
       "      <th>price</th>\n",
       "      <th>sales_channel_id</th>\n",
       "    </tr>\n",
       "  </thead>\n",
       "  <tbody>\n",
       "    <tr>\n",
       "      <th>0</th>\n",
       "      <td>2018-09-20</td>\n",
       "      <td>000058a12d5b43e67d225668fa1f8d618c13dc232df0ca...</td>\n",
       "      <td>663713001</td>\n",
       "      <td>0.050831</td>\n",
       "      <td>2</td>\n",
       "    </tr>\n",
       "    <tr>\n",
       "      <th>1</th>\n",
       "      <td>2018-09-20</td>\n",
       "      <td>000058a12d5b43e67d225668fa1f8d618c13dc232df0ca...</td>\n",
       "      <td>541518023</td>\n",
       "      <td>0.030492</td>\n",
       "      <td>2</td>\n",
       "    </tr>\n",
       "    <tr>\n",
       "      <th>2</th>\n",
       "      <td>2018-09-20</td>\n",
       "      <td>00007d2de826758b65a93dd24ce629ed66842531df6699...</td>\n",
       "      <td>505221004</td>\n",
       "      <td>0.015237</td>\n",
       "      <td>2</td>\n",
       "    </tr>\n",
       "    <tr>\n",
       "      <th>3</th>\n",
       "      <td>2018-09-20</td>\n",
       "      <td>00007d2de826758b65a93dd24ce629ed66842531df6699...</td>\n",
       "      <td>685687003</td>\n",
       "      <td>0.016932</td>\n",
       "      <td>2</td>\n",
       "    </tr>\n",
       "    <tr>\n",
       "      <th>4</th>\n",
       "      <td>2018-09-20</td>\n",
       "      <td>00007d2de826758b65a93dd24ce629ed66842531df6699...</td>\n",
       "      <td>685687004</td>\n",
       "      <td>0.016932</td>\n",
       "      <td>2</td>\n",
       "    </tr>\n",
       "  </tbody>\n",
       "</table>\n",
       "</div>"
      ],
      "text/plain": [
       "        t_dat                                        customer_id  article_id  \\\n",
       "0  2018-09-20  000058a12d5b43e67d225668fa1f8d618c13dc232df0ca...   663713001   \n",
       "1  2018-09-20  000058a12d5b43e67d225668fa1f8d618c13dc232df0ca...   541518023   \n",
       "2  2018-09-20  00007d2de826758b65a93dd24ce629ed66842531df6699...   505221004   \n",
       "3  2018-09-20  00007d2de826758b65a93dd24ce629ed66842531df6699...   685687003   \n",
       "4  2018-09-20  00007d2de826758b65a93dd24ce629ed66842531df6699...   685687004   \n",
       "\n",
       "      price  sales_channel_id  \n",
       "0  0.050831                 2  \n",
       "1  0.030492                 2  \n",
       "2  0.015237                 2  \n",
       "3  0.016932                 2  \n",
       "4  0.016932                 2  "
      ]
     },
     "execution_count": 6,
     "metadata": {},
     "output_type": "execute_result"
    }
   ],
   "source": [
    "transactions.head()"
   ]
  },
  {
   "cell_type": "code",
   "execution_count": 7,
   "metadata": {},
   "outputs": [
    {
     "name": "stdout",
     "output_type": "stream",
     "text": [
      "<class 'pandas.core.frame.DataFrame'>\n",
      "RangeIndex: 31788324 entries, 0 to 31788323\n",
      "Data columns (total 5 columns):\n",
      " #   Column            Dtype  \n",
      "---  ------            -----  \n",
      " 0   t_dat             object \n",
      " 1   customer_id       object \n",
      " 2   article_id        int64  \n",
      " 3   price             float64\n",
      " 4   sales_channel_id  int64  \n",
      "dtypes: float64(1), int64(2), object(2)\n",
      "memory usage: 1.2+ GB\n",
      "None\n",
      "(31788324, 5)\n"
     ]
    }
   ],
   "source": [
    "print(transactions.info())\n",
    "print(transactions.shape)"
   ]
  },
  {
   "cell_type": "markdown",
   "metadata": {},
   "source": [
    "### Understanding the customer transactions\n",
    "**We can see that the transaction data contains more than 30 million records. So we need to sample the records to get more conveient dataset for analysis. Before doing the sampling, we need to understand the data thoroughly for which we do exploratory data analysis.**"
   ]
  },
  {
   "cell_type": "code",
   "execution_count": 8,
   "metadata": {},
   "outputs": [
    {
     "name": "stdout",
     "output_type": "stream",
     "text": [
      "<class 'pandas.core.series.Series'>\n",
      "count    1.362281e+06\n",
      "mean     2.875476e-02\n",
      "std      1.429338e-02\n",
      "min      7.627119e-04\n",
      "25%      2.095763e-02\n",
      "50%      2.613317e-02\n",
      "75%      3.336083e-02\n",
      "max      5.067797e-01\n",
      "Name: price, dtype: float64\n",
      "1362281\n"
     ]
    }
   ],
   "source": [
    "customer_idsgrouped = transactions.groupby(\"customer_id\")[\"price\"].mean()\n",
    "print(type(customer_idsgrouped))\n",
    "print(customer_idsgrouped.describe())\n",
    "print(len(customer_idsgrouped))"
   ]
  },
  {
   "cell_type": "markdown",
   "metadata": {},
   "source": [
    "**From the above code shunk we get to know that there are 1362281 unique customer_ids**\\\n",
    "**Next we plot the distribution of the mean price or basket values of the customer_ids**"
   ]
  },
  {
   "cell_type": "code",
   "execution_count": 9,
   "metadata": {},
   "outputs": [],
   "source": [
    "import matplotlib.pyplot as plt\n",
    "#https://www.marsja.se/how-to-change-size-of-seaborn-plot/#:~:text=Now%2C%20if%20we%20only%20to%20increase%20Seaborn%20plot,%23%20Change%20seaborn%20plot%20size%20fig.set_size_inches%20%2812%2C%208%29"
   ]
  },
  {
   "cell_type": "code",
   "execution_count": 10,
   "metadata": {},
   "outputs": [
    {
     "name": "stderr",
     "output_type": "stream",
     "text": [
      "C:\\Users\\ASUS\\anaconda3\\lib\\site-packages\\seaborn\\distributions.py:2551: FutureWarning: `distplot` is a deprecated function and will be removed in a future version. Please adapt your code to use either `displot` (a figure-level function with similar flexibility) or `histplot` (an axes-level function for histograms).\n",
      "  warnings.warn(msg, FutureWarning)\n"
     ]
    },
    {
     "data": {
      "text/plain": [
       "Text(0.5, 1.0, 'Average Price Histogram with Density Plot')"
      ]
     },
     "execution_count": 10,
     "metadata": {},
     "output_type": "execute_result"
    },
    {
     "data": {
      "image/png": "[encoded data removed]",
      "text/plain": [
       "<Figure size 432x288 with 1 Axes>"
      ]
     },
     "metadata": {
      "needs_background": "light"
     },
     "output_type": "display_data"
    }
   ],
   "source": [
    "ax = sns.distplot(customer_idsgrouped)\n",
    "ax.set_title('Average Price Histogram with Density Plot')"
   ]
  },
  {
   "cell_type": "markdown",
   "metadata": {},
   "source": [
    "**We can see that the distribution plot of the mean prices are close to normal, so we donot need much treatment for normalizing the distribution.**\n",
    "\n",
    "Since the distribution of the mean prices grouped by the customer ids lies in a normal distribution, we can sample the dataset by taking the customer ids and we can go by simple random sampling and stratified sampling. Post that we explore the mean price graphs for both the samples and check whether the distribution is normal."
   ]
  },
  {
   "cell_type": "code",
   "execution_count": 11,
   "metadata": {},
   "outputs": [
    {
     "name": "stdout",
     "output_type": "stream",
     "text": [
      "136228\n"
     ]
    }
   ],
   "source": [
    "random.seed(3)\n",
    "randomsample_ids = random.sample(list(customer_idsgrouped.index), k = int(0.10*len(customer_idsgrouped.index)))\n",
    "print(len(randomsample_ids))"
   ]
  },
  {
   "cell_type": "markdown",
   "metadata": {},
   "source": [
    "Checking the mean distribution plot of the sampled ids"
   ]
  },
  {
   "cell_type": "code",
   "execution_count": 13,
   "metadata": {},
   "outputs": [
    {
     "name": "stderr",
     "output_type": "stream",
     "text": [
      "C:\\Users\\ASUS\\anaconda3\\lib\\site-packages\\seaborn\\distributions.py:2551: FutureWarning: `distplot` is a deprecated function and will be removed in a future version. Please adapt your code to use either `displot` (a figure-level function with similar flexibility) or `histplot` (an axes-level function for histograms).\n",
      "  warnings.warn(msg, FutureWarning)\n"
     ]
    },
    {
     "data": {
      "text/plain": [
       "Text(0.5, 1.0, 'Average Price Histogram of sample with Density Plot')"
      ]
     },
     "execution_count": 13,
     "metadata": {},
     "output_type": "execute_result"
    },
    {
     "data": {
      "image/png": "[encoded data removed]",
      "text/plain": [
       "<Figure size 432x288 with 1 Axes>"
      ]
     },
     "metadata": {
      "needs_background": "light"
     },
     "output_type": "display_data"
    }
   ],
   "source": [
    "sample_custids_data  = customer_idsgrouped[customer_idsgrouped.index.isin(randomsample_ids)]\n",
    "ax1 = sns.distplot(sample_custids_data)\n",
    "ax1.set_title('Average Price Histogram of sample with Density Plot')"
   ]
  },
  {
   "cell_type": "markdown",
   "metadata": {},
   "source": [
    "We see that the random sample gives us a similar density plot for the mean prices. Thus using the sample ids we extract sample from the original dataset."
   ]
  },
  {
   "cell_type": "code",
   "execution_count": 14,
   "metadata": {},
   "outputs": [
    {
     "name": "stdout",
     "output_type": "stream",
     "text": [
      "<class 'pandas.core.frame.DataFrame'>\n",
      "Int64Index: 3188599 entries, 14 to 31788290\n",
      "Data columns (total 5 columns):\n",
      " #   Column            Dtype  \n",
      "---  ------            -----  \n",
      " 0   t_dat             object \n",
      " 1   customer_id       object \n",
      " 2   article_id        int64  \n",
      " 3   price             float64\n",
      " 4   sales_channel_id  int64  \n",
      "dtypes: float64(1), int64(2), object(2)\n",
      "memory usage: 146.0+ MB\n"
     ]
    }
   ],
   "source": [
    "transactions_sampled = transactions[transactions['customer_id'].isin(randomsample_ids)]\n",
    "transactions_sampled.info()"
   ]
  },
  {
   "cell_type": "markdown",
   "metadata": {},
   "source": [
    "Let us check the descriptive features of the random sampled data set vs the original data set"
   ]
  },
  {
   "cell_type": "code",
   "execution_count": 15,
   "metadata": {},
   "outputs": [
    {
     "name": "stdout",
     "output_type": "stream",
     "text": [
      "         article_id         price  sales_channel_id\n",
      "count  3.178832e+07  3.178832e+07      3.178832e+07\n",
      "mean   6.962272e+08  2.782927e-02      1.704028e+00\n",
      "std    1.334480e+08  1.918113e-02      4.564786e-01\n",
      "min    1.087750e+08  1.694915e-05      1.000000e+00\n",
      "25%    6.328030e+08  1.581356e-02      1.000000e+00\n",
      "50%    7.145820e+08  2.540678e-02      2.000000e+00\n",
      "75%    7.865240e+08  3.388136e-02      2.000000e+00\n",
      "max    9.562170e+08  5.915254e-01      2.000000e+00\n",
      "(31788324, 5)\n",
      "         article_id         price  sales_channel_id\n",
      "count  3.188599e+06  3.188599e+06      3.188599e+06\n",
      "mean   6.962539e+08  2.785591e-02      1.703008e+00\n",
      "std    1.332213e+08  1.929524e-02      4.569330e-01\n",
      "min    1.087750e+08  1.864407e-04      1.000000e+00\n",
      "25%    6.328030e+08  1.579661e-02      1.000000e+00\n",
      "50%    7.144260e+08  2.540678e-02      2.000000e+00\n",
      "75%    7.863470e+08  3.388136e-02      2.000000e+00\n",
      "max    9.537630e+08  5.915254e-01      2.000000e+00\n",
      "4.197032766088607\n",
      "4.1137320064599505\n"
     ]
    }
   ],
   "source": [
    "print(transactions.describe())\n",
    "print(transactions.shape)\n",
    "print(transactions_sampled.describe())\n",
    "print(customer_idsgrouped.skew())\n",
    "print(sample_custids_data.skew())"
   ]
  },
  {
   "cell_type": "markdown",
   "metadata": {},
   "source": [
    "We see that there is a close similarity of the descriptive metrics of the features of the sampled and the original dataset. Though not refelcted in the distribution plots, we can see that there is a skewness in the price distributions of the data and the sample."
   ]
  },
  {
   "cell_type": "markdown",
   "metadata": {},
   "source": [
    "**Next we import the datasets containing the information about the articles and the customers**"
   ]
  },
  {
   "cell_type": "code",
   "execution_count": 16,
   "metadata": {},
   "outputs": [],
   "source": [
    "products = pd.read_csv(\"C:/Users/ASUS/Documents/Exeter MSc in BA Learning/Business Project/H&M Dataset/articles.csv\")"
   ]
  },
  {
   "cell_type": "code",
   "execution_count": 17,
   "metadata": {},
   "outputs": [
    {
     "data": {
      "text/html": [
       "<div>\n",
       "<style scoped>\n",
       "    .dataframe tbody tr th:only-of-type {\n",
       "        vertical-align: middle;\n",
       "    }\n",
       "\n",
       "    .dataframe tbody tr th {\n",
       "        vertical-align: top;\n",
       "    }\n",
       "\n",
       "    .dataframe thead th {\n",
       "        text-align: right;\n",
       "    }\n",
       "</style>\n",
       "<table border=\"1\" class=\"dataframe\">\n",
       "  <thead>\n",
       "    <tr style=\"text-align: right;\">\n",
       "      <th></th>\n",
       "      <th>article_id</th>\n",
       "      <th>product_code</th>\n",
       "      <th>prod_name</th>\n",
       "      <th>product_type_no</th>\n",
       "      <th>product_type_name</th>\n",
       "      <th>product_group_name</th>\n",
       "      <th>graphical_appearance_no</th>\n",
       "      <th>graphical_appearance_name</th>\n",
       "      <th>colour_group_code</th>\n",
       "      <th>colour_group_name</th>\n",
       "      <th>...</th>\n",
       "      <th>department_name</th>\n",
       "      <th>index_code</th>\n",
       "      <th>index_name</th>\n",
       "      <th>index_group_no</th>\n",
       "      <th>index_group_name</th>\n",
       "      <th>section_no</th>\n",
       "      <th>section_name</th>\n",
       "      <th>garment_group_no</th>\n",
       "      <th>garment_group_name</th>\n",
       "      <th>detail_desc</th>\n",
       "    </tr>\n",
       "  </thead>\n",
       "  <tbody>\n",
       "    <tr>\n",
       "      <th>0</th>\n",
       "      <td>108775015</td>\n",
       "      <td>108775</td>\n",
       "      <td>Strap top</td>\n",
       "      <td>253</td>\n",
       "      <td>Vest top</td>\n",
       "      <td>Garment Upper body</td>\n",
       "      <td>1010016</td>\n",
       "      <td>Solid</td>\n",
       "      <td>9</td>\n",
       "      <td>Black</td>\n",
       "      <td>...</td>\n",
       "      <td>Jersey Basic</td>\n",
       "      <td>A</td>\n",
       "      <td>Ladieswear</td>\n",
       "      <td>1</td>\n",
       "      <td>Ladieswear</td>\n",
       "      <td>16</td>\n",
       "      <td>Womens Everyday Basics</td>\n",
       "      <td>1002</td>\n",
       "      <td>Jersey Basic</td>\n",
       "      <td>Jersey top with narrow shoulder straps.</td>\n",
       "    </tr>\n",
       "    <tr>\n",
       "      <th>1</th>\n",
       "      <td>108775044</td>\n",
       "      <td>108775</td>\n",
       "      <td>Strap top</td>\n",
       "      <td>253</td>\n",
       "      <td>Vest top</td>\n",
       "      <td>Garment Upper body</td>\n",
       "      <td>1010016</td>\n",
       "      <td>Solid</td>\n",
       "      <td>10</td>\n",
       "      <td>White</td>\n",
       "      <td>...</td>\n",
       "      <td>Jersey Basic</td>\n",
       "      <td>A</td>\n",
       "      <td>Ladieswear</td>\n",
       "      <td>1</td>\n",
       "      <td>Ladieswear</td>\n",
       "      <td>16</td>\n",
       "      <td>Womens Everyday Basics</td>\n",
       "      <td>1002</td>\n",
       "      <td>Jersey Basic</td>\n",
       "      <td>Jersey top with narrow shoulder straps.</td>\n",
       "    </tr>\n",
       "    <tr>\n",
       "      <th>2</th>\n",
       "      <td>108775051</td>\n",
       "      <td>108775</td>\n",
       "      <td>Strap top (1)</td>\n",
       "      <td>253</td>\n",
       "      <td>Vest top</td>\n",
       "      <td>Garment Upper body</td>\n",
       "      <td>1010017</td>\n",
       "      <td>Stripe</td>\n",
       "      <td>11</td>\n",
       "      <td>Off White</td>\n",
       "      <td>...</td>\n",
       "      <td>Jersey Basic</td>\n",
       "      <td>A</td>\n",
       "      <td>Ladieswear</td>\n",
       "      <td>1</td>\n",
       "      <td>Ladieswear</td>\n",
       "      <td>16</td>\n",
       "      <td>Womens Everyday Basics</td>\n",
       "      <td>1002</td>\n",
       "      <td>Jersey Basic</td>\n",
       "      <td>Jersey top with narrow shoulder straps.</td>\n",
       "    </tr>\n",
       "    <tr>\n",
       "      <th>3</th>\n",
       "      <td>110065001</td>\n",
       "      <td>110065</td>\n",
       "      <td>OP T-shirt (Idro)</td>\n",
       "      <td>306</td>\n",
       "      <td>Bra</td>\n",
       "      <td>Underwear</td>\n",
       "      <td>1010016</td>\n",
       "      <td>Solid</td>\n",
       "      <td>9</td>\n",
       "      <td>Black</td>\n",
       "      <td>...</td>\n",
       "      <td>Clean Lingerie</td>\n",
       "      <td>B</td>\n",
       "      <td>Lingeries/Tights</td>\n",
       "      <td>1</td>\n",
       "      <td>Ladieswear</td>\n",
       "      <td>61</td>\n",
       "      <td>Womens Lingerie</td>\n",
       "      <td>1017</td>\n",
       "      <td>Under-, Nightwear</td>\n",
       "      <td>Microfibre T-shirt bra with underwired, moulde...</td>\n",
       "    </tr>\n",
       "    <tr>\n",
       "      <th>4</th>\n",
       "      <td>110065002</td>\n",
       "      <td>110065</td>\n",
       "      <td>OP T-shirt (Idro)</td>\n",
       "      <td>306</td>\n",
       "      <td>Bra</td>\n",
       "      <td>Underwear</td>\n",
       "      <td>1010016</td>\n",
       "      <td>Solid</td>\n",
       "      <td>10</td>\n",
       "      <td>White</td>\n",
       "      <td>...</td>\n",
       "      <td>Clean Lingerie</td>\n",
       "      <td>B</td>\n",
       "      <td>Lingeries/Tights</td>\n",
       "      <td>1</td>\n",
       "      <td>Ladieswear</td>\n",
       "      <td>61</td>\n",
       "      <td>Womens Lingerie</td>\n",
       "      <td>1017</td>\n",
       "      <td>Under-, Nightwear</td>\n",
       "      <td>Microfibre T-shirt bra with underwired, moulde...</td>\n",
       "    </tr>\n",
       "  </tbody>\n",
       "</table>\n",
       "<p>5 rows × 25 columns</p>\n",
       "</div>"
      ],
      "text/plain": [
       "   article_id  product_code          prod_name  product_type_no  \\\n",
       "0   108775015        108775          Strap top              253   \n",
       "1   108775044        108775          Strap top              253   \n",
       "2   108775051        108775      Strap top (1)              253   \n",
       "3   110065001        110065  OP T-shirt (Idro)              306   \n",
       "4   110065002        110065  OP T-shirt (Idro)              306   \n",
       "\n",
       "  product_type_name  product_group_name  graphical_appearance_no  \\\n",
       "0          Vest top  Garment Upper body                  1010016   \n",
       "1          Vest top  Garment Upper body                  1010016   \n",
       "2          Vest top  Garment Upper body                  1010017   \n",
       "3               Bra           Underwear                  1010016   \n",
       "4               Bra           Underwear                  1010016   \n",
       "\n",
       "  graphical_appearance_name  colour_group_code colour_group_name  ...  \\\n",
       "0                     Solid                  9             Black  ...   \n",
       "1                     Solid                 10             White  ...   \n",
       "2                    Stripe                 11         Off White  ...   \n",
       "3                     Solid                  9             Black  ...   \n",
       "4                     Solid                 10             White  ...   \n",
       "\n",
       "   department_name index_code        index_name index_group_no  \\\n",
       "0     Jersey Basic          A        Ladieswear              1   \n",
       "1     Jersey Basic          A        Ladieswear              1   \n",
       "2     Jersey Basic          A        Ladieswear              1   \n",
       "3   Clean Lingerie          B  Lingeries/Tights              1   \n",
       "4   Clean Lingerie          B  Lingeries/Tights              1   \n",
       "\n",
       "   index_group_name section_no            section_name garment_group_no  \\\n",
       "0        Ladieswear         16  Womens Everyday Basics             1002   \n",
       "1        Ladieswear         16  Womens Everyday Basics             1002   \n",
       "2        Ladieswear         16  Womens Everyday Basics             1002   \n",
       "3        Ladieswear         61         Womens Lingerie             1017   \n",
       "4        Ladieswear         61         Womens Lingerie             1017   \n",
       "\n",
       "   garment_group_name                                        detail_desc  \n",
       "0        Jersey Basic            Jersey top with narrow shoulder straps.  \n",
       "1        Jersey Basic            Jersey top with narrow shoulder straps.  \n",
       "2        Jersey Basic            Jersey top with narrow shoulder straps.  \n",
       "3   Under-, Nightwear  Microfibre T-shirt bra with underwired, moulde...  \n",
       "4   Under-, Nightwear  Microfibre T-shirt bra with underwired, moulde...  \n",
       "\n",
       "[5 rows x 25 columns]"
      ]
     },
     "execution_count": 17,
     "metadata": {},
     "output_type": "execute_result"
    }
   ],
   "source": [
    "products.head()"
   ]
  },
  {
   "cell_type": "code",
   "execution_count": 18,
   "metadata": {},
   "outputs": [
    {
     "name": "stdout",
     "output_type": "stream",
     "text": [
      "105542\n",
      "86260\n"
     ]
    }
   ],
   "source": [
    "print(products['article_id'].nunique())\n",
    "print(transactions_sampled['article_id'].nunique())"
   ]
  },
  {
   "cell_type": "code",
   "execution_count": 19,
   "metadata": {},
   "outputs": [],
   "source": [
    "product_transactions = pd.merge(transactions_sampled, products,how='left', left_on='article_id', right_on='article_id')"
   ]
  },
  {
   "cell_type": "code",
   "execution_count": 20,
   "metadata": {},
   "outputs": [
    {
     "data": {
      "text/html": [
       "<div>\n",
       "<style scoped>\n",
       "    .dataframe tbody tr th:only-of-type {\n",
       "        vertical-align: middle;\n",
       "    }\n",
       "\n",
       "    .dataframe tbody tr th {\n",
       "        vertical-align: top;\n",
       "    }\n",
       "\n",
       "    .dataframe thead th {\n",
       "        text-align: right;\n",
       "    }\n",
       "</style>\n",
       "<table border=\"1\" class=\"dataframe\">\n",
       "  <thead>\n",
       "    <tr style=\"text-align: right;\">\n",
       "      <th></th>\n",
       "      <th>t_dat</th>\n",
       "      <th>customer_id</th>\n",
       "      <th>article_id</th>\n",
       "      <th>price</th>\n",
       "      <th>sales_channel_id</th>\n",
       "      <th>product_code</th>\n",
       "      <th>prod_name</th>\n",
       "      <th>product_type_no</th>\n",
       "      <th>product_type_name</th>\n",
       "      <th>product_group_name</th>\n",
       "      <th>...</th>\n",
       "      <th>department_name</th>\n",
       "      <th>index_code</th>\n",
       "      <th>index_name</th>\n",
       "      <th>index_group_no</th>\n",
       "      <th>index_group_name</th>\n",
       "      <th>section_no</th>\n",
       "      <th>section_name</th>\n",
       "      <th>garment_group_no</th>\n",
       "      <th>garment_group_name</th>\n",
       "      <th>detail_desc</th>\n",
       "    </tr>\n",
       "  </thead>\n",
       "  <tbody>\n",
       "    <tr>\n",
       "      <th>0</th>\n",
       "      <td>2018-09-20</td>\n",
       "      <td>000aa7f0dc06cd7174389e76c9e132a67860c5f65f9706...</td>\n",
       "      <td>501820043</td>\n",
       "      <td>0.016932</td>\n",
       "      <td>2</td>\n",
       "      <td>501820</td>\n",
       "      <td>SIRPA</td>\n",
       "      <td>252</td>\n",
       "      <td>Sweater</td>\n",
       "      <td>Garment Upper body</td>\n",
       "      <td>...</td>\n",
       "      <td>Tops Knitwear</td>\n",
       "      <td>D</td>\n",
       "      <td>Divided</td>\n",
       "      <td>2</td>\n",
       "      <td>Divided</td>\n",
       "      <td>53</td>\n",
       "      <td>Divided Collection</td>\n",
       "      <td>1003</td>\n",
       "      <td>Knitwear</td>\n",
       "      <td>Jumper in a soft knit with a slightly wider ne...</td>\n",
       "    </tr>\n",
       "    <tr>\n",
       "      <th>1</th>\n",
       "      <td>2018-09-20</td>\n",
       "      <td>000aa7f0dc06cd7174389e76c9e132a67860c5f65f9706...</td>\n",
       "      <td>501820043</td>\n",
       "      <td>0.016932</td>\n",
       "      <td>2</td>\n",
       "      <td>501820</td>\n",
       "      <td>SIRPA</td>\n",
       "      <td>252</td>\n",
       "      <td>Sweater</td>\n",
       "      <td>Garment Upper body</td>\n",
       "      <td>...</td>\n",
       "      <td>Tops Knitwear</td>\n",
       "      <td>D</td>\n",
       "      <td>Divided</td>\n",
       "      <td>2</td>\n",
       "      <td>Divided</td>\n",
       "      <td>53</td>\n",
       "      <td>Divided Collection</td>\n",
       "      <td>1003</td>\n",
       "      <td>Knitwear</td>\n",
       "      <td>Jumper in a soft knit with a slightly wider ne...</td>\n",
       "    </tr>\n",
       "    <tr>\n",
       "      <th>2</th>\n",
       "      <td>2018-09-20</td>\n",
       "      <td>000aa7f0dc06cd7174389e76c9e132a67860c5f65f9706...</td>\n",
       "      <td>674681001</td>\n",
       "      <td>0.008458</td>\n",
       "      <td>2</td>\n",
       "      <td>674681</td>\n",
       "      <td>Felicia Tank</td>\n",
       "      <td>253</td>\n",
       "      <td>Vest top</td>\n",
       "      <td>Garment Upper body</td>\n",
       "      <td>...</td>\n",
       "      <td>Basic 1</td>\n",
       "      <td>D</td>\n",
       "      <td>Divided</td>\n",
       "      <td>2</td>\n",
       "      <td>Divided</td>\n",
       "      <td>51</td>\n",
       "      <td>Divided Basics</td>\n",
       "      <td>1002</td>\n",
       "      <td>Jersey Basic</td>\n",
       "      <td>Short top in ribbed jersey with narrow shoulde...</td>\n",
       "    </tr>\n",
       "  </tbody>\n",
       "</table>\n",
       "<p>3 rows × 29 columns</p>\n",
       "</div>"
      ],
      "text/plain": [
       "        t_dat                                        customer_id  article_id  \\\n",
       "0  2018-09-20  000aa7f0dc06cd7174389e76c9e132a67860c5f65f9706...   501820043   \n",
       "1  2018-09-20  000aa7f0dc06cd7174389e76c9e132a67860c5f65f9706...   501820043   \n",
       "2  2018-09-20  000aa7f0dc06cd7174389e76c9e132a67860c5f65f9706...   674681001   \n",
       "\n",
       "      price  sales_channel_id  product_code     prod_name  product_type_no  \\\n",
       "0  0.016932                 2        501820         SIRPA              252   \n",
       "1  0.016932                 2        501820         SIRPA              252   \n",
       "2  0.008458                 2        674681  Felicia Tank              253   \n",
       "\n",
       "  product_type_name  product_group_name  ...  department_name index_code  \\\n",
       "0           Sweater  Garment Upper body  ...    Tops Knitwear          D   \n",
       "1           Sweater  Garment Upper body  ...    Tops Knitwear          D   \n",
       "2          Vest top  Garment Upper body  ...          Basic 1          D   \n",
       "\n",
       "   index_name index_group_no  index_group_name section_no        section_name  \\\n",
       "0     Divided              2           Divided         53  Divided Collection   \n",
       "1     Divided              2           Divided         53  Divided Collection   \n",
       "2     Divided              2           Divided         51      Divided Basics   \n",
       "\n",
       "  garment_group_no  garment_group_name  \\\n",
       "0             1003            Knitwear   \n",
       "1             1003            Knitwear   \n",
       "2             1002        Jersey Basic   \n",
       "\n",
       "                                         detail_desc  \n",
       "0  Jumper in a soft knit with a slightly wider ne...  \n",
       "1  Jumper in a soft knit with a slightly wider ne...  \n",
       "2  Short top in ribbed jersey with narrow shoulde...  \n",
       "\n",
       "[3 rows x 29 columns]"
      ]
     },
     "execution_count": 20,
     "metadata": {},
     "output_type": "execute_result"
    }
   ],
   "source": [
    "product_transactions.head(3)"
   ]
  },
  {
   "cell_type": "code",
   "execution_count": 21,
   "metadata": {},
   "outputs": [
    {
     "data": {
      "text/plain": [
       "Index(['t_dat', 'customer_id', 'article_id', 'price', 'sales_channel_id',\n",
       "       'product_code', 'prod_name', 'product_type_no', 'product_type_name',\n",
       "       'product_group_name', 'graphical_appearance_no',\n",
       "       'graphical_appearance_name', 'colour_group_code', 'colour_group_name',\n",
       "       'perceived_colour_value_id', 'perceived_colour_value_name',\n",
       "       'perceived_colour_master_id', 'perceived_colour_master_name',\n",
       "       'department_no', 'department_name', 'index_code', 'index_name',\n",
       "       'index_group_no', 'index_group_name', 'section_no', 'section_name',\n",
       "       'garment_group_no', 'garment_group_name', 'detail_desc'],\n",
       "      dtype='object')"
      ]
     },
     "execution_count": 21,
     "metadata": {},
     "output_type": "execute_result"
    }
   ],
   "source": [
    "product_transactions.columns"
   ]
  },
  {
   "cell_type": "code",
   "execution_count": 25,
   "metadata": {},
   "outputs": [],
   "source": [
    "product_transactions = product_transactions[['t_dat', 'customer_id', 'article_id', 'price', 'sales_channel_id',\n",
    "       'product_code', 'prod_name', 'product_type_name',\n",
    "       'product_group_name', \n",
    "       'graphical_appearance_name', 'colour_group_code', 'colour_group_name',\n",
    "      'perceived_colour_value_name',\n",
    "       'perceived_colour_master_name',\n",
    "      'department_name', 'index_code','index_name',\n",
    "        'index_group_name',  'section_name',\n",
    "       'garment_group_name', 'detail_desc', 'transaction_custdat_id']]"
   ]
  },
  {
   "cell_type": "code",
   "execution_count": 24,
   "metadata": {},
   "outputs": [
    {
     "data": {
      "text/plain": [
       "10"
      ]
     },
     "execution_count": 24,
     "metadata": {},
     "output_type": "execute_result"
    }
   ],
   "source": [
    "product_transactions['index_code'].nunique()"
   ]
  },
  {
   "cell_type": "code",
   "execution_count": 23,
   "metadata": {},
   "outputs": [],
   "source": [
    "product_transactions['transaction_custdat_id'] = product_transactions['customer_id'] + product_transactions['t_dat']"
   ]
  },
  {
   "cell_type": "code",
   "execution_count": 26,
   "metadata": {},
   "outputs": [
    {
     "data": {
      "text/plain": [
       "c2f0cdda2dc3042ccd9fcd8253fd8e368769840581e40aab1d87a64ff39987e32018-12-17    336\n",
       "61da44a2758206d5701771f4315637b40c8321b511191654fb1430a6408e4dfa2019-02-23    176\n",
       "6e91d482c348bc118d8d00df01b73f72471d194987616f1008074e4280c29ebb2019-01-31    174\n",
       "75c54a755b8a467e53e0a4e01833deb029734feb22ad25438137925123a38f8b2018-09-29    169\n",
       "c58c3ea821c5447217eadb8112175bcdfb10ba6c1905e38a451b4b0a107494802019-05-24    164\n",
       "                                                                             ... \n",
       "73b9358207d5d3712ab947088916343cdc260a726904f2ef3ba29294d0f23eeb2019-01-22      1\n",
       "325b2fb2f53746b68d4564797151418f28d92f0dc30608add12b269f4a4f1a7d2019-11-06      1\n",
       "b2c470b1f57b96c69750cc0222df33bc5857b53ca98bc4f2c99e2cc7325967e52019-09-10      1\n",
       "d9530829cea1ce0199e5b570d33120d1b3f9179c43f9e3ef0490967332cd5a7d2018-12-04      1\n",
       "eb197acafe3d6ca914f4aa77caf2ecca1e587e447f2a57d79400de932e44e02a2019-07-10      1\n",
       "Name: transaction_custdat_id, Length: 909708, dtype: int64"
      ]
     },
     "execution_count": 26,
     "metadata": {},
     "output_type": "execute_result"
    }
   ],
   "source": [
    "product_transactions['transaction_custdat_id'].value_counts()"
   ]
  },
  {
   "cell_type": "code",
   "execution_count": 27,
   "metadata": {},
   "outputs": [],
   "source": [
    "customers = pd.read_csv(\"C:/Users/ASUS/Documents/Exeter MSc in BA Learning/Business Project/H&M Dataset/customers.csv\")"
   ]
  },
  {
   "cell_type": "code",
   "execution_count": 175,
   "metadata": {},
   "outputs": [
    {
     "data": {
      "text/html": [
       "<div>\n",
       "<style scoped>\n",
       "    .dataframe tbody tr th:only-of-type {\n",
       "        vertical-align: middle;\n",
       "    }\n",
       "\n",
       "    .dataframe tbody tr th {\n",
       "        vertical-align: top;\n",
       "    }\n",
       "\n",
       "    .dataframe thead th {\n",
       "        text-align: right;\n",
       "    }\n",
       "</style>\n",
       "<table border=\"1\" class=\"dataframe\">\n",
       "  <thead>\n",
       "    <tr style=\"text-align: right;\">\n",
       "      <th></th>\n",
       "      <th>customer_id</th>\n",
       "      <th>FN</th>\n",
       "      <th>Active</th>\n",
       "      <th>club_member_status</th>\n",
       "      <th>fashion_news_frequency</th>\n",
       "      <th>age</th>\n",
       "      <th>postal_code</th>\n",
       "    </tr>\n",
       "  </thead>\n",
       "  <tbody>\n",
       "    <tr>\n",
       "      <th>0</th>\n",
       "      <td>00000dbacae5abe5e23885899a1fa44253a17956c6d1c3...</td>\n",
       "      <td>NaN</td>\n",
       "      <td>NaN</td>\n",
       "      <td>ACTIVE</td>\n",
       "      <td>NONE</td>\n",
       "      <td>49.0</td>\n",
       "      <td>52043ee2162cf5aa7ee79974281641c6f11a68d276429a...</td>\n",
       "    </tr>\n",
       "    <tr>\n",
       "      <th>1</th>\n",
       "      <td>0000423b00ade91418cceaf3b26c6af3dd342b51fd051e...</td>\n",
       "      <td>NaN</td>\n",
       "      <td>NaN</td>\n",
       "      <td>ACTIVE</td>\n",
       "      <td>NONE</td>\n",
       "      <td>25.0</td>\n",
       "      <td>2973abc54daa8a5f8ccfe9362140c63247c5eee03f1d93...</td>\n",
       "    </tr>\n",
       "    <tr>\n",
       "      <th>2</th>\n",
       "      <td>000058a12d5b43e67d225668fa1f8d618c13dc232df0ca...</td>\n",
       "      <td>NaN</td>\n",
       "      <td>NaN</td>\n",
       "      <td>ACTIVE</td>\n",
       "      <td>NONE</td>\n",
       "      <td>24.0</td>\n",
       "      <td>64f17e6a330a85798e4998f62d0930d14db8db1c054af6...</td>\n",
       "    </tr>\n",
       "    <tr>\n",
       "      <th>3</th>\n",
       "      <td>00005ca1c9ed5f5146b52ac8639a40ca9d57aeff4d1bd2...</td>\n",
       "      <td>NaN</td>\n",
       "      <td>NaN</td>\n",
       "      <td>ACTIVE</td>\n",
       "      <td>NONE</td>\n",
       "      <td>54.0</td>\n",
       "      <td>5d36574f52495e81f019b680c843c443bd343d5ca5b1c2...</td>\n",
       "    </tr>\n",
       "    <tr>\n",
       "      <th>4</th>\n",
       "      <td>00006413d8573cd20ed7128e53b7b13819fe5cfc2d801f...</td>\n",
       "      <td>1.0</td>\n",
       "      <td>1.0</td>\n",
       "      <td>ACTIVE</td>\n",
       "      <td>Regularly</td>\n",
       "      <td>52.0</td>\n",
       "      <td>25fa5ddee9aac01b35208d01736e57942317d756b32ddd...</td>\n",
       "    </tr>\n",
       "  </tbody>\n",
       "</table>\n",
       "</div>"
      ],
      "text/plain": [
       "                                         customer_id   FN  Active  \\\n",
       "0  00000dbacae5abe5e23885899a1fa44253a17956c6d1c3...  NaN     NaN   \n",
       "1  0000423b00ade91418cceaf3b26c6af3dd342b51fd051e...  NaN     NaN   \n",
       "2  000058a12d5b43e67d225668fa1f8d618c13dc232df0ca...  NaN     NaN   \n",
       "3  00005ca1c9ed5f5146b52ac8639a40ca9d57aeff4d1bd2...  NaN     NaN   \n",
       "4  00006413d8573cd20ed7128e53b7b13819fe5cfc2d801f...  1.0     1.0   \n",
       "\n",
       "  club_member_status fashion_news_frequency   age  \\\n",
       "0             ACTIVE                   NONE  49.0   \n",
       "1             ACTIVE                   NONE  25.0   \n",
       "2             ACTIVE                   NONE  24.0   \n",
       "3             ACTIVE                   NONE  54.0   \n",
       "4             ACTIVE              Regularly  52.0   \n",
       "\n",
       "                                         postal_code  \n",
       "0  52043ee2162cf5aa7ee79974281641c6f11a68d276429a...  \n",
       "1  2973abc54daa8a5f8ccfe9362140c63247c5eee03f1d93...  \n",
       "2  64f17e6a330a85798e4998f62d0930d14db8db1c054af6...  \n",
       "3  5d36574f52495e81f019b680c843c443bd343d5ca5b1c2...  \n",
       "4  25fa5ddee9aac01b35208d01736e57942317d756b32ddd...  "
      ]
     },
     "execution_count": 175,
     "metadata": {},
     "output_type": "execute_result"
    }
   ],
   "source": [
    "customers.head()"
   ]
  },
  {
   "cell_type": "code",
   "execution_count": 29,
   "metadata": {},
   "outputs": [
    {
     "name": "stdout",
     "output_type": "stream",
     "text": [
      "1048575\n",
      "(1048575, 7)\n"
     ]
    }
   ],
   "source": [
    "print(customers['customer_id'].nunique())\n",
    "print(customers.shape)"
   ]
  },
  {
   "cell_type": "code",
   "execution_count": 30,
   "metadata": {},
   "outputs": [
    {
     "data": {
      "text/plain": [
       "(1048575, 7)"
      ]
     },
     "execution_count": 30,
     "metadata": {},
     "output_type": "execute_result"
    }
   ],
   "source": [
    "customers.shape"
   ]
  },
  {
   "cell_type": "code",
   "execution_count": 32,
   "metadata": {},
   "outputs": [],
   "source": [
    "#full_data = pd.merge(product_transactions, customers, how = \"left\", left_on = \"customer_id\", right_on = \"customer_id\")"
   ]
  },
  {
   "cell_type": "code",
   "execution_count": 36,
   "metadata": {},
   "outputs": [],
   "source": [
    "###since we have already created and exported full_data to the directory, we need to reimport it\n",
    "\n",
    "full_data = pd.read_csv(\"C:/Users/ASUS/Documents/Exeter MSc in BA Learning/Business Project/H&M Dataset/full_data.csv\")"
   ]
  },
  {
   "cell_type": "markdown",
   "metadata": {},
   "source": [
    "**The full data must be cleaned to remove duplicate transactions**"
   ]
  },
  {
   "cell_type": "code",
   "execution_count": 41,
   "metadata": {},
   "outputs": [
    {
     "data": {
      "text/html": [
       "<div>\n",
       "<style scoped>\n",
       "    .dataframe tbody tr th:only-of-type {\n",
       "        vertical-align: middle;\n",
       "    }\n",
       "\n",
       "    .dataframe tbody tr th {\n",
       "        vertical-align: top;\n",
       "    }\n",
       "\n",
       "    .dataframe thead th {\n",
       "        text-align: right;\n",
       "    }\n",
       "</style>\n",
       "<table border=\"1\" class=\"dataframe\">\n",
       "  <thead>\n",
       "    <tr style=\"text-align: right;\">\n",
       "      <th></th>\n",
       "      <th>Unnamed: 0</th>\n",
       "      <th>t_dat</th>\n",
       "      <th>customer_id</th>\n",
       "      <th>article_id</th>\n",
       "      <th>price</th>\n",
       "      <th>sales_channel_id</th>\n",
       "      <th>product_code</th>\n",
       "      <th>prod_name</th>\n",
       "      <th>product_type_name</th>\n",
       "      <th>product_group_name</th>\n",
       "      <th>...</th>\n",
       "      <th>department_name</th>\n",
       "      <th>index_name</th>\n",
       "      <th>section_name</th>\n",
       "      <th>garment_group_name</th>\n",
       "      <th>detail_desc</th>\n",
       "      <th>transaction_custdat_id</th>\n",
       "      <th>Active</th>\n",
       "      <th>club_member_status</th>\n",
       "      <th>fashion_news_frequency</th>\n",
       "      <th>age</th>\n",
       "    </tr>\n",
       "  </thead>\n",
       "  <tbody>\n",
       "    <tr>\n",
       "      <th>384670</th>\n",
       "      <td>384670</td>\n",
       "      <td>2018-12-17</td>\n",
       "      <td>c2f0cdda2dc3042ccd9fcd8253fd8e368769840581e40a...</td>\n",
       "      <td>706733001</td>\n",
       "      <td>0.050831</td>\n",
       "      <td>2</td>\n",
       "      <td>706733</td>\n",
       "      <td>Cross Cardigan</td>\n",
       "      <td>Cardigan</td>\n",
       "      <td>Garment Upper body</td>\n",
       "      <td>...</td>\n",
       "      <td>Jersey inactive from s1</td>\n",
       "      <td>Menswear</td>\n",
       "      <td>Contemporary Street</td>\n",
       "      <td>Jersey Fancy</td>\n",
       "      <td>Cardigan in lightweight sweatshirt fabric with...</td>\n",
       "      <td>c2f0cdda2dc3042ccd9fcd8253fd8e368769840581e40a...</td>\n",
       "      <td>NaN</td>\n",
       "      <td>ACTIVE</td>\n",
       "      <td>NONE</td>\n",
       "      <td>52.0</td>\n",
       "    </tr>\n",
       "    <tr>\n",
       "      <th>384671</th>\n",
       "      <td>384671</td>\n",
       "      <td>2018-12-17</td>\n",
       "      <td>c2f0cdda2dc3042ccd9fcd8253fd8e368769840581e40a...</td>\n",
       "      <td>706733001</td>\n",
       "      <td>0.050831</td>\n",
       "      <td>2</td>\n",
       "      <td>706733</td>\n",
       "      <td>Cross Cardigan</td>\n",
       "      <td>Cardigan</td>\n",
       "      <td>Garment Upper body</td>\n",
       "      <td>...</td>\n",
       "      <td>Jersey inactive from s1</td>\n",
       "      <td>Menswear</td>\n",
       "      <td>Contemporary Street</td>\n",
       "      <td>Jersey Fancy</td>\n",
       "      <td>Cardigan in lightweight sweatshirt fabric with...</td>\n",
       "      <td>c2f0cdda2dc3042ccd9fcd8253fd8e368769840581e40a...</td>\n",
       "      <td>NaN</td>\n",
       "      <td>ACTIVE</td>\n",
       "      <td>NONE</td>\n",
       "      <td>52.0</td>\n",
       "    </tr>\n",
       "    <tr>\n",
       "      <th>384672</th>\n",
       "      <td>384672</td>\n",
       "      <td>2018-12-17</td>\n",
       "      <td>c2f0cdda2dc3042ccd9fcd8253fd8e368769840581e40a...</td>\n",
       "      <td>706733001</td>\n",
       "      <td>0.050831</td>\n",
       "      <td>2</td>\n",
       "      <td>706733</td>\n",
       "      <td>Cross Cardigan</td>\n",
       "      <td>Cardigan</td>\n",
       "      <td>Garment Upper body</td>\n",
       "      <td>...</td>\n",
       "      <td>Jersey inactive from s1</td>\n",
       "      <td>Menswear</td>\n",
       "      <td>Contemporary Street</td>\n",
       "      <td>Jersey Fancy</td>\n",
       "      <td>Cardigan in lightweight sweatshirt fabric with...</td>\n",
       "      <td>c2f0cdda2dc3042ccd9fcd8253fd8e368769840581e40a...</td>\n",
       "      <td>NaN</td>\n",
       "      <td>ACTIVE</td>\n",
       "      <td>NONE</td>\n",
       "      <td>52.0</td>\n",
       "    </tr>\n",
       "  </tbody>\n",
       "</table>\n",
       "<p>3 rows × 25 columns</p>\n",
       "</div>"
      ],
      "text/plain": [
       "        Unnamed: 0       t_dat  \\\n",
       "384670      384670  2018-12-17   \n",
       "384671      384671  2018-12-17   \n",
       "384672      384672  2018-12-17   \n",
       "\n",
       "                                              customer_id  article_id  \\\n",
       "384670  c2f0cdda2dc3042ccd9fcd8253fd8e368769840581e40a...   706733001   \n",
       "384671  c2f0cdda2dc3042ccd9fcd8253fd8e368769840581e40a...   706733001   \n",
       "384672  c2f0cdda2dc3042ccd9fcd8253fd8e368769840581e40a...   706733001   \n",
       "\n",
       "           price  sales_channel_id  product_code       prod_name  \\\n",
       "384670  0.050831                 2        706733  Cross Cardigan   \n",
       "384671  0.050831                 2        706733  Cross Cardigan   \n",
       "384672  0.050831                 2        706733  Cross Cardigan   \n",
       "\n",
       "       product_type_name  product_group_name  ...          department_name  \\\n",
       "384670          Cardigan  Garment Upper body  ...  Jersey inactive from s1   \n",
       "384671          Cardigan  Garment Upper body  ...  Jersey inactive from s1   \n",
       "384672          Cardigan  Garment Upper body  ...  Jersey inactive from s1   \n",
       "\n",
       "        index_name         section_name garment_group_name  \\\n",
       "384670    Menswear  Contemporary Street       Jersey Fancy   \n",
       "384671    Menswear  Contemporary Street       Jersey Fancy   \n",
       "384672    Menswear  Contemporary Street       Jersey Fancy   \n",
       "\n",
       "                                              detail_desc  \\\n",
       "384670  Cardigan in lightweight sweatshirt fabric with...   \n",
       "384671  Cardigan in lightweight sweatshirt fabric with...   \n",
       "384672  Cardigan in lightweight sweatshirt fabric with...   \n",
       "\n",
       "                                   transaction_custdat_id Active  \\\n",
       "384670  c2f0cdda2dc3042ccd9fcd8253fd8e368769840581e40a...    NaN   \n",
       "384671  c2f0cdda2dc3042ccd9fcd8253fd8e368769840581e40a...    NaN   \n",
       "384672  c2f0cdda2dc3042ccd9fcd8253fd8e368769840581e40a...    NaN   \n",
       "\n",
       "       club_member_status fashion_news_frequency   age  \n",
       "384670             ACTIVE                   NONE  52.0  \n",
       "384671             ACTIVE                   NONE  52.0  \n",
       "384672             ACTIVE                   NONE  52.0  \n",
       "\n",
       "[3 rows x 25 columns]"
      ]
     },
     "execution_count": 41,
     "metadata": {},
     "output_type": "execute_result"
    }
   ],
   "source": [
    "full_data[full_data['transaction_custdat_id'] == 'c2f0cdda2dc3042ccd9fcd8253fd8e368769840581e40aab1d87a64ff39987e32018-12-17'].head(3)"
   ]
  },
  {
   "cell_type": "markdown",
   "metadata": {},
   "source": [
    "We can see that there are multiple transactions isntances of the same product code. Some customers seemed to buy the same product in bulk volume. We have to confirm if the product_code represents unique items. If yes, then we can reduce the dataframe to unique items per record and create another variable called quantity of products for each unique product."
   ]
  },
  {
   "cell_type": "code",
   "execution_count": 42,
   "metadata": {},
   "outputs": [
    {
     "data": {
      "text/plain": [
       "909708"
      ]
     },
     "execution_count": 42,
     "metadata": {},
     "output_type": "execute_result"
    }
   ],
   "source": [
    "full_data['transaction_custdat_id'].nunique()"
   ]
  },
  {
   "cell_type": "code",
   "execution_count": 49,
   "metadata": {},
   "outputs": [
    {
     "name": "stdout",
     "output_type": "stream",
     "text": [
      "39160\n",
      "128\n",
      "30\n",
      "19\n",
      "21\n"
     ]
    }
   ],
   "source": [
    "#Let us confirm if product code indicates unique products\n",
    "print(full_data['prod_name'].nunique())\n",
    "print(full_data['product_type_name'].nunique())\n",
    "print(full_data['graphical_appearance_name'].nunique())\n",
    "print(full_data['product_group_name'].nunique())\n",
    "print(full_data['garment_group_name'].nunique())"
   ]
  },
  {
   "cell_type": "markdown",
   "metadata": {},
   "source": [
    "**The garment_group_name is a broder category while the others are granular category**"
   ]
  },
  {
   "cell_type": "markdown",
   "metadata": {},
   "source": [
    "The full_data is cleaned for duplicates using groupby and size. The same data is written to a folder. So we can import the file and reuse it directly."
   ]
  },
  {
   "cell_type": "code",
   "execution_count": 69,
   "metadata": {},
   "outputs": [],
   "source": [
    "x_data = full_data.groupby(['t_dat', 'customer_id', 'article_id', 'product_code',\n",
    "       'prod_name', 'product_type_name', 'product_group_name',\n",
    "       'graphical_appearance_name', 'colour_group_name',\n",
    "       'perceived_colour_value_name', 'perceived_colour_master_name',\n",
    "       'department_name', 'index_name', 'section_name', 'garment_group_name',\n",
    "       'detail_desc', 'transaction_custdat_id', 'club_member_status',\n",
    "       'fashion_news_frequency', 'age']).size().reset_index().\\\n",
    "    rename(columns={0:'records'})"
   ]
  },
  {
   "cell_type": "code",
   "execution_count": 85,
   "metadata": {},
   "outputs": [],
   "source": [
    "#x_data.to_csv(\"C:/Users/ASUS/Documents/Exeter MSc in BA Learning/Business Project/H&M Dataset/x_data_1.csv\")"
   ]
  },
  {
   "cell_type": "code",
   "execution_count": 117,
   "metadata": {},
   "outputs": [],
   "source": [
    "x_data = pd.read_csv(\"C:/Users/ASUS/Documents/Exeter MSc in BA Learning/Business Project/H&M Dataset/x_data.csv\")"
   ]
  },
  {
   "cell_type": "code",
   "execution_count": 51,
   "metadata": {},
   "outputs": [
    {
     "data": {
      "text/plain": [
       "(2153323, 22)"
      ]
     },
     "execution_count": 51,
     "metadata": {},
     "output_type": "execute_result"
    }
   ],
   "source": [
    "x_data.shape"
   ]
  },
  {
   "cell_type": "code",
   "execution_count": 52,
   "metadata": {},
   "outputs": [
    {
     "data": {
      "text/plain": [
       "75c54a755b8a467e53e0a4e01833deb029734feb22ad25438137925123a38f8b2018-09-29    159\n",
       "898ede9fb639eb2aedb2d1d433eea958817e2bbb9f94524b3a0709af6fb5257e2019-11-12     76\n",
       "898ede9fb639eb2aedb2d1d433eea958817e2bbb9f94524b3a0709af6fb5257e2019-02-21     59\n",
       "8449c2d5192fde129f3a0fbe67998bbb8a55d4253082eeb4c832ce9635cf88262018-10-21     55\n",
       "2e17f6f8bec3ab2ab14b071c6afa907606699cd67aeb4cedbda13b2809b3a7132019-04-06     54\n",
       "                                                                             ... \n",
       "37798cf63f06852670e3fb95c07d13ab209135ccf957e0a226a8592a792f9cb52018-11-18      1\n",
       "562778970727dbadf22096a20e5d9e003f021498d1650bb91908de2cfa39d94e2019-06-25      1\n",
       "b29c6fff0b591d9da29215d2e7a02eb661973dc1a2ca382ff6f81ae57613fd632019-04-16      1\n",
       "8906e525a1875205f696ae5b69ff63bafbec40e54903c3edec562dc4c9c6c97f2019-12-29      1\n",
       "b8e01b89a9e3011f26771fc0281c11d6fdd32af6cf5bf394879a2f97c1b87f692020-03-20      1\n",
       "Name: transaction_custdat_id, Length: 685925, dtype: int64"
      ]
     },
     "execution_count": 52,
     "metadata": {},
     "output_type": "execute_result"
    }
   ],
   "source": [
    "x_data['transaction_custdat_id'].value_counts()"
   ]
  },
  {
   "cell_type": "code",
   "execution_count": 57,
   "metadata": {},
   "outputs": [],
   "source": [
    "x_data['unique_id_items'] = x_data['transaction_custdat_id'] + str(x_data['article_id'])"
   ]
  },
  {
   "cell_type": "code",
   "execution_count": 60,
   "metadata": {},
   "outputs": [
    {
     "name": "stdout",
     "output_type": "stream",
     "text": [
      "685925\n",
      "685925\n"
     ]
    }
   ],
   "source": [
    "print(x_data['transaction_custdat_id'].nunique())\n",
    "print(x_data['unique_id_items'].nunique())"
   ]
  },
  {
   "cell_type": "markdown",
   "metadata": {},
   "source": [
    "This confirms that all the transactions are unique transactions of uniques article ids."
   ]
  },
  {
   "cell_type": "markdown",
   "metadata": {},
   "source": [
    "**We have the merged total data of customers, products and transactions but we need to do step by step analysis on these data variables.**"
   ]
  },
  {
   "cell_type": "markdown",
   "metadata": {},
   "source": [
    "### Step 1: Customer data analysis"
   ]
  },
  {
   "cell_type": "markdown",
   "metadata": {},
   "source": [
    "**In order to understand the customer segments by different approaches, we need to arrange the data with lots of grouping and regrouping**"
   ]
  },
  {
   "cell_type": "markdown",
   "metadata": {},
   "source": [
    "**Analysis of basket size across different age groups, fashion news consumption. Can the pattern be realted for inclusivity across different age groups and choices?**"
   ]
  },
  {
   "cell_type": "code",
   "execution_count": 62,
   "metadata": {},
   "outputs": [],
   "source": [
    "###Let us take the whole data x_data, group by customer_ids and analyse variation of fashion news frequency and memberships.\n",
    "x_data.columns\n",
    "fashion_news_data = pd.DataFrame(x_data.groupby('customer_id')[['fashion_news_frequency','club_member_status']].max())\n",
    "fashion_news_data.reset_index(inplace = True)"
   ]
  },
  {
   "cell_type": "code",
   "execution_count": 64,
   "metadata": {},
   "outputs": [
    {
     "data": {
      "text/html": [
       "<div>\n",
       "<style scoped>\n",
       "    .dataframe tbody tr th:only-of-type {\n",
       "        vertical-align: middle;\n",
       "    }\n",
       "\n",
       "    .dataframe tbody tr th {\n",
       "        vertical-align: top;\n",
       "    }\n",
       "\n",
       "    .dataframe thead th {\n",
       "        text-align: right;\n",
       "    }\n",
       "</style>\n",
       "<table border=\"1\" class=\"dataframe\">\n",
       "  <thead>\n",
       "    <tr style=\"text-align: right;\">\n",
       "      <th>club_member_status</th>\n",
       "      <th>ACTIVE</th>\n",
       "      <th>LEFT CLUB</th>\n",
       "      <th>PRE-CREATE</th>\n",
       "      <th>Total</th>\n",
       "    </tr>\n",
       "    <tr>\n",
       "      <th>fashion_news_frequency</th>\n",
       "      <th></th>\n",
       "      <th></th>\n",
       "      <th></th>\n",
       "      <th></th>\n",
       "    </tr>\n",
       "  </thead>\n",
       "  <tbody>\n",
       "    <tr>\n",
       "      <th>Monthly</th>\n",
       "      <td>76</td>\n",
       "      <td>0</td>\n",
       "      <td>5</td>\n",
       "      <td>81</td>\n",
       "    </tr>\n",
       "    <tr>\n",
       "      <th>NONE</th>\n",
       "      <td>59219</td>\n",
       "      <td>37</td>\n",
       "      <td>5986</td>\n",
       "      <td>65242</td>\n",
       "    </tr>\n",
       "    <tr>\n",
       "      <th>Regularly</th>\n",
       "      <td>35759</td>\n",
       "      <td>0</td>\n",
       "      <td>438</td>\n",
       "      <td>36197</td>\n",
       "    </tr>\n",
       "    <tr>\n",
       "      <th>Total</th>\n",
       "      <td>95054</td>\n",
       "      <td>37</td>\n",
       "      <td>6429</td>\n",
       "      <td>101520</td>\n",
       "    </tr>\n",
       "  </tbody>\n",
       "</table>\n",
       "</div>"
      ],
      "text/plain": [
       "club_member_status      ACTIVE  LEFT CLUB  PRE-CREATE   Total\n",
       "fashion_news_frequency                                       \n",
       "Monthly                     76          0           5      81\n",
       "NONE                     59219         37        5986   65242\n",
       "Regularly                35759          0         438   36197\n",
       "Total                    95054         37        6429  101520"
      ]
     },
     "execution_count": 64,
     "metadata": {},
     "output_type": "execute_result"
    }
   ],
   "source": [
    "##Let's create cross tab of fashion_news_frequency and club_member_status\n",
    "##Let us check the variation of product_type_name and prod_name across product_group_name by using chi square test\n",
    "# create contingency table\n",
    "fnandmembership_crosstab = pd.crosstab(fashion_news_data['fashion_news_frequency'],\n",
    "                            fashion_news_data['club_member_status'],\n",
    "                           margins=True, margins_name=\"Total\")\n",
    "fnandmembership_crosstab"
   ]
  },
  {
   "cell_type": "code",
   "execution_count": 207,
   "metadata": {},
   "outputs": [
    {
     "name": "stdout",
     "output_type": "stream",
     "text": [
      "Approach 1: The p-value approach to hypothesis testing in the decision rule\n",
      "chisquare-score is: 2512.8378366793804  and p value is: 0.0\n",
      "Null Hypothesis is rejected.\n"
     ]
    }
   ],
   "source": [
    "##Doing chi-square test of fashion_news_frequency and membership_status to check association\n",
    "# significance level\n",
    "alpha = 0.05\n",
    "\n",
    "# Calcualtion of Chisquare\n",
    "chi_square = 0\n",
    "rows = fashion_news_data['fashion_news_frequency'].unique()\n",
    "columns = fashion_news_data['club_member_status'].unique()\n",
    "for i in columns:\n",
    "    for j in rows:\n",
    "        O = fnandmembership_crosstab[i][j]\n",
    "        E = fnandmembership_crosstab[i]['Total'] * fnandmembership_crosstab['Total'][j] / fnandmembership_crosstab['Total']['Total']\n",
    "        chi_square += (O-E)**2/E\n",
    "\n",
    "# The p-value approach\n",
    "print(\"Approach 1: The p-value approach to hypothesis testing in the decision rule\")\n",
    "p_value = 1 - stats.chi2.cdf(chi_square, (len(rows)-1)*(len(columns)-1))\n",
    "conclusion = \"Failed to reject the null hypothesis.\"\n",
    "if p_value <= alpha:\n",
    "    conclusion = \"Null Hypothesis is rejected.\"\n",
    "        \n",
    "print(\"chisquare-score is:\", chi_square, \" and p value is:\", p_value)\n",
    "print(conclusion)"
   ]
  },
  {
   "cell_type": "markdown",
   "metadata": {},
   "source": [
    "**We get that there is significant association of fashion_news_frequency and membership_status and from the cross tab we get the largest segments are Active members with no fashion news consumption, Active members with regular fashion news consumption, Pre-create members with no fashion news consumption. These are segments we pick for further analysis.**"
   ]
  },
  {
   "cell_type": "code",
   "execution_count": 66,
   "metadata": {},
   "outputs": [
    {
     "name": "stderr",
     "output_type": "stream",
     "text": [
      "C:\\Users\\ASUS\\anaconda3\\lib\\site-packages\\seaborn\\distributions.py:2551: FutureWarning: `distplot` is a deprecated function and will be removed in a future version. Please adapt your code to use either `displot` (a figure-level function with similar flexibility) or `histplot` (an axes-level function for histograms).\n",
      "  warnings.warn(msg, FutureWarning)\n"
     ]
    },
    {
     "data": {
      "text/plain": [
       "Text(0.5, 1.0, 'Age Histogram with Density Plot')"
      ]
     },
     "execution_count": 66,
     "metadata": {},
     "output_type": "execute_result"
    },
    {
     "data": {
      "image/png": "[encoded data removed]",
      "text/plain": [
       "<Figure size 432x288 with 1 Axes>"
      ]
     },
     "metadata": {
      "needs_background": "light"
     },
     "output_type": "display_data"
    }
   ],
   "source": [
    "age = sns.distplot(x_data[\"age\"])\n",
    "age.set_title('Age Histogram with Density Plot') "
   ]
  },
  {
   "cell_type": "code",
   "execution_count": 78,
   "metadata": {},
   "outputs": [],
   "source": [
    "###Extract the top 10 frequently brought products by different customers for each different segment.\n",
    "#x_data.columns\n",
    "x_dataseg1a = x_data[(x_data['memberships_and_FN'] == 'Active_Idlers') & (x_data['age_bracket'] == 'Gen_Z')]\n",
    "x_dataseg1b = x_data[(x_data['memberships_and_FN'] == 'Active_Idlers') & (x_data['age_bracket'] == 'Young_millenials')]\n",
    "x_dataseg1c = x_data[(x_data['memberships_and_FN'] == 'Active_Idlers') & (x_data['age_bracket'] == 'Gen_X_and_Y')]\n",
    "x_dataseg1d = x_data[(x_data['memberships_and_FN'] == 'Active_Idlers') & (x_data['age_bracket'] == 'Baby_Boomers_X')]\n",
    "x_dataseg2a = x_data[(x_data['memberships_and_FN'] == 'Active_fashionishtas') & (x_data['age_bracket'] == 'Gen_Z')]\n",
    "x_dataseg2b = x_data[(x_data['memberships_and_FN'] == 'Active_fashionishtas') & (x_data['age_bracket'] == 'Young_millenials')]\n",
    "x_dataseg2c = x_data[(x_data['memberships_and_FN'] == 'Active_fashionishtas') & (x_data['age_bracket'] == 'Gen_X_and_Y')]\n",
    "x_dataseg2d = x_data[(x_data['memberships_and_FN'] == 'Active_fashionishtas') & (x_data['age_bracket'] == 'Baby_Boomers_X')]\n",
    "#x_dataseg3a = x_data[(x_data['memberships_and_FN'] == 'Prospect_Fashionistas') & (x_data['age_bracket'] == 'Gen_Z')]\n",
    "#x_dataseg3b = x_data[(x_data['memberships_and_FN'] == 'Prospect_Fashionistas') & (x_data['age_bracket'] == 'Young_millenials')]\n",
    "#x_dataseg3c = x_data[(x_data['memberships_and_FN'] == 'Prospect_Fashionistas') & (x_data['age_bracket'] == 'Gen_X_and_Y')]\n",
    "#x_dataseg3d = x_data[(x_data['memberships_and_FN'] == 'Prospect_Fashionistas') & (x_data['age_bracket'] == 'Baby_Boomers_X')]\n",
    "#x_dataseg4a = x_data[(x_data['memberships_and_FN'] == 'Prospect_Idlers') & (x_data['age_bracket'] == 'Gen_z')]\n",
    "x_dataseg4b = x_data[(x_data['memberships_and_FN'] == 'Prospect_Idlers') & (x_data['age_bracket'] == 'Young_millenials')]\n",
    "x_dataseg4c = x_data[(x_data['memberships_and_FN'] == 'Prospect_Idlers') & (x_data['age_bracket'] == 'Gen_X_and_Y')]\n",
    "x_dataseg4d = x_data[(x_data['memberships_and_FN'] == 'Prospect_Idlers') & (x_data['age_bracket'] == 'Baby_Boomers_X')]"
   ]
  },
  {
   "cell_type": "code",
   "execution_count": 79,
   "metadata": {},
   "outputs": [],
   "source": [
    "x_dataseg2a =  x_data[(x_data['memberships_and_FN'] == 'Active_fashionishtas') & (x_data['age_bracket'] == 'Gen_Z')]"
   ]
  },
  {
   "cell_type": "code",
   "execution_count": 80,
   "metadata": {},
   "outputs": [],
   "source": [
    "x_dataseg3a = x_data[(x_data['memberships_and_FN'] == 'Prospect_Fashionistas') & (x_data['age_bracket'] == 'Gen_Z')]\n",
    "x_dataseg3a.head()\n",
    "x_dataseg3b = x_data[(x_data['memberships_and_FN'] == 'Prospect_Fashionistas') & (x_data['age_bracket'] == 'Young_millenials')]\n",
    "x_dataseg3c = x_data[(x_data['memberships_and_FN'] == 'Prospect_Fashionistas') & (x_data['age_bracket'] == 'Gen_X_and_Y')]\n",
    "x_dataseg3d = x_data[(x_data['memberships_and_FN'] == 'Prospect_Fashionistas') & (x_data['age_bracket'] == 'Baby_Boomers_X')]\n",
    "x_dataseg4a = x_data[(x_data['memberships_and_FN'] == 'Prospect_Idlers') & (x_data['age_bracket'] == 'Gen_Z')]"
   ]
  },
  {
   "cell_type": "code",
   "execution_count": 81,
   "metadata": {},
   "outputs": [
    {
     "name": "stdout",
     "output_type": "stream",
     "text": [
      "Int64Index([706016001, 706016002, 759871002, 372860001, 464297007, 372860002,\n",
      "            610776002, 720125001, 448509014, 706016003],\n",
      "           dtype='int64')\n"
     ]
    }
   ],
   "source": [
    "##Most frequently brought products for each segments\n",
    "print(x_dataseg1a['article_id'].value_counts().sort_values(ascending = False).head(n=10).index)\n",
    "Active_Gen_Z_favs = x_dataseg1a['article_id'].value_counts().sort_values(ascending = False).head(n=10).index\n",
    "Active_millenial_favs = x_dataseg1b['article_id'].value_counts().sort_values(ascending = False).head(n=10).index\n",
    "Active_XandY_favs = x_dataseg1c['article_id'].value_counts().sort_values(ascending = False).head(n=10).index\n",
    "Active_Babyboomer_favs = x_dataseg1d['article_id'].value_counts().sort_values(ascending = False).head(n=10).index\n",
    "Activefashionishta_Gen_Z_favs = x_dataseg2a['article_id'].value_counts().sort_values(ascending = False).head(n=10).index\n",
    "Activefashionishta_millenial_favs = x_dataseg2b['article_id'].value_counts().sort_values(ascending = False).head(n=10).index\n",
    "Activefashionishta_XandY_favs = x_dataseg2c['article_id'].value_counts().sort_values(ascending = False).head(n=10).index\n",
    "Activefashionishta_Babyboomer_favs = x_dataseg2d['article_id'].value_counts().sort_values(ascending = False).head(n=10).index\n",
    "Prospectfashionishta_Gen_Z_favs = x_dataseg3a['article_id'].value_counts().sort_values(ascending = False).head(n=10).index\n",
    "Prospectfashionishta_favs = x_dataseg3b['article_id'].value_counts().sort_values(ascending = False).head(n=10).index\n",
    "Prospectfashionishta_XandY_favs = x_dataseg3c['article_id'].value_counts().sort_values(ascending = False).head(n=10).index\n",
    "Prospectfashionista_Babyboomer_favs = x_dataseg3d['article_id'].value_counts().sort_values(ascending = False).head(n=10).index\n",
    "Prospect_Gen_Z_favs = x_dataseg4a['article_id'].value_counts().sort_values(ascending = False).head(n=10).index\n",
    "Prospect_millenial_favs = x_dataseg4b['article_id'].value_counts().sort_values(ascending = False).head(n=10).index\n",
    "Prospect_XandY_favs = x_dataseg4c['article_id'].value_counts().sort_values(ascending = False).head(n=10).index\n",
    "Prospect_Babyboomer_favs = x_dataseg4d['article_id'].value_counts().sort_values(ascending = False).head(n=30).index"
   ]
  },
  {
   "cell_type": "code",
   "execution_count": 82,
   "metadata": {},
   "outputs": [
    {
     "data": {
      "text/plain": [
       "[0         2.000000\n",
       " 1        11.000000\n",
       " 2         5.500000\n",
       " 3         5.142857\n",
       " 4         6.166667\n",
       "            ...    \n",
       " 18423     3.000000\n",
       " 18424     3.000000\n",
       " 18425     2.800000\n",
       " 18426     2.000000\n",
       " 18427     1.000000\n",
       " Name: transaction_custdat_id, Length: 18428, dtype: float64]"
      ]
     },
     "execution_count": 82,
     "metadata": {},
     "output_type": "execute_result"
    }
   ],
   "source": [
    "###Check the hypothesis - •\tThe basket sizes of the customers significantly vary across age-groups/segments as created.\n",
    "Active_Gen_bs = pd.DataFrame(x_dataseg1a.groupby('customer_id')['transaction_custdat_id'].value_counts())\n",
    "Active_Gen_bs['index_tuple'] = Active_Gen_bs.index\n",
    "Active_Gen_bs['cust_id'] = Active_Gen_bs['index_tuple'].apply(lambda x: x[0])\n",
    "Active_Gen_bs['trans_id'] = Active_Gen_bs['index_tuple'].apply(lambda x: x[1])\n",
    "Active_Gen_bs = Active_Gen_bs[['cust_id', 'trans_id', 'transaction_custdat_id']]\n",
    "active_genz_bsize = Active_Gen_bs.groupby('cust_id')['transaction_custdat_id'].mean()\n",
    "#.reset_index()['transaction_custdat_id'].mean()\n",
    "type([pd.DataFrame(active_genz_bsize.reset_index())['transaction_custdat_id']])\n",
    "[pd.DataFrame(active_genz_bsize.reset_index())['transaction_custdat_id']]"
   ]
  },
  {
   "cell_type": "code",
   "execution_count": 86,
   "metadata": {},
   "outputs": [
    {
     "name": "stdout",
     "output_type": "stream",
     "text": [
      "Index(['basketsizes'], dtype='object')\n",
      "<class 'pandas.core.frame.DataFrame'>\n",
      "Index(['basketsizes'], dtype='object')\n",
      "<class 'pandas.core.frame.DataFrame'>\n",
      "Index(['basketsizes'], dtype='object')\n",
      "<class 'pandas.core.frame.DataFrame'>\n",
      "Index(['basketsizes'], dtype='object')\n",
      "<class 'pandas.core.frame.DataFrame'>\n",
      "Index(['basketsizes'], dtype='object')\n",
      "<class 'pandas.core.frame.DataFrame'>\n",
      "Index(['basketsizes'], dtype='object')\n",
      "<class 'pandas.core.frame.DataFrame'>\n",
      "Index(['basketsizes'], dtype='object')\n",
      "<class 'pandas.core.frame.DataFrame'>\n",
      "Index(['basketsizes'], dtype='object')\n",
      "<class 'pandas.core.frame.DataFrame'>\n",
      "Index(['basketsizes'], dtype='object')\n",
      "<class 'pandas.core.frame.DataFrame'>\n",
      "Index(['basketsizes'], dtype='object')\n",
      "<class 'pandas.core.frame.DataFrame'>\n",
      "Index(['basketsizes'], dtype='object')\n",
      "<class 'pandas.core.frame.DataFrame'>\n",
      "Index(['basketsizes'], dtype='object')\n",
      "<class 'pandas.core.frame.DataFrame'>\n",
      "Index(['basketsizes'], dtype='object')\n",
      "<class 'pandas.core.frame.DataFrame'>\n",
      "Index(['basketsizes'], dtype='object')\n",
      "<class 'pandas.core.frame.DataFrame'>\n",
      "Index(['basketsizes'], dtype='object')\n",
      "<class 'pandas.core.frame.DataFrame'>\n",
      "Index(['basketsizes'], dtype='object')\n",
      "<class 'pandas.core.frame.DataFrame'>\n"
     ]
    }
   ],
   "source": [
    "segmentnames = ['Active_Gen_Z', 'Active_millenial', 'Active_XandY', 'Active_Babyboomer', 'Activefashionishta_Gen_Z', 'Activefashionishta_millenial',\n",
    "               'Activefashionishta_XandY', 'Activefashionishta_Babyboomer', 'Prospectfashionishta_Gen_Z','Prospectfashionishta_millenial' , \n",
    "                'Prospectfashionishta_XandY', 'Prospectfashionista_Babyboomer','Prospect_Gen_Z' , 'Prospect_millenial', 'Prospect_XandY',\n",
    "               'Prospect_Babyboomer']\n",
    "basketsizes = []\n",
    "\n",
    "for a in [x_dataseg1a, x_dataseg1b, x_dataseg1c, x_dataseg1d, x_dataseg2a, x_dataseg2b,  x_dataseg2c,  x_dataseg2d, x_dataseg3a,\n",
    "          x_dataseg3b, x_dataseg3c, x_dataseg3d, x_dataseg4a,\n",
    "           x_dataseg4b, x_dataseg4c, x_dataseg4d] :\n",
    "    a_bs = pd.DataFrame(a.groupby('customer_id')['transaction_custdat_id'].value_counts())\n",
    "    a_bs['index_tuple'] = a_bs.index\n",
    "    a_bs['cust_id'] = a_bs['index_tuple'].apply(lambda x: x[0])\n",
    "    a_bs['trans_id'] = a_bs['index_tuple'].apply(lambda x: x[1])\n",
    "    a_bs = a_bs[['cust_id', 'trans_id', 'transaction_custdat_id']]\n",
    "    a_bsize = a_bs.groupby('cust_id')['transaction_custdat_id'].mean()\n",
    "    a_bsize = pd.DataFrame(a_bsize)\n",
    "    a_bsize['basketsizes'] = a_bsize['transaction_custdat_id']\n",
    "    a_bsize = a_bsize.drop('transaction_custdat_id', axis = 1)\n",
    "    print(a_bsize.columns)\n",
    "    basketsizes.append(a_bsize)\n",
    "    print(type(a_bsize))\n",
    "    #a_list = pd.DataFrame(a_bsize.reset_index())['transaction_custdat_id'].tolist()\n",
    "    #basketsizes.append(a_list)\n",
    "    \n",
    "#segment_vs_baskets = pd.DataFrame({'segmentnames': segmentnames, 'basketsizes': basketsizes })"
   ]
  },
  {
   "cell_type": "code",
   "execution_count": 88,
   "metadata": {},
   "outputs": [],
   "source": [
    "segmentandbasketsizes = pd.concat([basketsizes[0],basketsizes[1], basketsizes[2], basketsizes[3], basketsizes[4], basketsizes[5], basketsizes[6],\n",
    "          basketsizes[7], basketsizes[8], basketsizes[9], basketsizes[10], basketsizes[11], basketsizes[12],basketsizes[13], basketsizes[14], \n",
    "                                 basketsizes[15] ])\n",
    "segmentandbasketsizes.tail()\n",
    "segmentandbasketsizes['customer_id'] = segmentandbasketsizes.index"
   ]
  },
  {
   "cell_type": "code",
   "execution_count": 115,
   "metadata": {},
   "outputs": [],
   "source": [
    "##https://towardsdatascience.com/anova-test-with-python-cfbf4013328b\n",
    "#segmentandbasketsizes.to_csv(\"C:/Users/ASUS/Documents/Exeter MSc in BA Learning/Business Project/H&M Dataset/segmentandbasketsizes_1.csv\")\n",
    "segmentandbasketsizes = pd.read_csv(\"C:/Users/ASUS/Documents/Exeter MSc in BA Learning/Business Project/H&M Dataset/segmentandbasketsizes_1.csv\")"
   ]
  },
  {
   "cell_type": "code",
   "execution_count": 116,
   "metadata": {},
   "outputs": [
    {
     "name": "stdout",
     "output_type": "stream",
     "text": [
      "<class 'pandas.core.frame.DataFrame'>\n",
      "RangeIndex: 88733 entries, 0 to 88732\n",
      "Data columns (total 3 columns):\n",
      " #   Column       Non-Null Count  Dtype  \n",
      "---  ------       --------------  -----  \n",
      " 0   cust_id      88733 non-null  object \n",
      " 1   basketsizes  88733 non-null  float64\n",
      " 2   segment      88733 non-null  object \n",
      "dtypes: float64(1), object(2)\n",
      "memory usage: 2.0+ MB\n"
     ]
    }
   ],
   "source": [
    "segmentandbasketsizes.info()"
   ]
  },
  {
   "cell_type": "code",
   "execution_count": 67,
   "metadata": {},
   "outputs": [],
   "source": [
    "conditions = [\n",
    "    (x_data['age'] <= 25),\n",
    "    (x_data['age'] > 25) & (x_data['age'] <= 31),\n",
    "    (x_data['age'] > 31) & (x_data['age'] <= 48),\n",
    "    (x_data['age'] > 48)\n",
    "    ]\n",
    "values = ['Gen_Z', 'Young_millenials', 'Gen_X_and_Y', 'Baby_Boomers_X']"
   ]
  },
  {
   "cell_type": "code",
   "execution_count": 68,
   "metadata": {},
   "outputs": [],
   "source": [
    "x_data[\"age_bracket\"] = np.select(conditions, values)"
   ]
  },
  {
   "cell_type": "markdown",
   "metadata": {},
   "source": [
    "### Creating segments out of age_group, fashion news frequency and memberships.\n",
    "From the above analysis we see that all the segments across different fashion news consumption frequency and membership statuses are present across different age groups and there is significant association of the age brackets with membership stauses and fashion news consumption.\n",
    "\n",
    "So we need to retain all the four segments of FN consumption and memberships and analyse them across all the age brackets."
   ]
  },
  {
   "cell_type": "code",
   "execution_count": 69,
   "metadata": {},
   "outputs": [
    {
     "name": "stdout",
     "output_type": "stream",
     "text": [
      "Index(['t_dat', 'customer_id', 'article_id', 'price', 'sales_channel_id'], dtype='object')\n"
     ]
    }
   ],
   "source": [
    "#print(x_data.columns)\n",
    "#print(full_data.columns)\n",
    "print(transactions.columns)\n",
    "transactions['transaction_custdat_id'] = transactions['customer_id'] + transactions['t_dat']"
   ]
  },
  {
   "cell_type": "code",
   "execution_count": 92,
   "metadata": {},
   "outputs": [],
   "source": [
    "df1 = transactions.groupby('transaction_custdat_id')['price'].mean().reset_index()"
   ]
  },
  {
   "cell_type": "code",
   "execution_count": 93,
   "metadata": {},
   "outputs": [
    {
     "name": "stdout",
     "output_type": "stream",
     "text": [
      "Index(['transaction_custdat_id', 'price'], dtype='object')\n"
     ]
    }
   ],
   "source": [
    "print(df1.columns)\n",
    "#df1['mean_price_by_transactions'] = df1['price']\n",
    "#segemntandbasketsizes = segmentandbasketsizes.reset_index()"
   ]
  },
  {
   "cell_type": "code",
   "execution_count": 94,
   "metadata": {},
   "outputs": [],
   "source": [
    "df1 = df1.drop('price', axis = 1)"
   ]
  },
  {
   "cell_type": "code",
   "execution_count": 120,
   "metadata": {},
   "outputs": [],
   "source": [
    "segmentandbasketsizes['customer_id'] = segmentandbasketsizes['cust_id']"
   ]
  },
  {
   "cell_type": "code",
   "execution_count": 124,
   "metadata": {},
   "outputs": [],
   "source": [
    "x_data = pd.merge(x_data, df1, how='left', left_on='transaction_custdat_id', right_on='transaction_custdat_id')"
   ]
  },
  {
   "cell_type": "code",
   "execution_count": 123,
   "metadata": {},
   "outputs": [
    {
     "data": {
      "text/html": [
       "<div>\n",
       "<style scoped>\n",
       "    .dataframe tbody tr th:only-of-type {\n",
       "        vertical-align: middle;\n",
       "    }\n",
       "\n",
       "    .dataframe tbody tr th {\n",
       "        vertical-align: top;\n",
       "    }\n",
       "\n",
       "    .dataframe thead th {\n",
       "        text-align: right;\n",
       "    }\n",
       "</style>\n",
       "<table border=\"1\" class=\"dataframe\">\n",
       "  <thead>\n",
       "    <tr style=\"text-align: right;\">\n",
       "      <th></th>\n",
       "      <th>basketsizes</th>\n",
       "      <th>segment</th>\n",
       "      <th>customer_id</th>\n",
       "    </tr>\n",
       "  </thead>\n",
       "  <tbody>\n",
       "    <tr>\n",
       "      <th>0</th>\n",
       "      <td>2.000000</td>\n",
       "      <td>Active_Gen_Z</td>\n",
       "      <td>000300107f2d093ca1d2c5e2bd0a74f59f80005079338c...</td>\n",
       "    </tr>\n",
       "    <tr>\n",
       "      <th>1</th>\n",
       "      <td>11.000000</td>\n",
       "      <td>Active_Gen_Z</td>\n",
       "      <td>0003e9bbb9faf3937ad3a28a5bede5c1b896c1bc6c1035...</td>\n",
       "    </tr>\n",
       "    <tr>\n",
       "      <th>2</th>\n",
       "      <td>5.500000</td>\n",
       "      <td>Active_Gen_Z</td>\n",
       "      <td>00058592fc65afabbb00b1bb7d33c6b221d00c6a98c621...</td>\n",
       "    </tr>\n",
       "    <tr>\n",
       "      <th>3</th>\n",
       "      <td>5.142857</td>\n",
       "      <td>Active_Gen_Z</td>\n",
       "      <td>00058c11019467570a6918669b768392f7c9277b7ae4d8...</td>\n",
       "    </tr>\n",
       "    <tr>\n",
       "      <th>4</th>\n",
       "      <td>6.166667</td>\n",
       "      <td>Active_Gen_Z</td>\n",
       "      <td>000aa7f0dc06cd7174389e76c9e132a67860c5f65f9706...</td>\n",
       "    </tr>\n",
       "  </tbody>\n",
       "</table>\n",
       "</div>"
      ],
      "text/plain": [
       "   basketsizes       segment  \\\n",
       "0     2.000000  Active_Gen_Z   \n",
       "1    11.000000  Active_Gen_Z   \n",
       "2     5.500000  Active_Gen_Z   \n",
       "3     5.142857  Active_Gen_Z   \n",
       "4     6.166667  Active_Gen_Z   \n",
       "\n",
       "                                         customer_id  \n",
       "0  000300107f2d093ca1d2c5e2bd0a74f59f80005079338c...  \n",
       "1  0003e9bbb9faf3937ad3a28a5bede5c1b896c1bc6c1035...  \n",
       "2  00058592fc65afabbb00b1bb7d33c6b221d00c6a98c621...  \n",
       "3  00058c11019467570a6918669b768392f7c9277b7ae4d8...  \n",
       "4  000aa7f0dc06cd7174389e76c9e132a67860c5f65f9706...  "
      ]
     },
     "execution_count": 123,
     "metadata": {},
     "output_type": "execute_result"
    }
   ],
   "source": [
    "segmentandbasketsizes.head()\n",
    "#segmentandbasketsizes = segmentandbasketsizes.drop('cust_id', axis = 1)"
   ]
  },
  {
   "cell_type": "code",
   "execution_count": 126,
   "metadata": {},
   "outputs": [],
   "source": [
    "###So far the mean is calculated only by transactions, we need to calculated the mean by customer ids for \n",
    "###customer segmentation\n",
    "df2 = x_data.groupby('customer_id')['mean_price_by_transactions'].mean().reset_index()"
   ]
  },
  {
   "cell_type": "code",
   "execution_count": 135,
   "metadata": {},
   "outputs": [
    {
     "name": "stdout",
     "output_type": "stream",
     "text": [
      "Index(['customer_id', 'mean_price_by_customers'], dtype='object')\n"
     ]
    }
   ],
   "source": [
    "print(df2.columns)\n",
    "#df2['mean_price_by_customers'] = df2['mean_price_by_transactions']\n",
    "#df2 = df2.drop('mean_price_by_transactions', axis = 1)"
   ]
  },
  {
   "cell_type": "code",
   "execution_count": 156,
   "metadata": {},
   "outputs": [],
   "source": [
    "x_data = pd.merge(x_data, df2, how='left', left_on='customer_id', right_on='customer_id')"
   ]
  },
  {
   "cell_type": "code",
   "execution_count": 158,
   "metadata": {},
   "outputs": [],
   "source": [
    "#x_data = x_data.drop('mean_price_by_transactions_y', axis=1)\n",
    "#x_data.info()"
   ]
  },
  {
   "cell_type": "code",
   "execution_count": 112,
   "metadata": {},
   "outputs": [
    {
     "name": "stdout",
     "output_type": "stream",
     "text": [
      "<class 'pandas.core.frame.DataFrame'>\n",
      "RangeIndex: 88733 entries, 0 to 88732\n",
      "Data columns (total 3 columns):\n",
      " #   Column       Non-Null Count  Dtype  \n",
      "---  ------       --------------  -----  \n",
      " 0   basketsizes  88733 non-null  float64\n",
      " 1   segment      88733 non-null  object \n",
      " 2   customer_id  88733 non-null  object \n",
      "dtypes: float64(1), object(2)\n",
      "memory usage: 2.0+ MB\n"
     ]
    }
   ],
   "source": [
    "segmentandbasketsizes.info()\n",
    "#segmentandbasketsizes['customer_id'] = segmentandbasketsizes['customer_id'].astype(np.object)\n",
    "#segmentandbasketsizes = segmentandbasketsizes.drop('cutomer_id', axis = 1)"
   ]
  },
  {
   "cell_type": "code",
   "execution_count": 127,
   "metadata": {},
   "outputs": [],
   "source": [
    "x_data = pd.merge(x_data, segmentandbasketsizes, how='left', left_on='customer_id', right_on='customer_id')"
   ]
  },
  {
   "cell_type": "code",
   "execution_count": 139,
   "metadata": {},
   "outputs": [
    {
     "data": {
      "text/html": [
       "<div>\n",
       "<style scoped>\n",
       "    .dataframe tbody tr th:only-of-type {\n",
       "        vertical-align: middle;\n",
       "    }\n",
       "\n",
       "    .dataframe tbody tr th {\n",
       "        vertical-align: top;\n",
       "    }\n",
       "\n",
       "    .dataframe thead th {\n",
       "        text-align: right;\n",
       "    }\n",
       "</style>\n",
       "<table border=\"1\" class=\"dataframe\">\n",
       "  <thead>\n",
       "    <tr style=\"text-align: right;\">\n",
       "      <th></th>\n",
       "      <th>Unnamed: 0</th>\n",
       "      <th>article_id</th>\n",
       "      <th>product_code</th>\n",
       "      <th>age</th>\n",
       "      <th>records</th>\n",
       "      <th>mean_price_by_transactions_x</th>\n",
       "      <th>basketsizes</th>\n",
       "      <th>mean_price_by_customers</th>\n",
       "    </tr>\n",
       "  </thead>\n",
       "  <tbody>\n",
       "    <tr>\n",
       "      <th>count</th>\n",
       "      <td>2.153323e+06</td>\n",
       "      <td>2.153323e+06</td>\n",
       "      <td>2.153323e+06</td>\n",
       "      <td>2.153323e+06</td>\n",
       "      <td>2.153323e+06</td>\n",
       "      <td>2.153323e+06</td>\n",
       "      <td>1.892132e+06</td>\n",
       "      <td>2.153323e+06</td>\n",
       "    </tr>\n",
       "    <tr>\n",
       "      <th>mean</th>\n",
       "      <td>1.076661e+06</td>\n",
       "      <td>6.978807e+08</td>\n",
       "      <td>6.978807e+05</td>\n",
       "      <td>3.603249e+01</td>\n",
       "      <td>1.113179e+00</td>\n",
       "      <td>2.777465e-02</td>\n",
       "      <td>4.214454e+00</td>\n",
       "      <td>2.777465e-02</td>\n",
       "    </tr>\n",
       "    <tr>\n",
       "      <th>std</th>\n",
       "      <td>6.216110e+05</td>\n",
       "      <td>1.316234e+08</td>\n",
       "      <td>1.316234e+05</td>\n",
       "      <td>1.303306e+01</td>\n",
       "      <td>4.515770e-01</td>\n",
       "      <td>1.503271e-02</td>\n",
       "      <td>2.651405e+00</td>\n",
       "      <td>8.570505e-03</td>\n",
       "    </tr>\n",
       "    <tr>\n",
       "      <th>min</th>\n",
       "      <td>0.000000e+00</td>\n",
       "      <td>1.087750e+08</td>\n",
       "      <td>1.087750e+05</td>\n",
       "      <td>1.600000e+01</td>\n",
       "      <td>1.000000e+00</td>\n",
       "      <td>2.372881e-04</td>\n",
       "      <td>1.000000e+00</td>\n",
       "      <td>1.101695e-03</td>\n",
       "    </tr>\n",
       "    <tr>\n",
       "      <th>25%</th>\n",
       "      <td>5.383305e+05</td>\n",
       "      <td>6.340090e+08</td>\n",
       "      <td>6.340090e+05</td>\n",
       "      <td>2.500000e+01</td>\n",
       "      <td>1.000000e+00</td>\n",
       "      <td>1.862712e-02</td>\n",
       "      <td>2.500000e+00</td>\n",
       "      <td>2.246761e-02</td>\n",
       "    </tr>\n",
       "    <tr>\n",
       "      <th>50%</th>\n",
       "      <td>1.076661e+06</td>\n",
       "      <td>7.148240e+08</td>\n",
       "      <td>7.148240e+05</td>\n",
       "      <td>3.100000e+01</td>\n",
       "      <td>1.000000e+00</td>\n",
       "      <td>2.540678e-02</td>\n",
       "      <td>3.500000e+00</td>\n",
       "      <td>2.680667e-02</td>\n",
       "    </tr>\n",
       "    <tr>\n",
       "      <th>75%</th>\n",
       "      <td>1.614992e+06</td>\n",
       "      <td>7.876960e+08</td>\n",
       "      <td>7.876960e+05</td>\n",
       "      <td>4.800000e+01</td>\n",
       "      <td>1.000000e+00</td>\n",
       "      <td>3.388136e-02</td>\n",
       "      <td>5.050000e+00</td>\n",
       "      <td>3.182324e-02</td>\n",
       "    </tr>\n",
       "    <tr>\n",
       "      <th>max</th>\n",
       "      <td>2.153322e+06</td>\n",
       "      <td>9.537630e+08</td>\n",
       "      <td>9.537630e+05</td>\n",
       "      <td>9.900000e+01</td>\n",
       "      <td>1.060000e+02</td>\n",
       "      <td>5.915254e-01</td>\n",
       "      <td>4.800000e+01</td>\n",
       "      <td>4.220339e-01</td>\n",
       "    </tr>\n",
       "  </tbody>\n",
       "</table>\n",
       "</div>"
      ],
      "text/plain": [
       "         Unnamed: 0    article_id  product_code           age       records  \\\n",
       "count  2.153323e+06  2.153323e+06  2.153323e+06  2.153323e+06  2.153323e+06   \n",
       "mean   1.076661e+06  6.978807e+08  6.978807e+05  3.603249e+01  1.113179e+00   \n",
       "std    6.216110e+05  1.316234e+08  1.316234e+05  1.303306e+01  4.515770e-01   \n",
       "min    0.000000e+00  1.087750e+08  1.087750e+05  1.600000e+01  1.000000e+00   \n",
       "25%    5.383305e+05  6.340090e+08  6.340090e+05  2.500000e+01  1.000000e+00   \n",
       "50%    1.076661e+06  7.148240e+08  7.148240e+05  3.100000e+01  1.000000e+00   \n",
       "75%    1.614992e+06  7.876960e+08  7.876960e+05  4.800000e+01  1.000000e+00   \n",
       "max    2.153322e+06  9.537630e+08  9.537630e+05  9.900000e+01  1.060000e+02   \n",
       "\n",
       "       mean_price_by_transactions_x   basketsizes  mean_price_by_customers  \n",
       "count                  2.153323e+06  1.892132e+06             2.153323e+06  \n",
       "mean                   2.777465e-02  4.214454e+00             2.777465e-02  \n",
       "std                    1.503271e-02  2.651405e+00             8.570505e-03  \n",
       "min                    2.372881e-04  1.000000e+00             1.101695e-03  \n",
       "25%                    1.862712e-02  2.500000e+00             2.246761e-02  \n",
       "50%                    2.540678e-02  3.500000e+00             2.680667e-02  \n",
       "75%                    3.388136e-02  5.050000e+00             3.182324e-02  \n",
       "max                    5.915254e-01  4.800000e+01             4.220339e-01  "
      ]
     },
     "execution_count": 139,
     "metadata": {},
     "output_type": "execute_result"
    }
   ],
   "source": [
    "x_data.describe()"
   ]
  },
  {
   "cell_type": "code",
   "execution_count": 140,
   "metadata": {},
   "outputs": [],
   "source": [
    "x_data.to_csv(\"C:/Users/ASUS/Documents/Exeter MSc in BA Learning/Business Project/H&M Dataset/x_data.csv\")"
   ]
  },
  {
   "cell_type": "markdown",
   "metadata": {},
   "source": [
    "**From x data we have to summarize the customer information by grouping them by customer ids. Next we have to check whether we can do clustering on customer_data based on age, mean_pricebytransaction and basketsizes. We write the x_data_updatedSeptember dataset to a csv file and trnasfer it to R.**"
   ]
  },
  {
   "cell_type": "markdown",
   "metadata": {},
   "source": [
    "The data is tagged with the segments using R-code the same is stored in a directory as acsv file. This dataset can be used as input for the product association analysis. Thus the tagged data is imported back from the directory."
   ]
  },
  {
   "cell_type": "code",
   "execution_count": 11,
   "metadata": {},
   "outputs": [],
   "source": [
    "x_data_widsegments = pd.read_csv(\"C:/Users/ASUS/Documents/Exeter MSc in BA Learning/Business Project/H&M Dataset/x_data_widsegments.csv\")"
   ]
  }
 ],
 "metadata": {
  "kernelspec": {
   "display_name": "Python 3",
   "language": "python",
   "name": "python3"
  },
  "language_info": {
   "codemirror_mode": {
    "name": "ipython",
    "version": 3
   },
   "file_extension": ".py",
   "mimetype": "text/x-python",
   "name": "python",
   "nbconvert_exporter": "python",
   "pygments_lexer": "ipython3",
   "version": "3.8.5"
  }
 },
 "nbformat": 4,
 "nbformat_minor": 4
}
